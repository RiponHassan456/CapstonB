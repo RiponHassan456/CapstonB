{
 "cells": [
  {
   "cell_type": "code",
   "execution_count": 1,
   "id": "23d2d7f9",
   "metadata": {
    "_cell_guid": "b1076dfc-b9ad-4769-8c92-a6c4dae69d19",
    "_uuid": "8f2839f25d086af736a60e9eeb907d3b93b6e0e5",
    "execution": {
     "iopub.execute_input": "2025-10-27T02:12:30.123186Z",
     "iopub.status.busy": "2025-10-27T02:12:30.122963Z",
     "iopub.status.idle": "2025-10-27T02:13:05.806663Z",
     "shell.execute_reply": "2025-10-27T02:13:05.806005Z"
    },
    "papermill": {
     "duration": 35.68949,
     "end_time": "2025-10-27T02:13:05.808068",
     "exception": false,
     "start_time": "2025-10-27T02:12:30.118578",
     "status": "completed"
    },
    "tags": []
   },
   "outputs": [
    {
     "name": "stdout",
     "output_type": "stream",
     "text": [
      "\u001b[2K   \u001b[90m━━━━━━━━━━━━━━━━━━━━━━━━━━━━━━━━━━━━━━━━\u001b[0m \u001b[32m566.1/566.1 kB\u001b[0m \u001b[31m8.5 MB/s\u001b[0m eta \u001b[36m0:00:00\u001b[0m\r\n",
      "\u001b[?25h\u001b[31mERROR: pip's dependency resolver does not currently take into account all the packages that are installed. This behaviour is the source of the following dependency conflicts.\r\n",
      "datasets 4.1.1 requires pyarrow>=21.0.0, but you have pyarrow 19.0.1 which is incompatible.\r\n",
      "gradio 5.38.1 requires pydantic<2.12,>=2.0, but you have pydantic 2.12.0a1 which is incompatible.\u001b[0m\u001b[31m\r\n",
      "\u001b[0m"
     ]
    },
    {
     "name": "stderr",
     "output_type": "stream",
     "text": [
      "2025-10-27 02:12:52.711006: E external/local_xla/xla/stream_executor/cuda/cuda_fft.cc:477] Unable to register cuFFT factory: Attempting to register factory for plugin cuFFT when one has already been registered\n",
      "WARNING: All log messages before absl::InitializeLog() is called are written to STDERR\n",
      "E0000 00:00:1761531172.943651      19 cuda_dnn.cc:8310] Unable to register cuDNN factory: Attempting to register factory for plugin cuDNN when one has already been registered\n",
      "E0000 00:00:1761531173.004544      19 cuda_blas.cc:1418] Unable to register cuBLAS factory: Attempting to register factory for plugin cuBLAS when one has already been registered\n"
     ]
    }
   ],
   "source": [
    "# ===============================================================\n",
    "# 🌟 Colab GPU Optimized Resume Ranking & Analysis using BERT\n",
    "# ===============================================================\n",
    "\n",
    "# ✅ Install Transformers if not already installed\n",
    "!pip install transformers --quiet\n",
    "\n",
    "import torch\n",
    "from torch.utils.data import Dataset, DataLoader\n",
    "from torch import nn, optim\n",
    "from transformers import BertTokenizer, BertModel\n",
    "from sklearn.model_selection import train_test_split\n",
    "from sklearn.preprocessing import LabelEncoder\n",
    "from sklearn.metrics import classification_report, confusion_matrix, ConfusionMatrixDisplay, roc_curve, auc\n",
    "import pandas as pd\n",
    "import numpy as np\n",
    "import matplotlib.pyplot as plt\n",
    "from tqdm import tqdm\n",
    "import time"
   ]
  },
  {
   "cell_type": "code",
   "execution_count": 2,
   "id": "c9a12a0a",
   "metadata": {
    "execution": {
     "iopub.execute_input": "2025-10-27T02:13:05.816208Z",
     "iopub.status.busy": "2025-10-27T02:13:05.815480Z",
     "iopub.status.idle": "2025-10-27T02:13:05.819725Z",
     "shell.execute_reply": "2025-10-27T02:13:05.819173Z"
    },
    "papermill": {
     "duration": 0.008953,
     "end_time": "2025-10-27T02:13:05.820705",
     "exception": false,
     "start_time": "2025-10-27T02:13:05.811752",
     "status": "completed"
    },
    "tags": []
   },
   "outputs": [
    {
     "name": "stdout",
     "output_type": "stream",
     "text": [
      "✅ Device: cuda\n"
     ]
    }
   ],
   "source": [
    "# ======================\n",
    "# GPU Check\n",
    "# ======================\n",
    "device = \"cuda\" if torch.cuda.is_available() else \"cpu\"\n",
    "print(\"✅ Device:\", device)"
   ]
  },
  {
   "cell_type": "code",
   "execution_count": 3,
   "id": "b85cc3e0",
   "metadata": {
    "execution": {
     "iopub.execute_input": "2025-10-27T02:13:05.827941Z",
     "iopub.status.busy": "2025-10-27T02:13:05.827440Z",
     "iopub.status.idle": "2025-10-27T02:13:06.533435Z",
     "shell.execute_reply": "2025-10-27T02:13:06.532518Z"
    },
    "papermill": {
     "duration": 0.71087,
     "end_time": "2025-10-27T02:13:06.534713",
     "exception": false,
     "start_time": "2025-10-27T02:13:05.823843",
     "status": "completed"
    },
    "tags": []
   },
   "outputs": [
    {
     "name": "stdout",
     "output_type": "stream",
     "text": [
      "Columns in CSV: ['Role', 'Resume', 'Decision', 'Reason_for_decision', 'Job_Description']\n",
      "                         Role  \\\n",
      "0       E-commerce Specialist   \n",
      "1              Game Developer   \n",
      "2  Human Resources Specialist   \n",
      "3       E-commerce Specialist   \n",
      "4       E-commerce Specialist   \n",
      "\n",
      "                                              Resume Decision  \\\n",
      "0  Here's a professional resume for Jason Jones:\\...   reject   \n",
      "1  Here's a professional resume for Ann Marshall:...   select   \n",
      "2  Here's a professional resume for Patrick Mccla...   reject   \n",
      "3  Here's a professional resume for Patricia Gray...   select   \n",
      "4  Here's a professional resume for Amanda Gross:...   reject   \n",
      "\n",
      "                                 Reason_for_decision  \\\n",
      "0    Lacked leadership skills for a senior position.   \n",
      "1              Strong technical skills in AI and ML.   \n",
      "2  Insufficient system design expertise for senio...   \n",
      "3  Impressive leadership and communication abilit...   \n",
      "4    Lacked leadership skills for a senior position.   \n",
      "\n",
      "                                     Job_Description  \n",
      "0  Be part of a passionate team at the forefront ...  \n",
      "1  Help us build the next-generation products as ...  \n",
      "2  We need a Human Resources Specialist to enhanc...  \n",
      "3  Be part of a passionate team at the forefront ...  \n",
      "4  We are looking for an experienced E-commerce S...  \n",
      "\n",
      "Label mapping: {'reject': 0, 'select': 1}\n"
     ]
    }
   ],
   "source": [
    "\n",
    "\n",
    "# ======================\n",
    "# Load Dataset\n",
    "# ======================\n",
    "csv_path = \"/kaggle/input/cv-resume/dataset.csv\"  # Upload your dataset to Colab path\n",
    "df = pd.read_csv(csv_path)\n",
    "\n",
    "print(\"Columns in CSV:\", df.columns.tolist())\n",
    "print(df.head())\n",
    "\n",
    "texts = df[\"Resume\"].astype(str).tolist()\n",
    "job_roles = df[\"Role\"].astype(str).tolist()\n",
    "job_desc = df[\"Job_Description\"].astype(str).tolist()\n",
    "labels_text = df[\"Decision\"].astype(str).tolist()\n",
    "\n",
    "label_encoder = LabelEncoder()\n",
    "labels = label_encoder.fit_transform(labels_text)\n",
    "print(\"\\nLabel mapping:\", dict(zip(label_encoder.classes_, label_encoder.transform(label_encoder.classes_))))\n"
   ]
  },
  {
   "cell_type": "code",
   "execution_count": 4,
   "id": "2505eaa6",
   "metadata": {
    "execution": {
     "iopub.execute_input": "2025-10-27T02:13:06.542335Z",
     "iopub.status.busy": "2025-10-27T02:13:06.542095Z",
     "iopub.status.idle": "2025-10-27T02:13:06.554789Z",
     "shell.execute_reply": "2025-10-27T02:13:06.554188Z"
    },
    "papermill": {
     "duration": 0.017679,
     "end_time": "2025-10-27T02:13:06.555905",
     "exception": false,
     "start_time": "2025-10-27T02:13:06.538226",
     "status": "completed"
    },
    "tags": []
   },
   "outputs": [
    {
     "name": "stdout",
     "output_type": "stream",
     "text": [
      "\n",
      "📊 Data Split Summary:\n",
      "Train: 8139 (80%)\n",
      "Validation: 1017 (15%)\n",
      "Test: 1018 (15%)\n"
     ]
    }
   ],
   "source": [
    "# ======================\n",
    "# Data Split (Show %)\n",
    "# ======================\n",
    "train_ratio, val_ratio, test_ratio = 0.8, 0.15, 0.15\n",
    "train_texts, temp_texts, train_labels, temp_labels, train_job_roles, temp_job_roles, train_job_desc, temp_job_desc = train_test_split(\n",
    "    texts, labels, job_roles, job_desc, test_size=(1-train_ratio), random_state=42\n",
    ")\n",
    "val_texts, test_texts, val_labels, test_labels, val_job_roles, test_job_roles, val_job_desc, test_job_desc = train_test_split(\n",
    "    temp_texts, temp_labels, temp_job_roles, temp_job_desc, test_size=test_ratio/(val_ratio+test_ratio), random_state=42\n",
    ")\n",
    "\n",
    "print(f\"\\n📊 Data Split Summary:\")\n",
    "print(f\"Train: {len(train_texts)} ({train_ratio*100:.0f}%)\")\n",
    "print(f\"Validation: {len(val_texts)} ({val_ratio*100:.0f}%)\")\n",
    "print(f\"Test: {len(test_texts)} ({test_ratio*100:.0f}%)\")\n"
   ]
  },
  {
   "cell_type": "code",
   "execution_count": 5,
   "id": "2cf9c971",
   "metadata": {
    "execution": {
     "iopub.execute_input": "2025-10-27T02:13:06.563135Z",
     "iopub.status.busy": "2025-10-27T02:13:06.562930Z",
     "iopub.status.idle": "2025-10-27T02:13:06.655594Z",
     "shell.execute_reply": "2025-10-27T02:13:06.654980Z"
    },
    "papermill": {
     "duration": 0.097432,
     "end_time": "2025-10-27T02:13:06.656646",
     "exception": false,
     "start_time": "2025-10-27T02:13:06.559214",
     "status": "completed"
    },
    "tags": []
   },
   "outputs": [
    {
     "name": "stdout",
     "output_type": "stream",
     "text": [
      "✅ Tokenizer loaded successfully!\n"
     ]
    }
   ],
   "source": [
    "# ======================\n",
    "# Tokenizer\n",
    "from transformers import BertTokenizer\n",
    "\n",
    "# Kaggle input folder path ব্যবহার করো\n",
    "tokenizer_path =\"/kaggle/input/ksdfoieeknf/bert_local\"\n",
    "tokenizer = BertTokenizer.from_pretrained(tokenizer_path, use_fast=False)\n",
    "\n",
    "# Test\n",
    "text = \"This is a test.\"\n",
    "encoding = tokenizer(text)\n",
    "print(\"✅ Tokenizer loaded successfully!\")          "
   ]
  },
  {
   "cell_type": "code",
   "execution_count": 6,
   "id": "1e255f20",
   "metadata": {
    "execution": {
     "iopub.execute_input": "2025-10-27T02:13:06.663910Z",
     "iopub.status.busy": "2025-10-27T02:13:06.663698Z",
     "iopub.status.idle": "2025-10-27T02:13:06.706646Z",
     "shell.execute_reply": "2025-10-27T02:13:06.706106Z"
    },
    "papermill": {
     "duration": 0.047904,
     "end_time": "2025-10-27T02:13:06.707784",
     "exception": false,
     "start_time": "2025-10-27T02:13:06.659880",
     "status": "completed"
    },
    "tags": []
   },
   "outputs": [],
   "source": [
    "# আগে যেটা ছিল\n",
    "# tokenizer = BertTokenizer.from_pretrained(\"bert-base-uncased\")\n",
    "\n",
    "# replace করে local path use করো\n",
    "tokenizer_path = \"/kaggle/input/ksdfoieeknf/bert_local\"\n",
    "tokenizer = BertTokenizer.from_pretrained(tokenizer_path, use_fast=False)"
   ]
  },
  {
   "cell_type": "code",
   "execution_count": 7,
   "id": "be006b2c",
   "metadata": {
    "execution": {
     "iopub.execute_input": "2025-10-27T02:13:06.715041Z",
     "iopub.status.busy": "2025-10-27T02:13:06.714834Z",
     "iopub.status.idle": "2025-10-27T02:13:06.718949Z",
     "shell.execute_reply": "2025-10-27T02:13:06.718076Z"
    },
    "papermill": {
     "duration": 0.008864,
     "end_time": "2025-10-27T02:13:06.720032",
     "exception": false,
     "start_time": "2025-10-27T02:13:06.711168",
     "status": "completed"
    },
    "tags": []
   },
   "outputs": [
    {
     "name": "stdout",
     "output_type": "stream",
     "text": [
      "✅ Tokenizer loaded successfully!\n",
      "['this', 'is', 'a', 'working', 'bert', 'token', '##izer', 'test', '.']\n"
     ]
    }
   ],
   "source": [
    "print(\"✅ Tokenizer loaded successfully!\")\n",
    "print(tokenizer.tokenize(\"This is a working BERT tokenizer test.\"))"
   ]
  },
  {
   "cell_type": "code",
   "execution_count": 8,
   "id": "0cfc17b0",
   "metadata": {
    "execution": {
     "iopub.execute_input": "2025-10-27T02:13:06.727613Z",
     "iopub.status.busy": "2025-10-27T02:13:06.727017Z",
     "iopub.status.idle": "2025-10-27T02:13:06.732138Z",
     "shell.execute_reply": "2025-10-27T02:13:06.731603Z"
    },
    "papermill": {
     "duration": 0.009874,
     "end_time": "2025-10-27T02:13:06.733162",
     "exception": false,
     "start_time": "2025-10-27T02:13:06.723288",
     "status": "completed"
    },
    "tags": []
   },
   "outputs": [],
   "source": [
    "# ======================\n",
    "# Dataset Class\n",
    "# ======================\n",
    "class ResumeDataset(Dataset):\n",
    "    def __init__(self, texts, labels, tokenizer, max_len=128):\n",
    "        self.texts = texts\n",
    "        self.labels = labels\n",
    "        self.tokenizer = tokenizer\n",
    "        self.max_len = max_len\n",
    "\n",
    "    def __len__(self):\n",
    "        return len(self.texts)\n",
    "\n",
    "    def __getitem__(self, idx):\n",
    "        text = self.texts[idx]\n",
    "        label = self.labels[idx]\n",
    "        encoding = self.tokenizer(\n",
    "            text,\n",
    "            truncation=True,\n",
    "            padding=\"max_length\",\n",
    "            max_length=self.max_len,\n",
    "            return_tensors=\"pt\"\n",
    "        )\n",
    "        return {\n",
    "            \"input_ids\": encoding[\"input_ids\"].squeeze(),\n",
    "            \"attention_mask\": encoding[\"attention_mask\"].squeeze(),\n",
    "            \"label\": torch.tensor(label, dtype=torch.long)\n",
    "        }\n"
   ]
  },
  {
   "cell_type": "code",
   "execution_count": 9,
   "id": "fcd1c60a",
   "metadata": {
    "execution": {
     "iopub.execute_input": "2025-10-27T02:13:06.740379Z",
     "iopub.status.busy": "2025-10-27T02:13:06.740133Z",
     "iopub.status.idle": "2025-10-27T02:13:06.744267Z",
     "shell.execute_reply": "2025-10-27T02:13:06.743720Z"
    },
    "papermill": {
     "duration": 0.008871,
     "end_time": "2025-10-27T02:13:06.745318",
     "exception": false,
     "start_time": "2025-10-27T02:13:06.736447",
     "status": "completed"
    },
    "tags": []
   },
   "outputs": [],
   "source": [
    "# ======================\n",
    "# DataLoader\n",
    "# ======================\n",
    "batch_size = 128\n",
    "train_dataset = ResumeDataset(train_texts, train_labels, tokenizer)\n",
    "val_dataset = ResumeDataset(val_texts, val_labels, tokenizer)\n",
    "test_dataset = ResumeDataset(test_texts, test_labels, tokenizer)\n",
    "\n",
    "train_loader = DataLoader(train_dataset, batch_size=batch_size, shuffle=True)\n",
    "val_loader = DataLoader(val_dataset, batch_size=batch_size, shuffle=False)\n",
    "test_loader = DataLoader(test_dataset, batch_size=batch_size, shuffle=False)\n"
   ]
  },
  {
   "cell_type": "code",
   "execution_count": 10,
   "id": "5afaa006",
   "metadata": {
    "execution": {
     "iopub.execute_input": "2025-10-27T02:13:06.752967Z",
     "iopub.status.busy": "2025-10-27T02:13:06.752316Z",
     "iopub.status.idle": "2025-10-27T02:13:09.484243Z",
     "shell.execute_reply": "2025-10-27T02:13:09.483606Z"
    },
    "papermill": {
     "duration": 2.736976,
     "end_time": "2025-10-27T02:13:09.485553",
     "exception": false,
     "start_time": "2025-10-27T02:13:06.748577",
     "status": "completed"
    },
    "tags": []
   },
   "outputs": [
    {
     "data": {
      "application/vnd.jupyter.widget-view+json": {
       "model_id": "79ef7db7eff241689a9b83b6ee00023e",
       "version_major": 2,
       "version_minor": 0
      },
      "text/plain": [
       "config.json:   0%|          | 0.00/570 [00:00<?, ?B/s]"
      ]
     },
     "metadata": {},
     "output_type": "display_data"
    },
    {
     "data": {
      "application/vnd.jupyter.widget-view+json": {
       "model_id": "092d7d4d356a4228bb2bd70ad3939ddf",
       "version_major": 2,
       "version_minor": 0
      },
      "text/plain": [
       "model.safetensors:   0%|          | 0.00/440M [00:00<?, ?B/s]"
      ]
     },
     "metadata": {},
     "output_type": "display_data"
    }
   ],
   "source": [
    "# ======================\n",
    "# Model\n",
    "# ======================\n",
    "class ResumeClassifier(nn.Module):\n",
    "    def __init__(self, num_classes):\n",
    "        super().__init__()\n",
    "        self.bert = BertModel.from_pretrained(\"bert-base-uncased\")\n",
    "        self.dropout = nn.Dropout(0.3)\n",
    "        self.fc = nn.Linear(self.bert.config.hidden_size, num_classes)\n",
    "\n",
    "    def forward(self, input_ids, attention_mask):\n",
    "        outputs = self.bert(input_ids=input_ids, attention_mask=attention_mask)\n",
    "        cls_output = outputs.pooler_output\n",
    "        cls_output = self.dropout(cls_output)\n",
    "        return self.fc(cls_output)\n",
    "\n",
    "model = ResumeClassifier(num_classes=len(set(labels))).to(device)\n",
    "loss_fn = nn.CrossEntropyLoss()\n",
    "optimizer = optim.Adam(model.parameters(), lr=2e-5)\n"
   ]
  },
  {
   "cell_type": "code",
   "execution_count": 11,
   "id": "7a2432ae",
   "metadata": {
    "execution": {
     "iopub.execute_input": "2025-10-27T02:13:09.493941Z",
     "iopub.status.busy": "2025-10-27T02:13:09.493647Z",
     "iopub.status.idle": "2025-10-27T02:13:09.503051Z",
     "shell.execute_reply": "2025-10-27T02:13:09.502385Z"
    },
    "papermill": {
     "duration": 0.014624,
     "end_time": "2025-10-27T02:13:09.504105",
     "exception": false,
     "start_time": "2025-10-27T02:13:09.489481",
     "status": "completed"
    },
    "tags": []
   },
   "outputs": [],
   "source": [
    "# ======================\n",
    "# Training & Evaluation\n",
    "# ======================\n",
    "train_losses, val_losses, train_accs, val_accs = [], [], [], []\n",
    "\n",
    "def evaluate(model, data_loader):\n",
    "    model.eval()\n",
    "    correct, total = 0, 0\n",
    "    all_preds, all_labels, all_probs = [], [], []\n",
    "\n",
    "    with torch.inference_mode():\n",
    "        for batch in data_loader:\n",
    "            input_ids = batch[\"input_ids\"].to(device)\n",
    "            attention_mask = batch[\"attention_mask\"].to(device)\n",
    "            labels = batch[\"label\"].to(device)\n",
    "\n",
    "            outputs = model(input_ids, attention_mask)\n",
    "            probs = torch.softmax(outputs, dim=1)\n",
    "            preds = torch.argmax(probs, dim=1)\n",
    "\n",
    "            correct += (preds == labels).sum().item()\n",
    "            total += labels.size(0)\n",
    "\n",
    "            all_preds.extend(preds.cpu().numpy())\n",
    "            all_labels.extend(labels.cpu().numpy())\n",
    "            all_probs.extend(probs[:, 1].cpu().numpy())\n",
    "\n",
    "    acc = 100 * correct / total\n",
    "    return acc, all_preds, all_labels, all_probs\n",
    "\n",
    "def train_model(model, train_loader, val_loader, loss_fn, optimizer, num_epochs=3):\n",
    "    start_time = time.time()\n",
    "    for epoch in range(num_epochs):\n",
    "        model.train()\n",
    "        total_loss, correct, total = 0, 0, 0\n",
    "        for batch in tqdm(train_loader, desc=f\"Epoch {epoch+1}/{num_epochs}\"):\n",
    "            input_ids = batch[\"input_ids\"].to(device)\n",
    "            attention_mask = batch[\"attention_mask\"].to(device)\n",
    "            labels = batch[\"label\"].to(device)\n",
    "\n",
    "            optimizer.zero_grad()\n",
    "            outputs = model(input_ids, attention_mask)\n",
    "            loss = loss_fn(outputs, labels)\n",
    "            loss.backward()\n",
    "            optimizer.step()\n",
    "            total_loss += loss.item()\n",
    "\n",
    "            preds = torch.argmax(outputs, dim=1)\n",
    "            correct += (preds == labels).sum().item()\n",
    "            total += labels.size(0)\n",
    "\n",
    "        avg_train_loss = total_loss / len(train_loader)\n",
    "        train_acc = 100 * correct / total\n",
    "        val_acc, _, _, _ = evaluate(model, val_loader)\n",
    "\n",
    "        train_losses.append(avg_train_loss)\n",
    "        val_losses.append(1 - val_acc / 100)\n",
    "        train_accs.append(train_acc)\n",
    "        val_accs.append(val_acc)\n",
    "\n",
    "        print(f\"Epoch {epoch+1}: Train Loss={avg_train_loss:.4f}, Train Acc={train_acc:.2f}%, Val Acc={val_acc:.2f}%\")\n",
    "\n",
    "    end_time = time.time()\n",
    "    print(f\"\\nTotal Training Time: {end_time - start_time:.2f} sec\")\n"
   ]
  },
  {
   "cell_type": "code",
   "execution_count": 12,
   "id": "f875615e",
   "metadata": {
    "execution": {
     "iopub.execute_input": "2025-10-27T02:13:09.512114Z",
     "iopub.status.busy": "2025-10-27T02:13:09.511902Z",
     "iopub.status.idle": "2025-10-27T02:57:28.533881Z",
     "shell.execute_reply": "2025-10-27T02:57:28.533030Z"
    },
    "papermill": {
     "duration": 2659.055575,
     "end_time": "2025-10-27T02:57:28.563307",
     "exception": false,
     "start_time": "2025-10-27T02:13:09.507732",
     "status": "completed"
    },
    "tags": []
   },
   "outputs": [
    {
     "name": "stderr",
     "output_type": "stream",
     "text": [
      "Epoch 1/10: 100%|██████████| 64/64 [04:01<00:00,  3.78s/it]\n"
     ]
    },
    {
     "name": "stdout",
     "output_type": "stream",
     "text": [
      "Epoch 1: Train Loss=0.6821, Train Acc=52.99%, Val Acc=56.24%\n"
     ]
    },
    {
     "name": "stderr",
     "output_type": "stream",
     "text": [
      "Epoch 2/10: 100%|██████████| 64/64 [04:11<00:00,  3.92s/it]\n"
     ]
    },
    {
     "name": "stdout",
     "output_type": "stream",
     "text": [
      "Epoch 2: Train Loss=0.6333, Train Acc=56.24%, Val Acc=57.03%\n"
     ]
    },
    {
     "name": "stderr",
     "output_type": "stream",
     "text": [
      "Epoch 3/10: 100%|██████████| 64/64 [04:11<00:00,  3.92s/it]\n"
     ]
    },
    {
     "name": "stdout",
     "output_type": "stream",
     "text": [
      "Epoch 3: Train Loss=0.6111, Train Acc=58.90%, Val Acc=56.93%\n"
     ]
    },
    {
     "name": "stderr",
     "output_type": "stream",
     "text": [
      "Epoch 4/10: 100%|██████████| 64/64 [04:11<00:00,  3.92s/it]\n"
     ]
    },
    {
     "name": "stdout",
     "output_type": "stream",
     "text": [
      "Epoch 4: Train Loss=0.5965, Train Acc=60.28%, Val Acc=58.11%\n"
     ]
    },
    {
     "name": "stderr",
     "output_type": "stream",
     "text": [
      "Epoch 5/10: 100%|██████████| 64/64 [04:11<00:00,  3.93s/it]\n"
     ]
    },
    {
     "name": "stdout",
     "output_type": "stream",
     "text": [
      "Epoch 5: Train Loss=0.5773, Train Acc=62.34%, Val Acc=57.82%\n"
     ]
    },
    {
     "name": "stderr",
     "output_type": "stream",
     "text": [
      "Epoch 6/10: 100%|██████████| 64/64 [04:10<00:00,  3.92s/it]\n"
     ]
    },
    {
     "name": "stdout",
     "output_type": "stream",
     "text": [
      "Epoch 6: Train Loss=0.5679, Train Acc=65.00%, Val Acc=56.24%\n"
     ]
    },
    {
     "name": "stderr",
     "output_type": "stream",
     "text": [
      "Epoch 7/10: 100%|██████████| 64/64 [04:11<00:00,  3.93s/it]\n"
     ]
    },
    {
     "name": "stdout",
     "output_type": "stream",
     "text": [
      "Epoch 7: Train Loss=0.5409, Train Acc=68.76%, Val Acc=57.62%\n"
     ]
    },
    {
     "name": "stderr",
     "output_type": "stream",
     "text": [
      "Epoch 8/10: 100%|██████████| 64/64 [04:11<00:00,  3.93s/it]\n"
     ]
    },
    {
     "name": "stdout",
     "output_type": "stream",
     "text": [
      "Epoch 8: Train Loss=0.5006, Train Acc=72.75%, Val Acc=57.72%\n"
     ]
    },
    {
     "name": "stderr",
     "output_type": "stream",
     "text": [
      "Epoch 9/10: 100%|██████████| 64/64 [04:11<00:00,  3.92s/it]\n"
     ]
    },
    {
     "name": "stdout",
     "output_type": "stream",
     "text": [
      "Epoch 9: Train Loss=0.4482, Train Acc=77.11%, Val Acc=57.13%\n"
     ]
    },
    {
     "name": "stderr",
     "output_type": "stream",
     "text": [
      "Epoch 10/10: 100%|██████████| 64/64 [04:11<00:00,  3.92s/it]\n"
     ]
    },
    {
     "name": "stdout",
     "output_type": "stream",
     "text": [
      "Epoch 10: Train Loss=0.3695, Train Acc=82.48%, Val Acc=57.13%\n",
      "\n",
      "Total Training Time: 2659.02 sec\n"
     ]
    }
   ],
   "source": [
    "# Train model\n",
    "train_model(model, train_loader, val_loader, loss_fn, optimizer, num_epochs=10)\n"
   ]
  },
  {
   "cell_type": "code",
   "execution_count": 13,
   "id": "0557738a",
   "metadata": {
    "execution": {
     "iopub.execute_input": "2025-10-27T02:57:28.621668Z",
     "iopub.status.busy": "2025-10-27T02:57:28.621063Z",
     "iopub.status.idle": "2025-10-27T02:57:29.000520Z",
     "shell.execute_reply": "2025-10-27T02:57:28.999789Z"
    },
    "papermill": {
     "duration": 0.409593,
     "end_time": "2025-10-27T02:57:29.001628",
     "exception": false,
     "start_time": "2025-10-27T02:57:28.592035",
     "status": "completed"
    },
    "tags": []
   },
   "outputs": [
    {
     "data": {
      "image/png": "[encoded data removed]",
      "text/plain": [
       "<Figure size 1200x500 with 2 Axes>"
      ]
     },
     "metadata": {},
     "output_type": "display_data"
    }
   ],
   "source": [
    "# ======================\n",
    "# Plot Curves\n",
    "# ======================\n",
    "plt.figure(figsize=(12,5))\n",
    "plt.subplot(1,2,1)\n",
    "plt.plot(train_losses, label=\"Train Loss\")\n",
    "plt.plot(val_losses, label=\"Val Loss\")\n",
    "plt.legend(); plt.title(\"Loss Curve\")\n",
    "\n",
    "plt.subplot(1,2,2)\n",
    "plt.plot(train_accs, label=\"Train Acc\")\n",
    "plt.plot(val_accs, label=\"Val Acc\")\n",
    "plt.legend(); plt.title(\"Accuracy Curve\")\n",
    "plt.show()"
   ]
  },
  {
   "cell_type": "code",
   "execution_count": 14,
   "id": "a0417bb8",
   "metadata": {
    "execution": {
     "iopub.execute_input": "2025-10-27T02:57:29.061774Z",
     "iopub.status.busy": "2025-10-27T02:57:29.061316Z",
     "iopub.status.idle": "2025-10-27T02:57:44.949003Z",
     "shell.execute_reply": "2025-10-27T02:57:44.948271Z"
    },
    "papermill": {
     "duration": 15.91863,
     "end_time": "2025-10-27T02:57:44.950257",
     "exception": false,
     "start_time": "2025-10-27T02:57:29.031627",
     "status": "completed"
    },
    "tags": []
   },
   "outputs": [
    {
     "name": "stdout",
     "output_type": "stream",
     "text": [
      "\n",
      "✅ Test Accuracy: 59.04%\n"
     ]
    },
    {
     "data": {
      "image/png": "[encoded data removed]",
      "text/plain": [
       "<Figure size 640x480 with 2 Axes>"
      ]
     },
     "metadata": {},
     "output_type": "display_data"
    },
    {
     "data": {
      "image/png": "[encoded data removed]",
      "text/plain": [
       "<Figure size 640x480 with 1 Axes>"
      ]
     },
     "metadata": {},
     "output_type": "display_data"
    }
   ],
   "source": [
    "# ======================\n",
    "# Test Evaluation\n",
    "# ======================\n",
    "test_acc, test_preds, test_labels_actual, test_probs = evaluate(model, test_loader)\n",
    "print(f\"\\n✅ Test Accuracy: {test_acc:.2f}%\")\n",
    "\n",
    "cm = confusion_matrix(test_labels_actual, test_preds)\n",
    "ConfusionMatrixDisplay(confusion_matrix=cm).plot(cmap=plt.cm.Blues)\n",
    "plt.show()\n",
    "\n",
    "fpr, tpr, _ = roc_curve(test_labels_actual, test_probs)\n",
    "roc_auc = auc(fpr, tpr)\n",
    "plt.figure(); plt.plot(fpr, tpr, color='blue', lw=2, label=f\"AUC = {roc_auc:.2f}\")\n",
    "plt.plot([0,1], [0,1], color='gray', linestyle='--')\n",
    "plt.xlabel(\"False Positive Rate\"); plt.ylabel(\"True Positive Rate\")\n",
    "plt.title(\"ROC Curve\"); plt.legend(); plt.show()\n"
   ]
  },
  {
   "cell_type": "code",
   "execution_count": 15,
   "id": "1573cf56",
   "metadata": {
    "execution": {
     "iopub.execute_input": "2025-10-27T02:57:45.013089Z",
     "iopub.status.busy": "2025-10-27T02:57:45.012655Z",
     "iopub.status.idle": "2025-10-27T02:58:01.070204Z",
     "shell.execute_reply": "2025-10-27T02:58:01.069379Z"
    },
    "papermill": {
     "duration": 16.0902,
     "end_time": "2025-10-27T02:58:01.071593",
     "exception": false,
     "start_time": "2025-10-27T02:57:44.981393",
     "status": "completed"
    },
    "tags": []
   },
   "outputs": [
    {
     "name": "stdout",
     "output_type": "stream",
     "text": [
      "\n",
      "===== Top 10 Ranked Resumes =====\n",
      "\n",
      "Rank 1: Role = data engineer, Predicted = reject, Score = 0.9997\n",
      "Job Description: demonstrated limited understanding of job requirements., had insufficient experience for the position.\n",
      "Resume: **confidential candidate profile: charvi choudhury**\n",
      "\n",
      "**summary:**\n",
      "charvi choudhury is a detail-oriented and analytical individual with a background in computer science. although she demonstrated a so...\n",
      "\n",
      "--------------------------------------------------------------------------------\n",
      "Rank 2: Role = product manager, Predicted = reject, Score = 0.9997\n",
      "Job Description: lacked key technical skills for the role., had insufficient experience for the position.\n",
      "Resume: **candidate profile: brinda bhardwaj**\n",
      "\n",
      "**interview for product manager role**\n",
      "\n",
      "**strengths:**\n",
      "\n",
      "* brinda demonstrated a strong passion for product development and a keen interest in understanding cust...\n",
      "\n",
      "--------------------------------------------------------------------------------\n",
      "Rank 3: Role = data engineer, Predicted = select, Score = 0.9997\n",
      "Job Description: demonstrated strong skills relevant to the role., exhibited excellent problem-solving abilities.\n",
      "Resume: **varsha gupta**\n",
      "**data engineer candidate**\n",
      "\n",
      "as a highly motivated and detail-oriented data engineer with a strong foundation in data warehousing, etl processes, and big data technologies, i am excit...\n",
      "\n",
      "--------------------------------------------------------------------------------\n",
      "Rank 4: Role = data engineer, Predicted = reject, Score = 0.9997\n",
      "Job Description: had insufficient experience for the position., needed improvement in problem-solving skills.\n",
      "Resume: **candidate profile: eshani verma**\n",
      "\n",
      "**role:** data engineer\n",
      "\n",
      "**interview observations:**\n",
      "\n",
      "eshani demonstrated a strong foundation in programming languages, particularly python, and showed enthusiasm ...\n",
      "\n",
      "--------------------------------------------------------------------------------\n",
      "Rank 5: Role = data scientist, Predicted = reject, Score = 0.9997\n",
      "Job Description: struggled to effectively communicate ideas., had insufficient experience for the position.\n",
      "Resume: **candidate profile: rachna joshi**\n",
      "\n",
      "**data scientist role**\n",
      "\n",
      "rachna joshi presented herself as a detail-oriented and enthusiastic candidate, eager to explore the role of a data scientist. however, up...\n",
      "\n",
      "--------------------------------------------------------------------------------\n",
      "Rank 6: Role = data analyst, Predicted = reject, Score = 0.9997\n",
      "Job Description: lacked key technical skills for the role., struggled to effectively communicate ideas.\n",
      "Resume: **candidate profile: harshini singh**\n",
      "\n",
      "**role:** data analyst\n",
      "\n",
      "**summary:** harshini singh has a strong foundation in computer science and mathematics, but her skills and experience may not be entirel...\n",
      "\n",
      "--------------------------------------------------------------------------------\n",
      "Rank 7: Role = software engineer, Predicted = reject, Score = 0.9997\n",
      "Job Description: had insufficient experience for the position., needed improvement in problem-solving skills.\n",
      "Resume: **candidate profile: kamna mehta**\n",
      "\n",
      "**position:** software engineer\n",
      "\n",
      "**interview observations:**\n",
      "\n",
      "kamna presented herself as a motivated and enthusiastic individual, eager to learn and grow in the fie...\n",
      "\n",
      "--------------------------------------------------------------------------------\n",
      "Rank 8: Role = data scientist, Predicted = reject, Score = 0.9997\n",
      "Job Description: had insufficient experience for the position., struggled to effectively communicate ideas.\n",
      "Resume: **candidate profile: eashan thakur - data scientist role**\n",
      "\n",
      "during the interview process, eashan thakur demonstrated a strong foundation in basic data analysis concepts, such as data cleaning, data pr...\n",
      "\n",
      "--------------------------------------------------------------------------------\n",
      "Rank 9: Role = data engineer, Predicted = reject, Score = 0.9997\n",
      "Job Description: lacked key technical skills for the role., demonstrated limited understanding of job requirements.\n",
      "Resume: **candidate profile: niraj gupta**\n",
      "\n",
      "**interviewed for:** data engineer position\n",
      "\n",
      "**summary:**\n",
      "niraj gupta is a recent graduate in computer science with a strong foundation in programming languages and...\n",
      "\n",
      "--------------------------------------------------------------------------------\n",
      "Rank 10: Role = product manager, Predicted = reject, Score = 0.9997\n",
      "Job Description: needed improvement in problem-solving skills., lacked key technical skills for the role.\n",
      "Resume: **trayi agarwal**\n",
      "\n",
      "**product manager candidate profile**\n",
      "\n",
      "trayi agarwal demonstrated enthusiasm and eagerness to learn during the product manager interview. however, upon closer examination, it became...\n",
      "\n",
      "--------------------------------------------------------------------------------\n"
     ]
    }
   ],
   "source": [
    "\n",
    "  # Rank Top 10 Resumes\n",
    "all_resumes = []\n",
    "model.eval()\n",
    "with torch.inference_mode():\n",
    "    for i in range(len(test_texts)):\n",
    "        encoding = tokenizer(test_texts[i], truncation=True, padding=\"max_length\", max_length=128, return_tensors=\"pt\")\n",
    "        input_ids = encoding[\"input_ids\"].to(device)\n",
    "        attention_mask = encoding[\"attention_mask\"].to(device)\n",
    "        outputs = model(input_ids, attention_mask)\n",
    "        probs = torch.softmax(outputs, dim=1)\n",
    "        score, pred_class = torch.max(probs, dim=1)\n",
    "        all_resumes.append({\n",
    "            \"Role\": test_job_roles[i],\n",
    "            \"Resume\": test_texts[i],\n",
    "            \"Job_Description\": test_job_desc[i],\n",
    "            \"Predicted_Label\": label_encoder.inverse_transform([pred_class.item()])[0],\n",
    "            \"Score\": score.item()\n",
    "        })\n",
    "\n",
    "ranked_resumes = sorted(all_resumes, key=lambda x: x[\"Score\"], reverse=True)\n",
    "\n",
    "print(\"\\n===== Top 10 Ranked Resumes =====\\n\")\n",
    "for idx, r in enumerate(ranked_resumes[:10], 1):\n",
    "    print(f\"Rank {idx}: Role = {r['Role']}, Predicted = {r['Predicted_Label']}, Score = {r['Score']:.4f}\")\n",
    "    print(f\"Job Description: {r['Job_Description']}\")\n",
    "    print(f\"Resume: {r['Resume'][:200]}...\\n\")\n",
    "    print(\"-\"*80)\n",
    "\n"
   ]
  },
  {
   "cell_type": "code",
   "execution_count": 16,
   "id": "c2395732",
   "metadata": {
    "execution": {
     "iopub.execute_input": "2025-10-27T02:58:01.134827Z",
     "iopub.status.busy": "2025-10-27T02:58:01.134616Z",
     "iopub.status.idle": "2025-10-27T02:58:01.180056Z",
     "shell.execute_reply": "2025-10-27T02:58:01.179304Z"
    },
    "papermill": {
     "duration": 0.077802,
     "end_time": "2025-10-27T02:58:01.181137",
     "exception": false,
     "start_time": "2025-10-27T02:58:01.103335",
     "status": "completed"
    },
    "tags": []
   },
   "outputs": [
    {
     "name": "stdout",
     "output_type": "stream",
     "text": [
      "Prediction: reject, Confidence: 0.9090\n",
      "\n",
      "💡 To improve this CV:\n",
      "- Highlight key skills relevant to the Role.\n",
      "- Include quantified achievements or project outcomes.\n",
      "- Ensure keywords match the Job Description.\n"
     ]
    }
   ],
   "source": [
    "# ======================\n",
    "# Single Resume Check\n",
    "# ======================\n",
    "single_path = \"/kaggle/input/single-data-set-for-cv-resume-3/Emma Johnson.txt\"  # Upload single resume file\n",
    "with open(single_path, \"r\", encoding=\"utf-8\") as f:\n",
    "    resume_text = f.read()  # ✅ make sure variable name matches\n",
    "\n",
    "# Tokenize\n",
    "encoding = tokenizer(resume_text, truncation=True, padding=\"max_length\", max_length=128, return_tensors=\"pt\")\n",
    "input_ids = encoding[\"input_ids\"].to(device)\n",
    "attention_mask = encoding[\"attention_mask\"].to(device)\n",
    "\n",
    "# Model prediction\n",
    "model.eval()\n",
    "with torch.inference_mode():\n",
    "    outputs = model(input_ids, attention_mask)\n",
    "    probs = torch.softmax(outputs, dim=1)\n",
    "    score, pred_class = torch.max(probs, dim=1)\n",
    "    predicted_label = label_encoder.inverse_transform([pred_class.item()])[0]\n",
    "\n",
    "print(f\"Prediction: {predicted_label}, Confidence: {score.item():.4f}\")\n",
    "\n",
    "# Suggestions\n",
    "if predicted_label != 'Hire':\n",
    "    print(\"\\n💡 To improve this CV:\")\n",
    "    print(\"- Highlight key skills relevant to the Role.\")\n",
    "    print(\"- Include quantified achievements or project outcomes.\")\n",
    "    print(\"- Ensure keywords match the Job Description.\")\n",
    "else:\n",
    "    print(\"\\n✅ This CV is already strong for the given role!\")\n"
   ]
  }
 ],
 "metadata": {
  "kaggle": {
   "accelerator": "nvidiaTeslaT4",
   "dataSources": [
    {
     "datasetId": 8571592,
     "sourceId": 13499998,
     "sourceType": "datasetVersion"
    },
    {
     "datasetId": 8572071,
     "sourceId": 13500728,
     "sourceType": "datasetVersion"
    },
    {
     "datasetId": 8573911,
     "sourceId": 13504193,
     "sourceType": "datasetVersion"
    },
    {
     "datasetId": 8573921,
     "sourceId": 13504206,
     "sourceType": "datasetVersion"
    },
    {
     "datasetId": 8573943,
     "sourceId": 13504233,
     "sourceType": "datasetVersion"
    },
    {
     "datasetId": 8573960,
     "sourceId": 13504258,
     "sourceType": "datasetVersion"
    },
    {
     "datasetId": 8574020,
     "sourceId": 13504349,
     "sourceType": "datasetVersion"
    },
    {
     "datasetId": 8574133,
     "sourceId": 13504511,
     "sourceType": "datasetVersion"
    }
   ],
   "isGpuEnabled": true,
   "isInternetEnabled": true,
   "language": "python",
   "sourceType": "notebook"
  },
  "kernelspec": {
   "display_name": "Python 3",
   "language": "python",
   "name": "python3"
  },
  "language_info": {
   "codemirror_mode": {
    "name": "ipython",
    "version": 3
   },
   "file_extension": ".py",
   "mimetype": "text/x-python",
   "name": "python",
   "nbconvert_exporter": "python",
   "pygments_lexer": "ipython3",
   "version": "3.11.13"
  },
  "papermill": {
   "default_parameters": {},
   "duration": 2737.942722,
   "end_time": "2025-10-27T02:58:04.345637",
   "environment_variables": {},
   "exception": null,
   "input_path": "__notebook__.ipynb",
   "output_path": "__notebook__.ipynb",
   "parameters": {},
   "start_time": "2025-10-27T02:12:26.402915",
   "version": "2.6.0"
  },
  "widgets": {
   "application/vnd.jupyter.widget-state+json": {
    "state": {
     "0683bbcabdc34772b713d6ca912414f1": {
      "model_module": "@jupyter-widgets/base",
      "model_module_version": "2.0.0",
      "model_name": "LayoutModel",
      "state": {
       "_model_module": "@jupyter-widgets/base",
       "_model_module_version": "2.0.0",
       "_model_name": "LayoutModel",
       "_view_count": null,
       "_view_module": "@jupyter-widgets/base",
       "_view_module_version": "2.0.0",
       "_view_name": "LayoutView",
       "align_content": null,
       "align_items": null,
       "align_self": null,
       "border_bottom": null,
       "border_left": null,
       "border_right": null,
       "border_top": null,
       "bottom": null,
       "display": null,
       "flex": null,
       "flex_flow": null,
       "grid_area": null,
       "grid_auto_columns": null,
       "grid_auto_flow": null,
       "grid_auto_rows": null,
       "grid_column": null,
       "grid_gap": null,
       "grid_row": null,
       "grid_template_areas": null,
       "grid_template_columns": null,
       "grid_template_rows": null,
       "height": null,
       "justify_content": null,
       "justify_items": null,
       "left": null,
       "margin": null,
       "max_height": null,
       "max_width": null,
       "min_height": null,
       "min_width": null,
       "object_fit": null,
       "object_position": null,
       "order": null,
       "overflow": null,
       "padding": null,
       "right": null,
       "top": null,
       "visibility": null,
       "width": null
      }
     },
     "092d7d4d356a4228bb2bd70ad3939ddf": {
      "model_module": "@jupyter-widgets/controls",
      "model_module_version": "2.0.0",
      "model_name": "HBoxModel",
      "state": {
       "_dom_classes": [],
       "_model_module": "@jupyter-widgets/controls",
       "_model_module_version": "2.0.0",
       "_model_name": "HBoxModel",
       "_view_count": null,
       "_view_module": "@jupyter-widgets/controls",
       "_view_module_version": "2.0.0",
       "_view_name": "HBoxView",
       "box_style": "",
       "children": [
        "IPY_MODEL_9ddb8f7c0ade440bb37a7e0a86ddd2ac",
        "IPY_MODEL_56153a71cbb04923aeb5c737982c9d98",
        "IPY_MODEL_706bd041eff04646b7efce21918f0454"
       ],
       "layout": "IPY_MODEL_0683bbcabdc34772b713d6ca912414f1",
       "tabbable": null,
       "tooltip": null
      }
     },
     "1691aa5092c4428089c886689a448895": {
      "model_module": "@jupyter-widgets/base",
      "model_module_version": "2.0.0",
      "model_name": "LayoutModel",
      "state": {
       "_model_module": "@jupyter-widgets/base",
       "_model_module_version": "2.0.0",
       "_model_name": "LayoutModel",
       "_view_count": null,
       "_view_module": "@jupyter-widgets/base",
       "_view_module_version": "2.0.0",
       "_view_name": "LayoutView",
       "align_content": null,
       "align_items": null,
       "align_self": null,
       "border_bottom": null,
       "border_left": null,
       "border_right": null,
       "border_top": null,
       "bottom": null,
       "display": null,
       "flex": null,
       "flex_flow": null,
       "grid_area": null,
       "grid_auto_columns": null,
       "grid_auto_flow": null,
       "grid_auto_rows": null,
       "grid_column": null,
       "grid_gap": null,
       "grid_row": null,
       "grid_template_areas": null,
       "grid_template_columns": null,
       "grid_template_rows": null,
       "height": null,
       "justify_content": null,
       "justify_items": null,
       "left": null,
       "margin": null,
       "max_height": null,
       "max_width": null,
       "min_height": null,
       "min_width": null,
       "object_fit": null,
       "object_position": null,
       "order": null,
       "overflow": null,
       "padding": null,
       "right": null,
       "top": null,
       "visibility": null,
       "width": null
      }
     },
     "31790ff6f8e04c42a677a01554bc3b8b": {
      "model_module": "@jupyter-widgets/base",
      "model_module_version": "2.0.0",
      "model_name": "LayoutModel",
      "state": {
       "_model_module": "@jupyter-widgets/base",
       "_model_module_version": "2.0.0",
       "_model_name": "LayoutModel",
       "_view_count": null,
       "_view_module": "@jupyter-widgets/base",
       "_view_module_version": "2.0.0",
       "_view_name": "LayoutView",
       "align_content": null,
       "align_items": null,
       "align_self": null,
       "border_bottom": null,
       "border_left": null,
       "border_right": null,
       "border_top": null,
       "bottom": null,
       "display": null,
       "flex": null,
       "flex_flow": null,
       "grid_area": null,
       "grid_auto_columns": null,
       "grid_auto_flow": null,
       "grid_auto_rows": null,
       "grid_column": null,
       "grid_gap": null,
       "grid_row": null,
       "grid_template_areas": null,
       "grid_template_columns": null,
       "grid_template_rows": null,
       "height": null,
       "justify_content": null,
       "justify_items": null,
       "left": null,
       "margin": null,
       "max_height": null,
       "max_width": null,
       "min_height": null,
       "min_width": null,
       "object_fit": null,
       "object_position": null,
       "order": null,
       "overflow": null,
       "padding": null,
       "right": null,
       "top": null,
       "visibility": null,
       "width": null
      }
     },
     "331792eac43b45c5967cedb1b3dc0d96": {
      "model_module": "@jupyter-widgets/controls",
      "model_module_version": "2.0.0",
      "model_name": "HTMLStyleModel",
      "state": {
       "_model_module": "@jupyter-widgets/controls",
       "_model_module_version": "2.0.0",
       "_model_name": "HTMLStyleModel",
       "_view_count": null,
       "_view_module": "@jupyter-widgets/base",
       "_view_module_version": "2.0.0",
       "_view_name": "StyleView",
       "background": null,
       "description_width": "",
       "font_size": null,
       "text_color": null
      }
     },
     "3e9d72e0b65f4fc5855d1e4b83213cda": {
      "model_module": "@jupyter-widgets/controls",
      "model_module_version": "2.0.0",
      "model_name": "HTMLModel",
      "state": {
       "_dom_classes": [],
       "_model_module": "@jupyter-widgets/controls",
       "_model_module_version": "2.0.0",
       "_model_name": "HTMLModel",
       "_view_count": null,
       "_view_module": "@jupyter-widgets/controls",
       "_view_module_version": "2.0.0",
       "_view_name": "HTMLView",
       "description": "",
       "description_allow_html": false,
       "layout": "IPY_MODEL_31790ff6f8e04c42a677a01554bc3b8b",
       "placeholder": "​",
       "style": "IPY_MODEL_c42362bdc50e426982602ba729d20cbe",
       "tabbable": null,
       "tooltip": null,
       "value": " 570/570 [00:00&lt;00:00, 69.1kB/s]"
      }
     },
     "405247075f87401bac2a703f6a53a5ca": {
      "model_module": "@jupyter-widgets/controls",
      "model_module_version": "2.0.0",
      "model_name": "HTMLStyleModel",
      "state": {
       "_model_module": "@jupyter-widgets/controls",
       "_model_module_version": "2.0.0",
       "_model_name": "HTMLStyleModel",
       "_view_count": null,
       "_view_module": "@jupyter-widgets/base",
       "_view_module_version": "2.0.0",
       "_view_name": "StyleView",
       "background": null,
       "description_width": "",
       "font_size": null,
       "text_color": null
      }
     },
     "47d62ec136444a158ec63990bddf2083": {
      "model_module": "@jupyter-widgets/controls",
      "model_module_version": "2.0.0",
      "model_name": "FloatProgressModel",
      "state": {
       "_dom_classes": [],
       "_model_module": "@jupyter-widgets/controls",
       "_model_module_version": "2.0.0",
       "_model_name": "FloatProgressModel",
       "_view_count": null,
       "_view_module": "@jupyter-widgets/controls",
       "_view_module_version": "2.0.0",
       "_view_name": "ProgressView",
       "bar_style": "success",
       "description": "",
       "description_allow_html": false,
       "layout": "IPY_MODEL_c18a4d912ce14ef7a9699309d37a9e59",
       "max": 570.0,
       "min": 0.0,
       "orientation": "horizontal",
       "style": "IPY_MODEL_4af69853621f4db786e3f9b0cc76f196",
       "tabbable": null,
       "tooltip": null,
       "value": 570.0
      }
     },
     "4af69853621f4db786e3f9b0cc76f196": {
      "model_module": "@jupyter-widgets/controls",
      "model_module_version": "2.0.0",
      "model_name": "ProgressStyleModel",
      "state": {
       "_model_module": "@jupyter-widgets/controls",
       "_model_module_version": "2.0.0",
       "_model_name": "ProgressStyleModel",
       "_view_count": null,
       "_view_module": "@jupyter-widgets/base",
       "_view_module_version": "2.0.0",
       "_view_name": "StyleView",
       "bar_color": null,
       "description_width": ""
      }
     },
     "56153a71cbb04923aeb5c737982c9d98": {
      "model_module": "@jupyter-widgets/controls",
      "model_module_version": "2.0.0",
      "model_name": "FloatProgressModel",
      "state": {
       "_dom_classes": [],
       "_model_module": "@jupyter-widgets/controls",
       "_model_module_version": "2.0.0",
       "_model_name": "FloatProgressModel",
       "_view_count": null,
       "_view_module": "@jupyter-widgets/controls",
       "_view_module_version": "2.0.0",
       "_view_name": "ProgressView",
       "bar_style": "success",
       "description": "",
       "description_allow_html": false,
       "layout": "IPY_MODEL_d83f8fa4795442a29122580498460bf0",
       "max": 440449768.0,
       "min": 0.0,
       "orientation": "horizontal",
       "style": "IPY_MODEL_94eacd62c9b14e6eb59be897db390b62",
       "tabbable": null,
       "tooltip": null,
       "value": 440449768.0
      }
     },
     "706bd041eff04646b7efce21918f0454": {
      "model_module": "@jupyter-widgets/controls",
      "model_module_version": "2.0.0",
      "model_name": "HTMLModel",
      "state": {
       "_dom_classes": [],
       "_model_module": "@jupyter-widgets/controls",
       "_model_module_version": "2.0.0",
       "_model_name": "HTMLModel",
       "_view_count": null,
       "_view_module": "@jupyter-widgets/controls",
       "_view_module_version": "2.0.0",
       "_view_name": "HTMLView",
       "description": "",
       "description_allow_html": false,
       "layout": "IPY_MODEL_1691aa5092c4428089c886689a448895",
       "placeholder": "​",
       "style": "IPY_MODEL_331792eac43b45c5967cedb1b3dc0d96",
       "tabbable": null,
       "tooltip": null,
       "value": " 440M/440M [00:01&lt;00:00, 384MB/s]"
      }
     },
     "79ef7db7eff241689a9b83b6ee00023e": {
      "model_module": "@jupyter-widgets/controls",
      "model_module_version": "2.0.0",
      "model_name": "HBoxModel",
      "state": {
       "_dom_classes": [],
       "_model_module": "@jupyter-widgets/controls",
       "_model_module_version": "2.0.0",
       "_model_name": "HBoxModel",
       "_view_count": null,
       "_view_module": "@jupyter-widgets/controls",
       "_view_module_version": "2.0.0",
       "_view_name": "HBoxView",
       "box_style": "",
       "children": [
        "IPY_MODEL_f8411210d78042558097363c6feaa858",
        "IPY_MODEL_47d62ec136444a158ec63990bddf2083",
        "IPY_MODEL_3e9d72e0b65f4fc5855d1e4b83213cda"
       ],
       "layout": "IPY_MODEL_867b06b708ef4c279ebee67ece95ae80",
       "tabbable": null,
       "tooltip": null
      }
     },
     "867b06b708ef4c279ebee67ece95ae80": {
      "model_module": "@jupyter-widgets/base",
      "model_module_version": "2.0.0",
      "model_name": "LayoutModel",
      "state": {
       "_model_module": "@jupyter-widgets/base",
       "_model_module_version": "2.0.0",
       "_model_name": "LayoutModel",
       "_view_count": null,
       "_view_module": "@jupyter-widgets/base",
       "_view_module_version": "2.0.0",
       "_view_name": "LayoutView",
       "align_content": null,
       "align_items": null,
       "align_self": null,
       "border_bottom": null,
       "border_left": null,
       "border_right": null,
       "border_top": null,
       "bottom": null,
       "display": null,
       "flex": null,
       "flex_flow": null,
       "grid_area": null,
       "grid_auto_columns": null,
       "grid_auto_flow": null,
       "grid_auto_rows": null,
       "grid_column": null,
       "grid_gap": null,
       "grid_row": null,
       "grid_template_areas": null,
       "grid_template_columns": null,
       "grid_template_rows": null,
       "height": null,
       "justify_content": null,
       "justify_items": null,
       "left": null,
       "margin": null,
       "max_height": null,
       "max_width": null,
       "min_height": null,
       "min_width": null,
       "object_fit": null,
       "object_position": null,
       "order": null,
       "overflow": null,
       "padding": null,
       "right": null,
       "top": null,
       "visibility": null,
       "width": null
      }
     },
     "93ebf72404024ffe940819df1fe1b725": {
      "model_module": "@jupyter-widgets/controls",
      "model_module_version": "2.0.0",
      "model_name": "HTMLStyleModel",
      "state": {
       "_model_module": "@jupyter-widgets/controls",
       "_model_module_version": "2.0.0",
       "_model_name": "HTMLStyleModel",
       "_view_count": null,
       "_view_module": "@jupyter-widgets/base",
       "_view_module_version": "2.0.0",
       "_view_name": "StyleView",
       "background": null,
       "description_width": "",
       "font_size": null,
       "text_color": null
      }
     },
     "94eacd62c9b14e6eb59be897db390b62": {
      "model_module": "@jupyter-widgets/controls",
      "model_module_version": "2.0.0",
      "model_name": "ProgressStyleModel",
      "state": {
       "_model_module": "@jupyter-widgets/controls",
       "_model_module_version": "2.0.0",
       "_model_name": "ProgressStyleModel",
       "_view_count": null,
       "_view_module": "@jupyter-widgets/base",
       "_view_module_version": "2.0.0",
       "_view_name": "StyleView",
       "bar_color": null,
       "description_width": ""
      }
     },
     "9ddb8f7c0ade440bb37a7e0a86ddd2ac": {
      "model_module": "@jupyter-widgets/controls",
      "model_module_version": "2.0.0",
      "model_name": "HTMLModel",
      "state": {
       "_dom_classes": [],
       "_model_module": "@jupyter-widgets/controls",
       "_model_module_version": "2.0.0",
       "_model_name": "HTMLModel",
       "_view_count": null,
       "_view_module": "@jupyter-widgets/controls",
       "_view_module_version": "2.0.0",
       "_view_name": "HTMLView",
       "description": "",
       "description_allow_html": false,
       "layout": "IPY_MODEL_e56353cac1854b9a9c62de6a3ce9ebca",
       "placeholder": "​",
       "style": "IPY_MODEL_93ebf72404024ffe940819df1fe1b725",
       "tabbable": null,
       "tooltip": null,
       "value": "model.safetensors: 100%"
      }
     },
     "c18a4d912ce14ef7a9699309d37a9e59": {
      "model_module": "@jupyter-widgets/base",
      "model_module_version": "2.0.0",
      "model_name": "LayoutModel",
      "state": {
       "_model_module": "@jupyter-widgets/base",
       "_model_module_version": "2.0.0",
       "_model_name": "LayoutModel",
       "_view_count": null,
       "_view_module": "@jupyter-widgets/base",
       "_view_module_version": "2.0.0",
       "_view_name": "LayoutView",
       "align_content": null,
       "align_items": null,
       "align_self": null,
       "border_bottom": null,
       "border_left": null,
       "border_right": null,
       "border_top": null,
       "bottom": null,
       "display": null,
       "flex": null,
       "flex_flow": null,
       "grid_area": null,
       "grid_auto_columns": null,
       "grid_auto_flow": null,
       "grid_auto_rows": null,
       "grid_column": null,
       "grid_gap": null,
       "grid_row": null,
       "grid_template_areas": null,
       "grid_template_columns": null,
       "grid_template_rows": null,
       "height": null,
       "justify_content": null,
       "justify_items": null,
       "left": null,
       "margin": null,
       "max_height": null,
       "max_width": null,
       "min_height": null,
       "min_width": null,
       "object_fit": null,
       "object_position": null,
       "order": null,
       "overflow": null,
       "padding": null,
       "right": null,
       "top": null,
       "visibility": null,
       "width": null
      }
     },
     "c3977a6825d445dd97a4cd577124dc91": {
      "model_module": "@jupyter-widgets/base",
      "model_module_version": "2.0.0",
      "model_name": "LayoutModel",
      "state": {
       "_model_module": "@jupyter-widgets/base",
       "_model_module_version": "2.0.0",
       "_model_name": "LayoutModel",
       "_view_count": null,
       "_view_module": "@jupyter-widgets/base",
       "_view_module_version": "2.0.0",
       "_view_name": "LayoutView",
       "align_content": null,
       "align_items": null,
       "align_self": null,
       "border_bottom": null,
       "border_left": null,
       "border_right": null,
       "border_top": null,
       "bottom": null,
       "display": null,
       "flex": null,
       "flex_flow": null,
       "grid_area": null,
       "grid_auto_columns": null,
       "grid_auto_flow": null,
       "grid_auto_rows": null,
       "grid_column": null,
       "grid_gap": null,
       "grid_row": null,
       "grid_template_areas": null,
       "grid_template_columns": null,
       "grid_template_rows": null,
       "height": null,
       "justify_content": null,
       "justify_items": null,
       "left": null,
       "margin": null,
       "max_height": null,
       "max_width": null,
       "min_height": null,
       "min_width": null,
       "object_fit": null,
       "object_position": null,
       "order": null,
       "overflow": null,
       "padding": null,
       "right": null,
       "top": null,
       "visibility": null,
       "width": null
      }
     },
     "c42362bdc50e426982602ba729d20cbe": {
      "model_module": "@jupyter-widgets/controls",
      "model_module_version": "2.0.0",
      "model_name": "HTMLStyleModel",
      "state": {
       "_model_module": "@jupyter-widgets/controls",
       "_model_module_version": "2.0.0",
       "_model_name": "HTMLStyleModel",
       "_view_count": null,
       "_view_module": "@jupyter-widgets/base",
       "_view_module_version": "2.0.0",
       "_view_name": "StyleView",
       "background": null,
       "description_width": "",
       "font_size": null,
       "text_color": null
      }
     },
     "d83f8fa4795442a29122580498460bf0": {
      "model_module": "@jupyter-widgets/base",
      "model_module_version": "2.0.0",
      "model_name": "LayoutModel",
      "state": {
       "_model_module": "@jupyter-widgets/base",
       "_model_module_version": "2.0.0",
       "_model_name": "LayoutModel",
       "_view_count": null,
       "_view_module": "@jupyter-widgets/base",
       "_view_module_version": "2.0.0",
       "_view_name": "LayoutView",
       "align_content": null,
       "align_items": null,
       "align_self": null,
       "border_bottom": null,
       "border_left": null,
       "border_right": null,
       "border_top": null,
       "bottom": null,
       "display": null,
       "flex": null,
       "flex_flow": null,
       "grid_area": null,
       "grid_auto_columns": null,
       "grid_auto_flow": null,
       "grid_auto_rows": null,
       "grid_column": null,
       "grid_gap": null,
       "grid_row": null,
       "grid_template_areas": null,
       "grid_template_columns": null,
       "grid_template_rows": null,
       "height": null,
       "justify_content": null,
       "justify_items": null,
       "left": null,
       "margin": null,
       "max_height": null,
       "max_width": null,
       "min_height": null,
       "min_width": null,
       "object_fit": null,
       "object_position": null,
       "order": null,
       "overflow": null,
       "padding": null,
       "right": null,
       "top": null,
       "visibility": null,
       "width": null
      }
     },
     "e56353cac1854b9a9c62de6a3ce9ebca": {
      "model_module": "@jupyter-widgets/base",
      "model_module_version": "2.0.0",
      "model_name": "LayoutModel",
      "state": {
       "_model_module": "@jupyter-widgets/base",
       "_model_module_version": "2.0.0",
       "_model_name": "LayoutModel",
       "_view_count": null,
       "_view_module": "@jupyter-widgets/base",
       "_view_module_version": "2.0.0",
       "_view_name": "LayoutView",
       "align_content": null,
       "align_items": null,
       "align_self": null,
       "border_bottom": null,
       "border_left": null,
       "border_right": null,
       "border_top": null,
       "bottom": null,
       "display": null,
       "flex": null,
       "flex_flow": null,
       "grid_area": null,
       "grid_auto_columns": null,
       "grid_auto_flow": null,
       "grid_auto_rows": null,
       "grid_column": null,
       "grid_gap": null,
       "grid_row": null,
       "grid_template_areas": null,
       "grid_template_columns": null,
       "grid_template_rows": null,
       "height": null,
       "justify_content": null,
       "justify_items": null,
       "left": null,
       "margin": null,
       "max_height": null,
       "max_width": null,
       "min_height": null,
       "min_width": null,
       "object_fit": null,
       "object_position": null,
       "order": null,
       "overflow": null,
       "padding": null,
       "right": null,
       "top": null,
       "visibility": null,
       "width": null
      }
     },
     "f8411210d78042558097363c6feaa858": {
      "model_module": "@jupyter-widgets/controls",
      "model_module_version": "2.0.0",
      "model_name": "HTMLModel",
      "state": {
       "_dom_classes": [],
       "_model_module": "@jupyter-widgets/controls",
       "_model_module_version": "2.0.0",
       "_model_name": "HTMLModel",
       "_view_count": null,
       "_view_module": "@jupyter-widgets/controls",
       "_view_module_version": "2.0.0",
       "_view_name": "HTMLView",
       "description": "",
       "description_allow_html": false,
       "layout": "IPY_MODEL_c3977a6825d445dd97a4cd577124dc91",
       "placeholder": "​",
       "style": "IPY_MODEL_405247075f87401bac2a703f6a53a5ca",
       "tabbable": null,
       "tooltip": null,
       "value": "config.json: 100%"
      }
     }
    },
    "version_major": 2,
    "version_minor": 0
   }
  }
 },
 "nbformat": 4,
 "nbformat_minor": 5
}
