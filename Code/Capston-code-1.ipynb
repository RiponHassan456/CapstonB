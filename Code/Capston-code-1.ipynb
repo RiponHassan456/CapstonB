{
 "cells": [
  {
   "cell_type": "code",
   "execution_count": 1,
   "id": "2aa2dcb1",
   "metadata": {
    "_cell_guid": "b1076dfc-b9ad-4769-8c92-a6c4dae69d19",
    "_uuid": "8f2839f25d086af736a60e9eeb907d3b93b6e0e5",
    "execution": {
     "iopub.execute_input": "2025-10-25T20:04:47.305608Z",
     "iopub.status.busy": "2025-10-25T20:04:47.305399Z",
     "iopub.status.idle": "2025-10-25T20:05:17.194108Z",
     "shell.execute_reply": "2025-10-25T20:05:17.193442Z"
    },
    "papermill": {
     "duration": 29.894123,
     "end_time": "2025-10-25T20:05:17.195561",
     "exception": false,
     "start_time": "2025-10-25T20:04:47.301438",
     "status": "completed"
    },
    "tags": []
   },
   "outputs": [
    {
     "name": "stderr",
     "output_type": "stream",
     "text": [
      "2025-10-25 20:05:04.002547: E external/local_xla/xla/stream_executor/cuda/cuda_fft.cc:477] Unable to register cuFFT factory: Attempting to register factory for plugin cuFFT when one has already been registered\n",
      "WARNING: All log messages before absl::InitializeLog() is called are written to STDERR\n",
      "E0000 00:00:1761422704.238016      19 cuda_dnn.cc:8310] Unable to register cuDNN factory: Attempting to register factory for plugin cuDNN when one has already been registered\n",
      "E0000 00:00:1761422704.297197      19 cuda_blas.cc:1418] Unable to register cuBLAS factory: Attempting to register factory for plugin cuBLAS when one has already been registered\n"
     ]
    }
   ],
   "source": [
    "# ===============================================================\n",
    "# Resume Ranking using BERT (Bangla/English Mixed Resume possible)\n",
    "# ===============================================================\n",
    "\n",
    "import torch\n",
    "from torch.utils.data import Dataset, DataLoader\n",
    "from torch import nn, optim\n",
    "from transformers import BertTokenizer, BertModel\n",
    "from sklearn.model_selection import train_test_split\n",
    "from sklearn.preprocessing import LabelEncoder\n",
    "from sklearn.metrics import classification_report, confusion_matrix, ConfusionMatrixDisplay\n",
    "import pandas as pd\n",
    "import numpy as np\n",
    "import matplotlib.pyplot as plt\n",
    "from tqdm import tqdm"
   ]
  },
  {
   "cell_type": "code",
   "execution_count": 2,
   "id": "cb08a8b7",
   "metadata": {
    "execution": {
     "iopub.execute_input": "2025-10-25T20:05:17.202056Z",
     "iopub.status.busy": "2025-10-25T20:05:17.201606Z",
     "iopub.status.idle": "2025-10-25T20:05:18.299794Z",
     "shell.execute_reply": "2025-10-25T20:05:18.298884Z"
    },
    "papermill": {
     "duration": 1.102729,
     "end_time": "2025-10-25T20:05:18.301292",
     "exception": false,
     "start_time": "2025-10-25T20:05:17.198563",
     "status": "completed"
    },
    "tags": []
   },
   "outputs": [
    {
     "name": "stdout",
     "output_type": "stream",
     "text": [
      "Columns in CSV: ['Role', 'Resume', 'Decision', 'Reason_for_decision', 'Job_Description']\n",
      "Sample data:\n",
      "                          Role  \\\n",
      "0       E-commerce Specialist   \n",
      "1              Game Developer   \n",
      "2  Human Resources Specialist   \n",
      "3       E-commerce Specialist   \n",
      "4       E-commerce Specialist   \n",
      "\n",
      "                                              Resume Decision  \\\n",
      "0  Here's a professional resume for Jason Jones:\\...   reject   \n",
      "1  Here's a professional resume for Ann Marshall:...   select   \n",
      "2  Here's a professional resume for Patrick Mccla...   reject   \n",
      "3  Here's a professional resume for Patricia Gray...   select   \n",
      "4  Here's a professional resume for Amanda Gross:...   reject   \n",
      "\n",
      "                                 Reason_for_decision  \\\n",
      "0    Lacked leadership skills for a senior position.   \n",
      "1              Strong technical skills in AI and ML.   \n",
      "2  Insufficient system design expertise for senio...   \n",
      "3  Impressive leadership and communication abilit...   \n",
      "4    Lacked leadership skills for a senior position.   \n",
      "\n",
      "                                     Job_Description  \n",
      "0  Be part of a passionate team at the forefront ...  \n",
      "1  Help us build the next-generation products as ...  \n",
      "2  We need a Human Resources Specialist to enhanc...  \n",
      "3  Be part of a passionate team at the forefront ...  \n",
      "4  We are looking for an experienced E-commerce S...  \n"
     ]
    }
   ],
   "source": [
    "# ======================\n",
    "# Load CSV\n",
    "# ======================\n",
    "csv_path =\"/kaggle/input/cv-resume/dataset.csv\"\n",
    "df = pd.read_csv(csv_path)\n",
    "\n",
    "# Check columns\n",
    "print(\"Columns in CSV:\", df.columns.tolist())\n",
    "print(\"Sample data:\\n\", df.head())\n"
   ]
  },
  {
   "cell_type": "code",
   "execution_count": 3,
   "id": "2099815e",
   "metadata": {
    "execution": {
     "iopub.execute_input": "2025-10-25T20:05:18.307897Z",
     "iopub.status.busy": "2025-10-25T20:05:18.307669Z",
     "iopub.status.idle": "2025-10-25T20:05:18.361070Z",
     "shell.execute_reply": "2025-10-25T20:05:18.360479Z"
    },
    "papermill": {
     "duration": 0.057931,
     "end_time": "2025-10-25T20:05:18.362225",
     "exception": false,
     "start_time": "2025-10-25T20:05:18.304294",
     "status": "completed"
    },
    "tags": []
   },
   "outputs": [],
   "source": [
    "# ====================================================\n",
    "# 🧩 Step 2: Prepare Data\n",
    "# ====================================================\n",
    "texts = (\n",
    "    \"Role: \" + df[\"Role\"].astype(str) + \". \" +\n",
    "    \"Job Description: \" + df[\"Job_Description\"].astype(str) + \". \" +\n",
    "    \"Resume: \" + df[\"Resume\"].astype(str)\n",
    ").tolist()\n",
    "\n",
    "labels_text = df[\"Decision\"].astype(str).tolist()\n",
    "label_encoder = LabelEncoder()\n",
    "labels = label_encoder.fit_transform(labels_text)\n",
    "\n",
    "train_texts, test_texts, train_labels, test_labels = train_test_split(\n",
    "    texts, labels, test_size=0.2, random_state=42\n",
    ")\n",
    "train_texts, val_texts, train_labels, val_labels = train_test_split(\n",
    "    train_texts, train_labels, test_size=0.1, random_state=42\n",
    ")"
   ]
  },
  {
   "cell_type": "code",
   "execution_count": 4,
   "id": "5d42964d",
   "metadata": {
    "execution": {
     "iopub.execute_input": "2025-10-25T20:05:18.368265Z",
     "iopub.status.busy": "2025-10-25T20:05:18.368028Z",
     "iopub.status.idle": "2025-10-25T20:05:18.460480Z",
     "shell.execute_reply": "2025-10-25T20:05:18.459630Z"
    },
    "papermill": {
     "duration": 0.096689,
     "end_time": "2025-10-25T20:05:18.461620",
     "exception": false,
     "start_time": "2025-10-25T20:05:18.364931",
     "status": "completed"
    },
    "tags": []
   },
   "outputs": [
    {
     "name": "stdout",
     "output_type": "stream",
     "text": [
      "✅ Tokenizer loaded successfully!\n"
     ]
    }
   ],
   "source": [
    "from transformers import BertTokenizer\n",
    "\n",
    "# Kaggle input folder path ব্যবহার করো\n",
    "tokenizer_path =\"/kaggle/input/ksdfoieeknf/bert_local\"\n",
    "tokenizer = BertTokenizer.from_pretrained(tokenizer_path, use_fast=False)\n",
    "\n",
    "# Test\n",
    "text = \"This is a test.\"\n",
    "encoding = tokenizer(text)\n",
    "print(\"✅ Tokenizer loaded successfully!\")"
   ]
  },
  {
   "cell_type": "code",
   "execution_count": 5,
   "id": "e65f6b14",
   "metadata": {
    "execution": {
     "iopub.execute_input": "2025-10-25T20:05:18.467862Z",
     "iopub.status.busy": "2025-10-25T20:05:18.467641Z",
     "iopub.status.idle": "2025-10-25T20:05:18.513242Z",
     "shell.execute_reply": "2025-10-25T20:05:18.512601Z"
    },
    "papermill": {
     "duration": 0.050139,
     "end_time": "2025-10-25T20:05:18.514501",
     "exception": false,
     "start_time": "2025-10-25T20:05:18.464362",
     "status": "completed"
    },
    "tags": []
   },
   "outputs": [],
   "source": [
    "# আগে যেটা ছিল\n",
    "# tokenizer = BertTokenizer.from_pretrained(\"bert-base-uncased\")\n",
    "\n",
    "# replace করে local path use করো\n",
    "tokenizer_path = \"/kaggle/input/ksdfoieeknf/bert_local\"\n",
    "tokenizer = BertTokenizer.from_pretrained(tokenizer_path, use_fast=False)"
   ]
  },
  {
   "cell_type": "code",
   "execution_count": 6,
   "id": "50ccac4d",
   "metadata": {
    "execution": {
     "iopub.execute_input": "2025-10-25T20:05:18.520655Z",
     "iopub.status.busy": "2025-10-25T20:05:18.520434Z",
     "iopub.status.idle": "2025-10-25T20:05:18.524250Z",
     "shell.execute_reply": "2025-10-25T20:05:18.523598Z"
    },
    "papermill": {
     "duration": 0.007953,
     "end_time": "2025-10-25T20:05:18.525251",
     "exception": false,
     "start_time": "2025-10-25T20:05:18.517298",
     "status": "completed"
    },
    "tags": []
   },
   "outputs": [
    {
     "name": "stdout",
     "output_type": "stream",
     "text": [
      "✅ Tokenizer loaded successfully!\n",
      "['this', 'is', 'a', 'working', 'bert', 'token', '##izer', 'test', '.']\n"
     ]
    }
   ],
   "source": [
    "\n",
    "\n",
    "print(\"✅ Tokenizer loaded successfully!\")\n",
    "print(tokenizer.tokenize(\"This is a working BERT tokenizer test.\"))\n"
   ]
  },
  {
   "cell_type": "code",
   "execution_count": 7,
   "id": "6d90b583",
   "metadata": {
    "execution": {
     "iopub.execute_input": "2025-10-25T20:05:18.531104Z",
     "iopub.status.busy": "2025-10-25T20:05:18.530882Z",
     "iopub.status.idle": "2025-10-25T20:05:18.535747Z",
     "shell.execute_reply": "2025-10-25T20:05:18.535057Z"
    },
    "papermill": {
     "duration": 0.008946,
     "end_time": "2025-10-25T20:05:18.536743",
     "exception": false,
     "start_time": "2025-10-25T20:05:18.527797",
     "status": "completed"
    },
    "tags": []
   },
   "outputs": [],
   "source": [
    "\n",
    "# ====================================================\n",
    "# 🧺 Step 4: Dataset Class\n",
    "# ====================================================\n",
    "class ResumeDataset(Dataset):\n",
    "    def __init__(self, texts, labels, tokenizer, max_len=256):\n",
    "        self.texts = texts\n",
    "        self.labels = labels\n",
    "        self.tokenizer = tokenizer\n",
    "        self.max_len = max_len\n",
    "\n",
    "    def __len__(self):\n",
    "        return len(self.texts)\n",
    "\n",
    "    def __getitem__(self, idx):\n",
    "        text = self.texts[idx]\n",
    "        label = self.labels[idx]\n",
    "        encoding = self.tokenizer(\n",
    "            text,\n",
    "            truncation=True,\n",
    "            padding=\"max_length\",\n",
    "            max_length=self.max_len,\n",
    "            return_tensors=\"pt\"\n",
    "        )\n",
    "        return {\n",
    "            \"input_ids\": encoding[\"input_ids\"].squeeze(),\n",
    "            \"attention_mask\": encoding[\"attention_mask\"].squeeze(),\n",
    "            \"label\": torch.tensor(label, dtype=torch.long)\n",
    "        }\n"
   ]
  },
  {
   "cell_type": "code",
   "execution_count": 8,
   "id": "cdd14377",
   "metadata": {
    "execution": {
     "iopub.execute_input": "2025-10-25T20:05:18.542600Z",
     "iopub.status.busy": "2025-10-25T20:05:18.542393Z",
     "iopub.status.idle": "2025-10-25T20:05:18.546736Z",
     "shell.execute_reply": "2025-10-25T20:05:18.546060Z"
    },
    "papermill": {
     "duration": 0.008506,
     "end_time": "2025-10-25T20:05:18.547844",
     "exception": false,
     "start_time": "2025-10-25T20:05:18.539338",
     "status": "completed"
    },
    "tags": []
   },
   "outputs": [],
   "source": [
    "# ====================================================\n",
    "# 🚀 Step 5: Dataloader Setup\n",
    "# ====================================================\n",
    "batch_size = 32\n",
    "train_dataset = ResumeDataset(train_texts, train_labels, tokenizer)\n",
    "val_dataset = ResumeDataset(val_texts, val_labels, tokenizer)\n",
    "test_dataset = ResumeDataset(test_texts, test_labels, tokenizer)\n",
    "\n",
    "train_loader = DataLoader(train_dataset, batch_size=batch_size, shuffle=True)\n",
    "val_loader = DataLoader(val_dataset, batch_size=batch_size)\n",
    "test_loader = DataLoader(test_dataset, batch_size=batch_size)\n"
   ]
  },
  {
   "cell_type": "code",
   "execution_count": 9,
   "id": "45764685",
   "metadata": {
    "execution": {
     "iopub.execute_input": "2025-10-25T20:05:18.554362Z",
     "iopub.status.busy": "2025-10-25T20:05:18.553566Z",
     "iopub.status.idle": "2025-10-25T20:05:18.558217Z",
     "shell.execute_reply": "2025-10-25T20:05:18.557639Z"
    },
    "papermill": {
     "duration": 0.008774,
     "end_time": "2025-10-25T20:05:18.559247",
     "exception": false,
     "start_time": "2025-10-25T20:05:18.550473",
     "status": "completed"
    },
    "tags": []
   },
   "outputs": [],
   "source": [
    "# ====================================================\n",
    "# 🧠 Step 6: BERT-based Model\n",
    "# ====================================================\n",
    "class ResumeClassifier(nn.Module):\n",
    "    def __init__(self, num_classes):\n",
    "        super().__init__()\n",
    "        self.bert = BertModel.from_pretrained(\"bert-base-uncased\")\n",
    "        self.dropout = nn.Dropout(0.3)\n",
    "        self.fc = nn.Linear(self.bert.config.hidden_size, num_classes)\n",
    "\n",
    "    def forward(self, input_ids, attention_mask):\n",
    "        outputs = self.bert(input_ids=input_ids, attention_mask=attention_mask)\n",
    "        cls_output = outputs.pooler_output\n",
    "        cls_output = self.dropout(cls_output)\n",
    "        return self.fc(cls_output)"
   ]
  },
  {
   "cell_type": "code",
   "execution_count": 10,
   "id": "cc2b5015",
   "metadata": {
    "execution": {
     "iopub.execute_input": "2025-10-25T20:05:18.565184Z",
     "iopub.status.busy": "2025-10-25T20:05:18.564941Z",
     "iopub.status.idle": "2025-10-25T20:05:21.439255Z",
     "shell.execute_reply": "2025-10-25T20:05:21.438616Z"
    },
    "papermill": {
     "duration": 2.878971,
     "end_time": "2025-10-25T20:05:21.440656",
     "exception": false,
     "start_time": "2025-10-25T20:05:18.561685",
     "status": "completed"
    },
    "tags": []
   },
   "outputs": [
    {
     "data": {
      "application/vnd.jupyter.widget-view+json": {
       "model_id": "46444073c5c34deda5dbbaf82ff19900",
       "version_major": 2,
       "version_minor": 0
      },
      "text/plain": [
       "config.json:   0%|          | 0.00/570 [00:00<?, ?B/s]"
      ]
     },
     "metadata": {},
     "output_type": "display_data"
    },
    {
     "data": {
      "application/vnd.jupyter.widget-view+json": {
       "model_id": "c4abcc967ee74cd4b98f81a1370e121d",
       "version_major": 2,
       "version_minor": 0
      },
      "text/plain": [
       "model.safetensors:   0%|          | 0.00/440M [00:00<?, ?B/s]"
      ]
     },
     "metadata": {},
     "output_type": "display_data"
    }
   ],
   "source": [
    "# ====================================================\n",
    "# ⚙️ Step 7: Training Utilities\n",
    "# ====================================================\n",
    "device = \"cuda\" if torch.cuda.is_available() else \"cpu\"\n",
    "model = ResumeClassifier(num_classes=len(set(labels))).to(device)\n",
    "\n",
    "loss_fn = nn.CrossEntropyLoss()\n",
    "optimizer = optim.AdamW(model.parameters(), lr=2e-5)\n",
    "\n",
    "def evaluate(model, data_loader):\n",
    "    model.eval()\n",
    "    correct, total = 0, 0\n",
    "    all_preds, all_labels = [], []\n",
    "    with torch.no_grad():\n",
    "        for batch in data_loader:\n",
    "            input_ids = batch[\"input_ids\"].to(device)\n",
    "            attention_mask = batch[\"attention_mask\"].to(device)\n",
    "            labels = batch[\"label\"].to(device)\n",
    "\n",
    "            outputs = model(input_ids, attention_mask)\n",
    "            preds = torch.argmax(outputs, dim=1)\n",
    "            correct += (preds == labels).sum().item()\n",
    "            total += labels.size(0)\n",
    "\n",
    "            all_preds.extend(preds.cpu().numpy())\n",
    "            all_labels.extend(labels.cpu().numpy())\n",
    "\n",
    "    acc = 100 * correct / total\n",
    "    return acc, all_preds, all_labels\n",
    "\n",
    "\n",
    "def train_model(model, train_loader, val_loader, loss_fn, optimizer, num_epochs=2):\n",
    "    for epoch in range(num_epochs):\n",
    "        model.train()\n",
    "        total_loss, total_correct = 0, 0\n",
    "\n",
    "        for batch in tqdm(train_loader, desc=f\"Epoch {epoch+1}/{num_epochs}\"):\n",
    "            input_ids = batch[\"input_ids\"].to(device)\n",
    "            attention_mask = batch[\"attention_mask\"].to(device)\n",
    "            labels = batch[\"label\"].to(device)\n",
    "\n",
    "            optimizer.zero_grad()\n",
    "            outputs = model(input_ids, attention_mask)\n",
    "            loss = loss_fn(outputs, labels)\n",
    "            loss.backward()\n",
    "            optimizer.step()\n",
    "\n",
    "            total_loss += loss.item()\n",
    "            preds = torch.argmax(outputs, dim=1)\n",
    "            total_correct += (preds == labels).sum().item()\n",
    "\n",
    "        train_acc = 100 * total_correct / len(train_loader.dataset)\n",
    "        val_acc, _, _ = evaluate(model, val_loader)\n",
    "        print(f\"\\nEpoch [{epoch+1}/{num_epochs}] | Train Acc: {train_acc:.2f}% | Val Acc: {val_acc:.2f}% | Loss: {total_loss/len(train_loader):.3f}\")\n"
   ]
  },
  {
   "cell_type": "code",
   "execution_count": 11,
   "id": "2f157047",
   "metadata": {
    "execution": {
     "iopub.execute_input": "2025-10-25T20:05:21.447898Z",
     "iopub.status.busy": "2025-10-25T20:05:21.447418Z",
     "iopub.status.idle": "2025-10-25T21:54:35.596246Z",
     "shell.execute_reply": "2025-10-25T21:54:35.595482Z"
    },
    "papermill": {
     "duration": 6554.288953,
     "end_time": "2025-10-25T21:54:35.732882",
     "exception": false,
     "start_time": "2025-10-25T20:05:21.443929",
     "status": "completed"
    },
    "tags": []
   },
   "outputs": [
    {
     "name": "stderr",
     "output_type": "stream",
     "text": [
      "Epoch 1/15: 100%|██████████| 229/229 [06:50<00:00,  1.79s/it]\n"
     ]
    },
    {
     "name": "stdout",
     "output_type": "stream",
     "text": [
      "\n",
      "Epoch [1/15] | Train Acc: 54.40% | Val Acc: 56.76% | Loss: 0.662\n"
     ]
    },
    {
     "name": "stderr",
     "output_type": "stream",
     "text": [
      "Epoch 2/15: 100%|██████████| 229/229 [06:57<00:00,  1.82s/it]\n"
     ]
    },
    {
     "name": "stdout",
     "output_type": "stream",
     "text": [
      "\n",
      "Epoch [2/15] | Train Acc: 56.71% | Val Acc: 53.44% | Loss: 0.625\n"
     ]
    },
    {
     "name": "stderr",
     "output_type": "stream",
     "text": [
      "Epoch 3/15: 100%|██████████| 229/229 [06:57<00:00,  1.82s/it]\n"
     ]
    },
    {
     "name": "stdout",
     "output_type": "stream",
     "text": [
      "\n",
      "Epoch [3/15] | Train Acc: 57.31% | Val Acc: 54.05% | Loss: 0.617\n"
     ]
    },
    {
     "name": "stderr",
     "output_type": "stream",
     "text": [
      "Epoch 4/15: 100%|██████████| 229/229 [06:57<00:00,  1.82s/it]\n"
     ]
    },
    {
     "name": "stdout",
     "output_type": "stream",
     "text": [
      "\n",
      "Epoch [4/15] | Train Acc: 60.48% | Val Acc: 52.58% | Loss: 0.604\n"
     ]
    },
    {
     "name": "stderr",
     "output_type": "stream",
     "text": [
      "Epoch 5/15: 100%|██████████| 229/229 [06:57<00:00,  1.82s/it]\n"
     ]
    },
    {
     "name": "stdout",
     "output_type": "stream",
     "text": [
      "\n",
      "Epoch [5/15] | Train Acc: 63.92% | Val Acc: 54.91% | Loss: 0.582\n"
     ]
    },
    {
     "name": "stderr",
     "output_type": "stream",
     "text": [
      "Epoch 6/15: 100%|██████████| 229/229 [06:57<00:00,  1.82s/it]\n"
     ]
    },
    {
     "name": "stdout",
     "output_type": "stream",
     "text": [
      "\n",
      "Epoch [6/15] | Train Acc: 69.97% | Val Acc: 54.18% | Loss: 0.536\n"
     ]
    },
    {
     "name": "stderr",
     "output_type": "stream",
     "text": [
      "Epoch 7/15: 100%|██████████| 229/229 [06:57<00:00,  1.82s/it]\n"
     ]
    },
    {
     "name": "stdout",
     "output_type": "stream",
     "text": [
      "\n",
      "Epoch [7/15] | Train Acc: 77.05% | Val Acc: 56.02% | Loss: 0.457\n"
     ]
    },
    {
     "name": "stderr",
     "output_type": "stream",
     "text": [
      "Epoch 8/15: 100%|██████████| 229/229 [06:57<00:00,  1.82s/it]\n"
     ]
    },
    {
     "name": "stdout",
     "output_type": "stream",
     "text": [
      "\n",
      "Epoch [8/15] | Train Acc: 83.70% | Val Acc: 54.05% | Loss: 0.354\n"
     ]
    },
    {
     "name": "stderr",
     "output_type": "stream",
     "text": [
      "Epoch 9/15: 100%|██████████| 229/229 [06:57<00:00,  1.82s/it]\n"
     ]
    },
    {
     "name": "stdout",
     "output_type": "stream",
     "text": [
      "\n",
      "Epoch [9/15] | Train Acc: 88.63% | Val Acc: 54.42% | Loss: 0.258\n"
     ]
    },
    {
     "name": "stderr",
     "output_type": "stream",
     "text": [
      "Epoch 10/15: 100%|██████████| 229/229 [06:58<00:00,  1.83s/it]\n"
     ]
    },
    {
     "name": "stdout",
     "output_type": "stream",
     "text": [
      "\n",
      "Epoch [10/15] | Train Acc: 92.31% | Val Acc: 54.30% | Loss: 0.180\n"
     ]
    },
    {
     "name": "stderr",
     "output_type": "stream",
     "text": [
      "Epoch 11/15: 100%|██████████| 229/229 [06:57<00:00,  1.82s/it]\n"
     ]
    },
    {
     "name": "stdout",
     "output_type": "stream",
     "text": [
      "\n",
      "Epoch [11/15] | Train Acc: 94.35% | Val Acc: 54.18% | Loss: 0.136\n"
     ]
    },
    {
     "name": "stderr",
     "output_type": "stream",
     "text": [
      "Epoch 12/15: 100%|██████████| 229/229 [06:58<00:00,  1.83s/it]\n"
     ]
    },
    {
     "name": "stdout",
     "output_type": "stream",
     "text": [
      "\n",
      "Epoch [12/15] | Train Acc: 95.90% | Val Acc: 56.27% | Loss: 0.105\n"
     ]
    },
    {
     "name": "stderr",
     "output_type": "stream",
     "text": [
      "Epoch 13/15: 100%|██████████| 229/229 [06:57<00:00,  1.82s/it]\n"
     ]
    },
    {
     "name": "stdout",
     "output_type": "stream",
     "text": [
      "\n",
      "Epoch [13/15] | Train Acc: 96.70% | Val Acc: 55.90% | Loss: 0.083\n"
     ]
    },
    {
     "name": "stderr",
     "output_type": "stream",
     "text": [
      "Epoch 14/15: 100%|██████████| 229/229 [06:57<00:00,  1.82s/it]\n"
     ]
    },
    {
     "name": "stdout",
     "output_type": "stream",
     "text": [
      "\n",
      "Epoch [14/15] | Train Acc: 97.53% | Val Acc: 55.28% | Loss: 0.063\n"
     ]
    },
    {
     "name": "stderr",
     "output_type": "stream",
     "text": [
      "Epoch 15/15: 100%|██████████| 229/229 [06:57<00:00,  1.82s/it]\n"
     ]
    },
    {
     "name": "stdout",
     "output_type": "stream",
     "text": [
      "\n",
      "Epoch [15/15] | Train Acc: 97.94% | Val Acc: 53.44% | Loss: 0.051\n"
     ]
    }
   ],
   "source": [
    "# ====================================================\n",
    "# 🏋️ Step 8: Train Model\n",
    "# ====================================================\n",
    "train_model(model, train_loader, val_loader, loss_fn, optimizer, num_epochs=15)"
   ]
  },
  {
   "cell_type": "code",
   "execution_count": 12,
   "id": "3713abc0",
   "metadata": {
    "execution": {
     "iopub.execute_input": "2025-10-25T21:54:36.007225Z",
     "iopub.status.busy": "2025-10-25T21:54:36.006891Z",
     "iopub.status.idle": "2025-10-25T21:55:25.271125Z",
     "shell.execute_reply": "2025-10-25T21:55:25.270471Z"
    },
    "papermill": {
     "duration": 49.401099,
     "end_time": "2025-10-25T21:55:25.272613",
     "exception": false,
     "start_time": "2025-10-25T21:54:35.871514",
     "status": "completed"
    },
    "tags": []
   },
   "outputs": [],
   "source": [
    "# ====================================================\n",
    "# 🧾 Step 9: Evaluate on Test Data + Ranking\n",
    "# ====================================================\n",
    "model.eval()\n",
    "all_probs, all_labels, all_texts = [], [], []\n",
    "with torch.no_grad():\n",
    "    for batch in test_loader:\n",
    "        input_ids = batch[\"input_ids\"].to(device)\n",
    "        attention_mask = batch[\"attention_mask\"].to(device)\n",
    "        outputs = model(input_ids, attention_mask)\n",
    "        probs = torch.softmax(outputs, dim=1)\n",
    "        all_probs.extend(probs.cpu().numpy())\n",
    "        all_labels.extend(batch[\"label\"].cpu().numpy())\n",
    "# Prediction probabilities\n",
    "all_probs = np.array(all_probs)\n",
    "pred_classes = np.argmax(all_probs, axis=1)\n",
    "confidence_scores = np.max(all_probs, axis=1)\n",
    "\n",
    "# Add predictions to DataFrame\n",
    "test_df = df.iloc[test_dataset.indices if hasattr(test_dataset, 'indices') else range(len(test_dataset))].copy()\n",
    "test_df[\"Predicted_Decision\"] = label_encoder.inverse_transform(pred_classes)\n",
    "test_df[\"Confidence_Score\"] = confidence_scores"
   ]
  },
  {
   "cell_type": "code",
   "execution_count": 13,
   "id": "b7993f16",
   "metadata": {
    "execution": {
     "iopub.execute_input": "2025-10-25T21:55:25.545463Z",
     "iopub.status.busy": "2025-10-25T21:55:25.545225Z",
     "iopub.status.idle": "2025-10-25T21:55:25.562087Z",
     "shell.execute_reply": "2025-10-25T21:55:25.561285Z"
    },
    "papermill": {
     "duration": 0.152903,
     "end_time": "2025-10-25T21:55:25.563170",
     "exception": false,
     "start_time": "2025-10-25T21:55:25.410267",
     "status": "completed"
    },
    "tags": []
   },
   "outputs": [
    {
     "name": "stdout",
     "output_type": "stream",
     "text": [
      "\n",
      "🏆 Top 3 Best Resume Predictions:\n",
      "                   Role Predicted_Decision  Confidence_Score  \\\n",
      "0    Software Developer             select          0.999994   \n",
      "1        Data Scientist             select          0.999994   \n",
      "2  Mobile App Developer             select          0.999994   \n",
      "\n",
      "                                 Reason_for_decision  \\\n",
      "0  Inability to communicate clearly, Low problem-...   \n",
      "1  Unsuitable for the job role, Lack of relevant ...   \n",
      "2       Insufficient experience in required domains.   \n",
      "\n",
      "                                     Job_Description  \n",
      "0  Expected_experience : 0-2 years, Domains: Web ...  \n",
      "1  Expected_experience : 9+ years, Domains: Data ...  \n",
      "2  **Job Title:** Mobile App Developer\\n\\n**Job S...  \n",
      "\n",
      "🎖️ Best Candidate Summary:\n",
      "Role: Software Developer\n",
      "Predicted Decision: select\n",
      "Confidence: 100.00%\n",
      "Reason: Inability to communicate clearly, Low problem-solving abilities\n",
      "Job Description: Expected_experience : 0-2 years, Domains: Web Development, Mobile Apps\n"
     ]
    }
   ],
   "source": [
    "# Sort by confidence\n",
    "ranked_df = test_df.sort_values(by=\"Confidence_Score\", ascending=False).reset_index(drop=True)\n",
    "\n",
    "print(\"\\n🏆 Top 3 Best Resume Predictions:\")\n",
    "print(ranked_df[['Role', 'Predicted_Decision', 'Confidence_Score', 'Reason_for_decision', 'Job_Description']].head(3))\n",
    "\n",
    "best_candidate = ranked_df.iloc[0]\n",
    "print(\"\\n🎖️ Best Candidate Summary:\")\n",
    "print(f\"Role: {best_candidate['Role']}\")\n",
    "print(f\"Predicted Decision: {best_candidate['Predicted_Decision']}\")\n",
    "print(f\"Confidence: {best_candidate['Confidence_Score']*100:.2f}%\")\n",
    "print(f\"Reason: {best_candidate['Reason_for_decision']}\")\n",
    "print(f\"Job Description: {best_candidate['Job_Description']}\")\n"
   ]
  },
  {
   "cell_type": "code",
   "execution_count": 14,
   "id": "8f079f55",
   "metadata": {
    "execution": {
     "iopub.execute_input": "2025-10-25T21:55:25.912302Z",
     "iopub.status.busy": "2025-10-25T21:55:25.912023Z",
     "iopub.status.idle": "2025-10-25T21:55:26.098751Z",
     "shell.execute_reply": "2025-10-25T21:55:26.098132Z"
    },
    "papermill": {
     "duration": 0.40061,
     "end_time": "2025-10-25T21:55:26.099813",
     "exception": false,
     "start_time": "2025-10-25T21:55:25.699203",
     "status": "completed"
    },
    "tags": []
   },
   "outputs": [
    {
     "name": "stdout",
     "output_type": "stream",
     "text": [
      "\n",
      "✅ Ranked results saved to: ranked_resume_predictions.csv\n"
     ]
    }
   ],
   "source": [
    "# Save output CSV\n",
    "output_path = \"ranked_resume_predictions.csv\"\n",
    "ranked_df.to_csv(output_path, index=False)\n",
    "print(f\"\\n✅ Ranked results saved to: {output_path}\")"
   ]
  }
 ],
 "metadata": {
  "kaggle": {
   "accelerator": "nvidiaTeslaT4",
   "dataSources": [
    {
     "datasetId": 8571592,
     "sourceId": 13499998,
     "sourceType": "datasetVersion"
    },
    {
     "datasetId": 8572071,
     "sourceId": 13500728,
     "sourceType": "datasetVersion"
    }
   ],
   "dockerImageVersionId": 31154,
   "isGpuEnabled": true,
   "isInternetEnabled": true,
   "language": "python",
   "sourceType": "notebook"
  },
  "kernelspec": {
   "display_name": "Python 3",
   "language": "python",
   "name": "python3"
  },
  "language_info": {
   "codemirror_mode": {
    "name": "ipython",
    "version": 3
   },
   "file_extension": ".py",
   "mimetype": "text/x-python",
   "name": "python",
   "nbconvert_exporter": "python",
   "pygments_lexer": "ipython3",
   "version": "3.11.13"
  },
  "papermill": {
   "default_parameters": {},
   "duration": 6645.482229,
   "end_time": "2025-10-25T21:55:29.028090",
   "environment_variables": {},
   "exception": null,
   "input_path": "__notebook__.ipynb",
   "output_path": "__notebook__.ipynb",
   "parameters": {},
   "start_time": "2025-10-25T20:04:43.545861",
   "version": "2.6.0"
  },
  "widgets": {
   "application/vnd.jupyter.widget-state+json": {
    "state": {
     "0211f372985846209ac02f704a3f4eec": {
      "model_module": "@jupyter-widgets/controls",
      "model_module_version": "2.0.0",
      "model_name": "HTMLModel",
      "state": {
       "_dom_classes": [],
       "_model_module": "@jupyter-widgets/controls",
       "_model_module_version": "2.0.0",
       "_model_name": "HTMLModel",
       "_view_count": null,
       "_view_module": "@jupyter-widgets/controls",
       "_view_module_version": "2.0.0",
       "_view_name": "HTMLView",
       "description": "",
       "description_allow_html": false,
       "layout": "IPY_MODEL_48c1b36442cb4579bc4f5143da889825",
       "placeholder": "​",
       "style": "IPY_MODEL_5b29e4a5f82a478f8bc5c9ab91f1bf0f",
       "tabbable": null,
       "tooltip": null,
       "value": "model.safetensors: 100%"
      }
     },
     "0bc3fd28b7ec4ae88651651382a5e4ed": {
      "model_module": "@jupyter-widgets/controls",
      "model_module_version": "2.0.0",
      "model_name": "HTMLModel",
      "state": {
       "_dom_classes": [],
       "_model_module": "@jupyter-widgets/controls",
       "_model_module_version": "2.0.0",
       "_model_name": "HTMLModel",
       "_view_count": null,
       "_view_module": "@jupyter-widgets/controls",
       "_view_module_version": "2.0.0",
       "_view_name": "HTMLView",
       "description": "",
       "description_allow_html": false,
       "layout": "IPY_MODEL_6ed97a87e32b4b0ea447aad9cf1e8360",
       "placeholder": "​",
       "style": "IPY_MODEL_2f76ffb83e2545d2a21204832e3c2930",
       "tabbable": null,
       "tooltip": null,
       "value": " 440M/440M [00:01&lt;00:00, 317MB/s]"
      }
     },
     "2f76ffb83e2545d2a21204832e3c2930": {
      "model_module": "@jupyter-widgets/controls",
      "model_module_version": "2.0.0",
      "model_name": "HTMLStyleModel",
      "state": {
       "_model_module": "@jupyter-widgets/controls",
       "_model_module_version": "2.0.0",
       "_model_name": "HTMLStyleModel",
       "_view_count": null,
       "_view_module": "@jupyter-widgets/base",
       "_view_module_version": "2.0.0",
       "_view_name": "StyleView",
       "background": null,
       "description_width": "",
       "font_size": null,
       "text_color": null
      }
     },
     "43b3cb40883b4d12af2752044ef0355e": {
      "model_module": "@jupyter-widgets/controls",
      "model_module_version": "2.0.0",
      "model_name": "HTMLModel",
      "state": {
       "_dom_classes": [],
       "_model_module": "@jupyter-widgets/controls",
       "_model_module_version": "2.0.0",
       "_model_name": "HTMLModel",
       "_view_count": null,
       "_view_module": "@jupyter-widgets/controls",
       "_view_module_version": "2.0.0",
       "_view_name": "HTMLView",
       "description": "",
       "description_allow_html": false,
       "layout": "IPY_MODEL_b336a78d79f843939ad3a6e9d8175e91",
       "placeholder": "​",
       "style": "IPY_MODEL_44b8d3c434b94632a49ffd809dc3ca2b",
       "tabbable": null,
       "tooltip": null,
       "value": "config.json: 100%"
      }
     },
     "44b8d3c434b94632a49ffd809dc3ca2b": {
      "model_module": "@jupyter-widgets/controls",
      "model_module_version": "2.0.0",
      "model_name": "HTMLStyleModel",
      "state": {
       "_model_module": "@jupyter-widgets/controls",
       "_model_module_version": "2.0.0",
       "_model_name": "HTMLStyleModel",
       "_view_count": null,
       "_view_module": "@jupyter-widgets/base",
       "_view_module_version": "2.0.0",
       "_view_name": "StyleView",
       "background": null,
       "description_width": "",
       "font_size": null,
       "text_color": null
      }
     },
     "46444073c5c34deda5dbbaf82ff19900": {
      "model_module": "@jupyter-widgets/controls",
      "model_module_version": "2.0.0",
      "model_name": "HBoxModel",
      "state": {
       "_dom_classes": [],
       "_model_module": "@jupyter-widgets/controls",
       "_model_module_version": "2.0.0",
       "_model_name": "HBoxModel",
       "_view_count": null,
       "_view_module": "@jupyter-widgets/controls",
       "_view_module_version": "2.0.0",
       "_view_name": "HBoxView",
       "box_style": "",
       "children": [
        "IPY_MODEL_43b3cb40883b4d12af2752044ef0355e",
        "IPY_MODEL_654947a37bbe4f0c9110479bcfd6dd34",
        "IPY_MODEL_f0855d5ca3de4d499021c32d2c824d36"
       ],
       "layout": "IPY_MODEL_be2cca21886a45b89e66920a7b09e1fe",
       "tabbable": null,
       "tooltip": null
      }
     },
     "48c1b36442cb4579bc4f5143da889825": {
      "model_module": "@jupyter-widgets/base",
      "model_module_version": "2.0.0",
      "model_name": "LayoutModel",
      "state": {
       "_model_module": "@jupyter-widgets/base",
       "_model_module_version": "2.0.0",
       "_model_name": "LayoutModel",
       "_view_count": null,
       "_view_module": "@jupyter-widgets/base",
       "_view_module_version": "2.0.0",
       "_view_name": "LayoutView",
       "align_content": null,
       "align_items": null,
       "align_self": null,
       "border_bottom": null,
       "border_left": null,
       "border_right": null,
       "border_top": null,
       "bottom": null,
       "display": null,
       "flex": null,
       "flex_flow": null,
       "grid_area": null,
       "grid_auto_columns": null,
       "grid_auto_flow": null,
       "grid_auto_rows": null,
       "grid_column": null,
       "grid_gap": null,
       "grid_row": null,
       "grid_template_areas": null,
       "grid_template_columns": null,
       "grid_template_rows": null,
       "height": null,
       "justify_content": null,
       "justify_items": null,
       "left": null,
       "margin": null,
       "max_height": null,
       "max_width": null,
       "min_height": null,
       "min_width": null,
       "object_fit": null,
       "object_position": null,
       "order": null,
       "overflow": null,
       "padding": null,
       "right": null,
       "top": null,
       "visibility": null,
       "width": null
      }
     },
     "59d6380d4a934af49838eeb61aadc052": {
      "model_module": "@jupyter-widgets/base",
      "model_module_version": "2.0.0",
      "model_name": "LayoutModel",
      "state": {
       "_model_module": "@jupyter-widgets/base",
       "_model_module_version": "2.0.0",
       "_model_name": "LayoutModel",
       "_view_count": null,
       "_view_module": "@jupyter-widgets/base",
       "_view_module_version": "2.0.0",
       "_view_name": "LayoutView",
       "align_content": null,
       "align_items": null,
       "align_self": null,
       "border_bottom": null,
       "border_left": null,
       "border_right": null,
       "border_top": null,
       "bottom": null,
       "display": null,
       "flex": null,
       "flex_flow": null,
       "grid_area": null,
       "grid_auto_columns": null,
       "grid_auto_flow": null,
       "grid_auto_rows": null,
       "grid_column": null,
       "grid_gap": null,
       "grid_row": null,
       "grid_template_areas": null,
       "grid_template_columns": null,
       "grid_template_rows": null,
       "height": null,
       "justify_content": null,
       "justify_items": null,
       "left": null,
       "margin": null,
       "max_height": null,
       "max_width": null,
       "min_height": null,
       "min_width": null,
       "object_fit": null,
       "object_position": null,
       "order": null,
       "overflow": null,
       "padding": null,
       "right": null,
       "top": null,
       "visibility": null,
       "width": null
      }
     },
     "5b29e4a5f82a478f8bc5c9ab91f1bf0f": {
      "model_module": "@jupyter-widgets/controls",
      "model_module_version": "2.0.0",
      "model_name": "HTMLStyleModel",
      "state": {
       "_model_module": "@jupyter-widgets/controls",
       "_model_module_version": "2.0.0",
       "_model_name": "HTMLStyleModel",
       "_view_count": null,
       "_view_module": "@jupyter-widgets/base",
       "_view_module_version": "2.0.0",
       "_view_name": "StyleView",
       "background": null,
       "description_width": "",
       "font_size": null,
       "text_color": null
      }
     },
     "654947a37bbe4f0c9110479bcfd6dd34": {
      "model_module": "@jupyter-widgets/controls",
      "model_module_version": "2.0.0",
      "model_name": "FloatProgressModel",
      "state": {
       "_dom_classes": [],
       "_model_module": "@jupyter-widgets/controls",
       "_model_module_version": "2.0.0",
       "_model_name": "FloatProgressModel",
       "_view_count": null,
       "_view_module": "@jupyter-widgets/controls",
       "_view_module_version": "2.0.0",
       "_view_name": "ProgressView",
       "bar_style": "success",
       "description": "",
       "description_allow_html": false,
       "layout": "IPY_MODEL_8687b01fecfd412abaee54313713fe19",
       "max": 570.0,
       "min": 0.0,
       "orientation": "horizontal",
       "style": "IPY_MODEL_c468c6c0c0e248d39caeb7becf748dc5",
       "tabbable": null,
       "tooltip": null,
       "value": 570.0
      }
     },
     "6d46fd26826d4414bca11fa60eba57dd": {
      "model_module": "@jupyter-widgets/controls",
      "model_module_version": "2.0.0",
      "model_name": "HTMLStyleModel",
      "state": {
       "_model_module": "@jupyter-widgets/controls",
       "_model_module_version": "2.0.0",
       "_model_name": "HTMLStyleModel",
       "_view_count": null,
       "_view_module": "@jupyter-widgets/base",
       "_view_module_version": "2.0.0",
       "_view_name": "StyleView",
       "background": null,
       "description_width": "",
       "font_size": null,
       "text_color": null
      }
     },
     "6ed97a87e32b4b0ea447aad9cf1e8360": {
      "model_module": "@jupyter-widgets/base",
      "model_module_version": "2.0.0",
      "model_name": "LayoutModel",
      "state": {
       "_model_module": "@jupyter-widgets/base",
       "_model_module_version": "2.0.0",
       "_model_name": "LayoutModel",
       "_view_count": null,
       "_view_module": "@jupyter-widgets/base",
       "_view_module_version": "2.0.0",
       "_view_name": "LayoutView",
       "align_content": null,
       "align_items": null,
       "align_self": null,
       "border_bottom": null,
       "border_left": null,
       "border_right": null,
       "border_top": null,
       "bottom": null,
       "display": null,
       "flex": null,
       "flex_flow": null,
       "grid_area": null,
       "grid_auto_columns": null,
       "grid_auto_flow": null,
       "grid_auto_rows": null,
       "grid_column": null,
       "grid_gap": null,
       "grid_row": null,
       "grid_template_areas": null,
       "grid_template_columns": null,
       "grid_template_rows": null,
       "height": null,
       "justify_content": null,
       "justify_items": null,
       "left": null,
       "margin": null,
       "max_height": null,
       "max_width": null,
       "min_height": null,
       "min_width": null,
       "object_fit": null,
       "object_position": null,
       "order": null,
       "overflow": null,
       "padding": null,
       "right": null,
       "top": null,
       "visibility": null,
       "width": null
      }
     },
     "70f119b3456c4f5d9b426b927bec326b": {
      "model_module": "@jupyter-widgets/controls",
      "model_module_version": "2.0.0",
      "model_name": "ProgressStyleModel",
      "state": {
       "_model_module": "@jupyter-widgets/controls",
       "_model_module_version": "2.0.0",
       "_model_name": "ProgressStyleModel",
       "_view_count": null,
       "_view_module": "@jupyter-widgets/base",
       "_view_module_version": "2.0.0",
       "_view_name": "StyleView",
       "bar_color": null,
       "description_width": ""
      }
     },
     "8687b01fecfd412abaee54313713fe19": {
      "model_module": "@jupyter-widgets/base",
      "model_module_version": "2.0.0",
      "model_name": "LayoutModel",
      "state": {
       "_model_module": "@jupyter-widgets/base",
       "_model_module_version": "2.0.0",
       "_model_name": "LayoutModel",
       "_view_count": null,
       "_view_module": "@jupyter-widgets/base",
       "_view_module_version": "2.0.0",
       "_view_name": "LayoutView",
       "align_content": null,
       "align_items": null,
       "align_self": null,
       "border_bottom": null,
       "border_left": null,
       "border_right": null,
       "border_top": null,
       "bottom": null,
       "display": null,
       "flex": null,
       "flex_flow": null,
       "grid_area": null,
       "grid_auto_columns": null,
       "grid_auto_flow": null,
       "grid_auto_rows": null,
       "grid_column": null,
       "grid_gap": null,
       "grid_row": null,
       "grid_template_areas": null,
       "grid_template_columns": null,
       "grid_template_rows": null,
       "height": null,
       "justify_content": null,
       "justify_items": null,
       "left": null,
       "margin": null,
       "max_height": null,
       "max_width": null,
       "min_height": null,
       "min_width": null,
       "object_fit": null,
       "object_position": null,
       "order": null,
       "overflow": null,
       "padding": null,
       "right": null,
       "top": null,
       "visibility": null,
       "width": null
      }
     },
     "b336a78d79f843939ad3a6e9d8175e91": {
      "model_module": "@jupyter-widgets/base",
      "model_module_version": "2.0.0",
      "model_name": "LayoutModel",
      "state": {
       "_model_module": "@jupyter-widgets/base",
       "_model_module_version": "2.0.0",
       "_model_name": "LayoutModel",
       "_view_count": null,
       "_view_module": "@jupyter-widgets/base",
       "_view_module_version": "2.0.0",
       "_view_name": "LayoutView",
       "align_content": null,
       "align_items": null,
       "align_self": null,
       "border_bottom": null,
       "border_left": null,
       "border_right": null,
       "border_top": null,
       "bottom": null,
       "display": null,
       "flex": null,
       "flex_flow": null,
       "grid_area": null,
       "grid_auto_columns": null,
       "grid_auto_flow": null,
       "grid_auto_rows": null,
       "grid_column": null,
       "grid_gap": null,
       "grid_row": null,
       "grid_template_areas": null,
       "grid_template_columns": null,
       "grid_template_rows": null,
       "height": null,
       "justify_content": null,
       "justify_items": null,
       "left": null,
       "margin": null,
       "max_height": null,
       "max_width": null,
       "min_height": null,
       "min_width": null,
       "object_fit": null,
       "object_position": null,
       "order": null,
       "overflow": null,
       "padding": null,
       "right": null,
       "top": null,
       "visibility": null,
       "width": null
      }
     },
     "be2cca21886a45b89e66920a7b09e1fe": {
      "model_module": "@jupyter-widgets/base",
      "model_module_version": "2.0.0",
      "model_name": "LayoutModel",
      "state": {
       "_model_module": "@jupyter-widgets/base",
       "_model_module_version": "2.0.0",
       "_model_name": "LayoutModel",
       "_view_count": null,
       "_view_module": "@jupyter-widgets/base",
       "_view_module_version": "2.0.0",
       "_view_name": "LayoutView",
       "align_content": null,
       "align_items": null,
       "align_self": null,
       "border_bottom": null,
       "border_left": null,
       "border_right": null,
       "border_top": null,
       "bottom": null,
       "display": null,
       "flex": null,
       "flex_flow": null,
       "grid_area": null,
       "grid_auto_columns": null,
       "grid_auto_flow": null,
       "grid_auto_rows": null,
       "grid_column": null,
       "grid_gap": null,
       "grid_row": null,
       "grid_template_areas": null,
       "grid_template_columns": null,
       "grid_template_rows": null,
       "height": null,
       "justify_content": null,
       "justify_items": null,
       "left": null,
       "margin": null,
       "max_height": null,
       "max_width": null,
       "min_height": null,
       "min_width": null,
       "object_fit": null,
       "object_position": null,
       "order": null,
       "overflow": null,
       "padding": null,
       "right": null,
       "top": null,
       "visibility": null,
       "width": null
      }
     },
     "c108723b814443db9410a83e028a51da": {
      "model_module": "@jupyter-widgets/base",
      "model_module_version": "2.0.0",
      "model_name": "LayoutModel",
      "state": {
       "_model_module": "@jupyter-widgets/base",
       "_model_module_version": "2.0.0",
       "_model_name": "LayoutModel",
       "_view_count": null,
       "_view_module": "@jupyter-widgets/base",
       "_view_module_version": "2.0.0",
       "_view_name": "LayoutView",
       "align_content": null,
       "align_items": null,
       "align_self": null,
       "border_bottom": null,
       "border_left": null,
       "border_right": null,
       "border_top": null,
       "bottom": null,
       "display": null,
       "flex": null,
       "flex_flow": null,
       "grid_area": null,
       "grid_auto_columns": null,
       "grid_auto_flow": null,
       "grid_auto_rows": null,
       "grid_column": null,
       "grid_gap": null,
       "grid_row": null,
       "grid_template_areas": null,
       "grid_template_columns": null,
       "grid_template_rows": null,
       "height": null,
       "justify_content": null,
       "justify_items": null,
       "left": null,
       "margin": null,
       "max_height": null,
       "max_width": null,
       "min_height": null,
       "min_width": null,
       "object_fit": null,
       "object_position": null,
       "order": null,
       "overflow": null,
       "padding": null,
       "right": null,
       "top": null,
       "visibility": null,
       "width": null
      }
     },
     "c468c6c0c0e248d39caeb7becf748dc5": {
      "model_module": "@jupyter-widgets/controls",
      "model_module_version": "2.0.0",
      "model_name": "ProgressStyleModel",
      "state": {
       "_model_module": "@jupyter-widgets/controls",
       "_model_module_version": "2.0.0",
       "_model_name": "ProgressStyleModel",
       "_view_count": null,
       "_view_module": "@jupyter-widgets/base",
       "_view_module_version": "2.0.0",
       "_view_name": "StyleView",
       "bar_color": null,
       "description_width": ""
      }
     },
     "c4abcc967ee74cd4b98f81a1370e121d": {
      "model_module": "@jupyter-widgets/controls",
      "model_module_version": "2.0.0",
      "model_name": "HBoxModel",
      "state": {
       "_dom_classes": [],
       "_model_module": "@jupyter-widgets/controls",
       "_model_module_version": "2.0.0",
       "_model_name": "HBoxModel",
       "_view_count": null,
       "_view_module": "@jupyter-widgets/controls",
       "_view_module_version": "2.0.0",
       "_view_name": "HBoxView",
       "box_style": "",
       "children": [
        "IPY_MODEL_0211f372985846209ac02f704a3f4eec",
        "IPY_MODEL_d762809bb8b64913b2dedf8cb2b125d3",
        "IPY_MODEL_0bc3fd28b7ec4ae88651651382a5e4ed"
       ],
       "layout": "IPY_MODEL_c986548109c74c1588a668d5d1701767",
       "tabbable": null,
       "tooltip": null
      }
     },
     "c986548109c74c1588a668d5d1701767": {
      "model_module": "@jupyter-widgets/base",
      "model_module_version": "2.0.0",
      "model_name": "LayoutModel",
      "state": {
       "_model_module": "@jupyter-widgets/base",
       "_model_module_version": "2.0.0",
       "_model_name": "LayoutModel",
       "_view_count": null,
       "_view_module": "@jupyter-widgets/base",
       "_view_module_version": "2.0.0",
       "_view_name": "LayoutView",
       "align_content": null,
       "align_items": null,
       "align_self": null,
       "border_bottom": null,
       "border_left": null,
       "border_right": null,
       "border_top": null,
       "bottom": null,
       "display": null,
       "flex": null,
       "flex_flow": null,
       "grid_area": null,
       "grid_auto_columns": null,
       "grid_auto_flow": null,
       "grid_auto_rows": null,
       "grid_column": null,
       "grid_gap": null,
       "grid_row": null,
       "grid_template_areas": null,
       "grid_template_columns": null,
       "grid_template_rows": null,
       "height": null,
       "justify_content": null,
       "justify_items": null,
       "left": null,
       "margin": null,
       "max_height": null,
       "max_width": null,
       "min_height": null,
       "min_width": null,
       "object_fit": null,
       "object_position": null,
       "order": null,
       "overflow": null,
       "padding": null,
       "right": null,
       "top": null,
       "visibility": null,
       "width": null
      }
     },
     "d762809bb8b64913b2dedf8cb2b125d3": {
      "model_module": "@jupyter-widgets/controls",
      "model_module_version": "2.0.0",
      "model_name": "FloatProgressModel",
      "state": {
       "_dom_classes": [],
       "_model_module": "@jupyter-widgets/controls",
       "_model_module_version": "2.0.0",
       "_model_name": "FloatProgressModel",
       "_view_count": null,
       "_view_module": "@jupyter-widgets/controls",
       "_view_module_version": "2.0.0",
       "_view_name": "ProgressView",
       "bar_style": "success",
       "description": "",
       "description_allow_html": false,
       "layout": "IPY_MODEL_59d6380d4a934af49838eeb61aadc052",
       "max": 440449768.0,
       "min": 0.0,
       "orientation": "horizontal",
       "style": "IPY_MODEL_70f119b3456c4f5d9b426b927bec326b",
       "tabbable": null,
       "tooltip": null,
       "value": 440449768.0
      }
     },
     "f0855d5ca3de4d499021c32d2c824d36": {
      "model_module": "@jupyter-widgets/controls",
      "model_module_version": "2.0.0",
      "model_name": "HTMLModel",
      "state": {
       "_dom_classes": [],
       "_model_module": "@jupyter-widgets/controls",
       "_model_module_version": "2.0.0",
       "_model_name": "HTMLModel",
       "_view_count": null,
       "_view_module": "@jupyter-widgets/controls",
       "_view_module_version": "2.0.0",
       "_view_name": "HTMLView",
       "description": "",
       "description_allow_html": false,
       "layout": "IPY_MODEL_c108723b814443db9410a83e028a51da",
       "placeholder": "​",
       "style": "IPY_MODEL_6d46fd26826d4414bca11fa60eba57dd",
       "tabbable": null,
       "tooltip": null,
       "value": " 570/570 [00:00&lt;00:00, 63.6kB/s]"
      }
     }
    },
    "version_major": 2,
    "version_minor": 0
   }
  }
 },
 "nbformat": 4,
 "nbformat_minor": 5
}
