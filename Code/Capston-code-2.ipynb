{
 "cells": [
  {
   "cell_type": "code",
   "execution_count": 1,
   "id": "da7e4618",
   "metadata": {
    "_cell_guid": "b1076dfc-b9ad-4769-8c92-a6c4dae69d19",
    "_uuid": "8f2839f25d086af736a60e9eeb907d3b93b6e0e5",
    "execution": {
     "iopub.execute_input": "2025-10-26T07:00:38.378557Z",
     "iopub.status.busy": "2025-10-26T07:00:38.378258Z",
     "iopub.status.idle": "2025-10-26T07:01:10.857379Z",
     "shell.execute_reply": "2025-10-26T07:01:10.856718Z"
    },
    "papermill": {
     "duration": 32.485187,
     "end_time": "2025-10-26T07:01:10.858893",
     "exception": false,
     "start_time": "2025-10-26T07:00:38.373706",
     "status": "completed"
    },
    "tags": []
   },
   "outputs": [
    {
     "name": "stdout",
     "output_type": "stream",
     "text": [
      "\u001b[2K   \u001b[90m━━━━━━━━━━━━━━━━━━━━━━━━━━━━━━━━━━━━━━━━\u001b[0m \u001b[32m566.1/566.1 kB\u001b[0m \u001b[31m11.3 MB/s\u001b[0m eta \u001b[36m0:00:00\u001b[0m\r\n",
      "\u001b[?25h\u001b[31mERROR: pip's dependency resolver does not currently take into account all the packages that are installed. This behaviour is the source of the following dependency conflicts.\r\n",
      "datasets 4.1.1 requires pyarrow>=21.0.0, but you have pyarrow 19.0.1 which is incompatible.\r\n",
      "gradio 5.38.1 requires pydantic<2.12,>=2.0, but you have pydantic 2.12.0a1 which is incompatible.\u001b[0m\u001b[31m\r\n",
      "\u001b[0m"
     ]
    },
    {
     "name": "stderr",
     "output_type": "stream",
     "text": [
      "2025-10-26 07:00:58.469370: E external/local_xla/xla/stream_executor/cuda/cuda_fft.cc:477] Unable to register cuFFT factory: Attempting to register factory for plugin cuFFT when one has already been registered\n",
      "WARNING: All log messages before absl::InitializeLog() is called are written to STDERR\n",
      "E0000 00:00:1761462058.631686      19 cuda_dnn.cc:8310] Unable to register cuDNN factory: Attempting to register factory for plugin cuDNN when one has already been registered\n",
      "E0000 00:00:1761462058.680750      19 cuda_blas.cc:1418] Unable to register cuBLAS factory: Attempting to register factory for plugin cuBLAS when one has already been registered\n"
     ]
    }
   ],
   "source": [
    "# ===============================================================\n",
    "# 🌟 Colab GPU Optimized Resume Ranking & Analysis using BERT\n",
    "# ===============================================================\n",
    "\n",
    "# ✅ Install Transformers if not already installed\n",
    "!pip install transformers --quiet\n",
    "\n",
    "import torch\n",
    "from torch.utils.data import Dataset, DataLoader\n",
    "from torch import nn, optim\n",
    "from transformers import BertTokenizer, BertModel\n",
    "from sklearn.model_selection import train_test_split\n",
    "from sklearn.preprocessing import LabelEncoder\n",
    "from sklearn.metrics import classification_report, confusion_matrix, ConfusionMatrixDisplay, roc_curve, auc\n",
    "import pandas as pd\n",
    "import numpy as np\n",
    "import matplotlib.pyplot as plt\n",
    "from tqdm import tqdm\n",
    "import time"
   ]
  },
  {
   "cell_type": "code",
   "execution_count": 2,
   "id": "f29e0080",
   "metadata": {
    "execution": {
     "iopub.execute_input": "2025-10-26T07:01:10.867622Z",
     "iopub.status.busy": "2025-10-26T07:01:10.866654Z",
     "iopub.status.idle": "2025-10-26T07:01:10.871370Z",
     "shell.execute_reply": "2025-10-26T07:01:10.870654Z"
    },
    "papermill": {
     "duration": 0.009971,
     "end_time": "2025-10-26T07:01:10.872553",
     "exception": false,
     "start_time": "2025-10-26T07:01:10.862582",
     "status": "completed"
    },
    "tags": []
   },
   "outputs": [
    {
     "name": "stdout",
     "output_type": "stream",
     "text": [
      "✅ Device: cuda\n"
     ]
    }
   ],
   "source": [
    "# ======================\n",
    "# GPU Check\n",
    "# ======================\n",
    "device = \"cuda\" if torch.cuda.is_available() else \"cpu\"\n",
    "print(\"✅ Device:\", device)"
   ]
  },
  {
   "cell_type": "code",
   "execution_count": 3,
   "id": "053d5807",
   "metadata": {
    "execution": {
     "iopub.execute_input": "2025-10-26T07:01:10.879829Z",
     "iopub.status.busy": "2025-10-26T07:01:10.879352Z",
     "iopub.status.idle": "2025-10-26T07:01:11.014441Z",
     "shell.execute_reply": "2025-10-26T07:01:11.013504Z"
    },
    "papermill": {
     "duration": 0.14016,
     "end_time": "2025-10-26T07:01:11.015985",
     "exception": false,
     "start_time": "2025-10-26T07:01:10.875825",
     "status": "completed"
    },
    "tags": []
   },
   "outputs": [
    {
     "name": "stdout",
     "output_type": "stream",
     "text": [
      "Columns in CSV: ['Role', 'Resume', 'Decision', 'Reason_for_decision', 'Job_Description']\n",
      "                         Role  \\\n",
      "0       E-commerce Specialist   \n",
      "1              Game Developer   \n",
      "2  Human Resources Specialist   \n",
      "3       E-commerce Specialist   \n",
      "4       E-commerce Specialist   \n",
      "\n",
      "                                              Resume Decision  \\\n",
      "0  Here's a professional resume for Jason Jones:\\...   reject   \n",
      "1  Here's a professional resume for Ann Marshall:...   select   \n",
      "2  Here's a professional resume for Patrick Mccla...   reject   \n",
      "3  Here's a professional resume for Patricia Gray...   select   \n",
      "4  Here's a professional resume for Amanda Gross:...   reject   \n",
      "\n",
      "                                 Reason_for_decision  \\\n",
      "0    Lacked leadership skills for a senior position.   \n",
      "1              Strong technical skills in AI and ML.   \n",
      "2  Insufficient system design expertise for senio...   \n",
      "3  Impressive leadership and communication abilit...   \n",
      "4    Lacked leadership skills for a senior position.   \n",
      "\n",
      "                                     Job_Description  \n",
      "0  Be part of a passionate team at the forefront ...  \n",
      "1  Help us build the next-generation products as ...  \n",
      "2  We need a Human Resources Specialist to enhanc...  \n",
      "3  Be part of a passionate team at the forefront ...  \n",
      "4  We are looking for an experienced E-commerce S...  \n",
      "\n",
      "Label mapping: {'reject': 0, 'select': 1}\n"
     ]
    }
   ],
   "source": [
    "# ======================\n",
    "# Load Dataset\n",
    "# ======================\n",
    "csv_path = \"/kaggle/input/cv-resume-data-set-1k/dataset 1k.csv\"  # Upload your dataset to Colab path\n",
    "df = pd.read_csv(csv_path)\n",
    "\n",
    "print(\"Columns in CSV:\", df.columns.tolist())\n",
    "print(df.head())\n",
    "\n",
    "texts = df[\"Resume\"].astype(str).tolist()\n",
    "job_roles = df[\"Role\"].astype(str).tolist()\n",
    "job_desc = df[\"Job_Description\"].astype(str).tolist()\n",
    "labels_text = df[\"Decision\"].astype(str).tolist()\n",
    "\n",
    "label_encoder = LabelEncoder()\n",
    "labels = label_encoder.fit_transform(labels_text)\n",
    "print(\"\\nLabel mapping:\", dict(zip(label_encoder.classes_, label_encoder.transform(label_encoder.classes_))))\n"
   ]
  },
  {
   "cell_type": "code",
   "execution_count": 4,
   "id": "308ca0d1",
   "metadata": {
    "execution": {
     "iopub.execute_input": "2025-10-26T07:01:11.024631Z",
     "iopub.status.busy": "2025-10-26T07:01:11.023879Z",
     "iopub.status.idle": "2025-10-26T07:01:11.033834Z",
     "shell.execute_reply": "2025-10-26T07:01:11.033123Z"
    },
    "papermill": {
     "duration": 0.015218,
     "end_time": "2025-10-26T07:01:11.035022",
     "exception": false,
     "start_time": "2025-10-26T07:01:11.019804",
     "status": "completed"
    },
    "tags": []
   },
   "outputs": [
    {
     "name": "stdout",
     "output_type": "stream",
     "text": [
      "\n",
      "📊 Data Split Summary:\n",
      "Train: 900 (90%)\n",
      "Validation: 50 (10%)\n",
      "Test: 50 (10%)\n"
     ]
    }
   ],
   "source": [
    "# ======================\n",
    "# Data Split (Show %)\n",
    "# ======================\n",
    "train_ratio, val_ratio, test_ratio = 0.9, 0.10, 0.10\n",
    "train_texts, temp_texts, train_labels, temp_labels, train_job_roles, temp_job_roles, train_job_desc, temp_job_desc = train_test_split(\n",
    "    texts, labels, job_roles, job_desc, test_size=(1-train_ratio), random_state=42\n",
    ")\n",
    "val_texts, test_texts, val_labels, test_labels, val_job_roles, test_job_roles, val_job_desc, test_job_desc = train_test_split(\n",
    "    temp_texts, temp_labels, temp_job_roles, temp_job_desc, test_size=test_ratio/(val_ratio+test_ratio), random_state=42\n",
    ")\n",
    "\n",
    "print(f\"\\n📊 Data Split Summary:\")\n",
    "print(f\"Train: {len(train_texts)} ({train_ratio*100:.0f}%)\")\n",
    "print(f\"Validation: {len(val_texts)} ({val_ratio*100:.0f}%)\")\n",
    "print(f\"Test: {len(test_texts)} ({test_ratio*100:.0f}%)\")\n"
   ]
  },
  {
   "cell_type": "code",
   "execution_count": 5,
   "id": "7928408e",
   "metadata": {
    "execution": {
     "iopub.execute_input": "2025-10-26T07:01:11.042373Z",
     "iopub.status.busy": "2025-10-26T07:01:11.042153Z",
     "iopub.status.idle": "2025-10-26T07:01:11.181362Z",
     "shell.execute_reply": "2025-10-26T07:01:11.180564Z"
    },
    "papermill": {
     "duration": 0.144033,
     "end_time": "2025-10-26T07:01:11.182566",
     "exception": false,
     "start_time": "2025-10-26T07:01:11.038533",
     "status": "completed"
    },
    "tags": []
   },
   "outputs": [
    {
     "name": "stdout",
     "output_type": "stream",
     "text": [
      "✅ Tokenizer loaded successfully!\n"
     ]
    }
   ],
   "source": [
    "# ======================\n",
    "# Tokenizer\n",
    "from transformers import BertTokenizer\n",
    "\n",
    "# Kaggle input folder path ব্যবহার করো\n",
    "tokenizer_path =\"/kaggle/input/ksdfoieeknf/bert_local\"\n",
    "tokenizer = BertTokenizer.from_pretrained(tokenizer_path, use_fast=False)\n",
    "\n",
    "# Test\n",
    "text = \"This is a test.\"\n",
    "encoding = tokenizer(text)\n",
    "print(\"✅ Tokenizer loaded successfully!\")          "
   ]
  },
  {
   "cell_type": "code",
   "execution_count": 6,
   "id": "aa673282",
   "metadata": {
    "execution": {
     "iopub.execute_input": "2025-10-26T07:01:11.190057Z",
     "iopub.status.busy": "2025-10-26T07:01:11.189818Z",
     "iopub.status.idle": "2025-10-26T07:01:11.241021Z",
     "shell.execute_reply": "2025-10-26T07:01:11.240373Z"
    },
    "papermill": {
     "duration": 0.056335,
     "end_time": "2025-10-26T07:01:11.242329",
     "exception": false,
     "start_time": "2025-10-26T07:01:11.185994",
     "status": "completed"
    },
    "tags": []
   },
   "outputs": [],
   "source": [
    "# আগে যেটা ছিল\n",
    "# tokenizer = BertTokenizer.from_pretrained(\"bert-base-uncased\")\n",
    "\n",
    "# replace করে local path use করো\n",
    "tokenizer_path = \"/kaggle/input/ksdfoieeknf/bert_local\"\n",
    "tokenizer = BertTokenizer.from_pretrained(tokenizer_path, use_fast=False)"
   ]
  },
  {
   "cell_type": "code",
   "execution_count": 7,
   "id": "eda04f3d",
   "metadata": {
    "execution": {
     "iopub.execute_input": "2025-10-26T07:01:11.250219Z",
     "iopub.status.busy": "2025-10-26T07:01:11.249620Z",
     "iopub.status.idle": "2025-10-26T07:01:11.254020Z",
     "shell.execute_reply": "2025-10-26T07:01:11.253202Z"
    },
    "papermill": {
     "duration": 0.009228,
     "end_time": "2025-10-26T07:01:11.255108",
     "exception": false,
     "start_time": "2025-10-26T07:01:11.245880",
     "status": "completed"
    },
    "tags": []
   },
   "outputs": [
    {
     "name": "stdout",
     "output_type": "stream",
     "text": [
      "✅ Tokenizer loaded successfully!\n",
      "['this', 'is', 'a', 'working', 'bert', 'token', '##izer', 'test', '.']\n"
     ]
    }
   ],
   "source": [
    "print(\"✅ Tokenizer loaded successfully!\")\n",
    "print(tokenizer.tokenize(\"This is a working BERT tokenizer test.\"))"
   ]
  },
  {
   "cell_type": "code",
   "execution_count": 8,
   "id": "7946fa9f",
   "metadata": {
    "execution": {
     "iopub.execute_input": "2025-10-26T07:01:11.262948Z",
     "iopub.status.busy": "2025-10-26T07:01:11.262377Z",
     "iopub.status.idle": "2025-10-26T07:01:11.267743Z",
     "shell.execute_reply": "2025-10-26T07:01:11.267148Z"
    },
    "papermill": {
     "duration": 0.01045,
     "end_time": "2025-10-26T07:01:11.268888",
     "exception": false,
     "start_time": "2025-10-26T07:01:11.258438",
     "status": "completed"
    },
    "tags": []
   },
   "outputs": [],
   "source": [
    "# ======================\n",
    "# Dataset Class\n",
    "# ======================\n",
    "class ResumeDataset(Dataset):\n",
    "    def __init__(self, texts, labels, tokenizer, max_len=128):\n",
    "        self.texts = texts\n",
    "        self.labels = labels\n",
    "        self.tokenizer = tokenizer\n",
    "        self.max_len = max_len\n",
    "\n",
    "    def __len__(self):\n",
    "        return len(self.texts)\n",
    "\n",
    "    def __getitem__(self, idx):\n",
    "        text = self.texts[idx]\n",
    "        label = self.labels[idx]\n",
    "        encoding = self.tokenizer(\n",
    "            text,\n",
    "            truncation=True,\n",
    "            padding=\"max_length\",\n",
    "            max_length=self.max_len,\n",
    "            return_tensors=\"pt\"\n",
    "        )\n",
    "        return {\n",
    "            \"input_ids\": encoding[\"input_ids\"].squeeze(),\n",
    "            \"attention_mask\": encoding[\"attention_mask\"].squeeze(),\n",
    "            \"label\": torch.tensor(label, dtype=torch.long)\n",
    "        }\n"
   ]
  },
  {
   "cell_type": "code",
   "execution_count": 9,
   "id": "9394a9fa",
   "metadata": {
    "execution": {
     "iopub.execute_input": "2025-10-26T07:01:11.276339Z",
     "iopub.status.busy": "2025-10-26T07:01:11.275910Z",
     "iopub.status.idle": "2025-10-26T07:01:11.280261Z",
     "shell.execute_reply": "2025-10-26T07:01:11.279721Z"
    },
    "papermill": {
     "duration": 0.009084,
     "end_time": "2025-10-26T07:01:11.281261",
     "exception": false,
     "start_time": "2025-10-26T07:01:11.272177",
     "status": "completed"
    },
    "tags": []
   },
   "outputs": [],
   "source": [
    "# ======================\n",
    "# DataLoader\n",
    "# ======================\n",
    "batch_size = 16\n",
    "train_dataset = ResumeDataset(train_texts, train_labels, tokenizer)\n",
    "val_dataset = ResumeDataset(val_texts, val_labels, tokenizer)\n",
    "test_dataset = ResumeDataset(test_texts, test_labels, tokenizer)\n",
    "\n",
    "train_loader = DataLoader(train_dataset, batch_size=batch_size, shuffle=True)\n",
    "val_loader = DataLoader(val_dataset, batch_size=batch_size, shuffle=False)\n",
    "test_loader = DataLoader(test_dataset, batch_size=batch_size, shuffle=False)\n"
   ]
  },
  {
   "cell_type": "code",
   "execution_count": 10,
   "id": "82cf3cea",
   "metadata": {
    "execution": {
     "iopub.execute_input": "2025-10-26T07:01:11.288517Z",
     "iopub.status.busy": "2025-10-26T07:01:11.288063Z",
     "iopub.status.idle": "2025-10-26T07:01:13.745903Z",
     "shell.execute_reply": "2025-10-26T07:01:13.745271Z"
    },
    "papermill": {
     "duration": 2.462794,
     "end_time": "2025-10-26T07:01:13.747279",
     "exception": false,
     "start_time": "2025-10-26T07:01:11.284485",
     "status": "completed"
    },
    "tags": []
   },
   "outputs": [
    {
     "data": {
      "application/vnd.jupyter.widget-view+json": {
       "model_id": "fd5c8773b01d402d879ed22f52b1e1cb",
       "version_major": 2,
       "version_minor": 0
      },
      "text/plain": [
       "config.json:   0%|          | 0.00/570 [00:00<?, ?B/s]"
      ]
     },
     "metadata": {},
     "output_type": "display_data"
    },
    {
     "data": {
      "application/vnd.jupyter.widget-view+json": {
       "model_id": "13ff3abc6e7149a886cce978ad8fed9e",
       "version_major": 2,
       "version_minor": 0
      },
      "text/plain": [
       "model.safetensors:   0%|          | 0.00/440M [00:00<?, ?B/s]"
      ]
     },
     "metadata": {},
     "output_type": "display_data"
    }
   ],
   "source": [
    "# ======================\n",
    "# Model\n",
    "# ======================\n",
    "class ResumeClassifier(nn.Module):\n",
    "    def __init__(self, num_classes):\n",
    "        super().__init__()\n",
    "        self.bert = BertModel.from_pretrained(\"bert-base-uncased\")\n",
    "        self.dropout = nn.Dropout(0.3)\n",
    "        self.fc = nn.Linear(self.bert.config.hidden_size, num_classes)\n",
    "\n",
    "    def forward(self, input_ids, attention_mask):\n",
    "        outputs = self.bert(input_ids=input_ids, attention_mask=attention_mask)\n",
    "        cls_output = outputs.pooler_output\n",
    "        cls_output = self.dropout(cls_output)\n",
    "        return self.fc(cls_output)\n",
    "\n",
    "model = ResumeClassifier(num_classes=len(set(labels))).to(device)\n",
    "loss_fn = nn.CrossEntropyLoss()\n",
    "optimizer = optim.Adam(model.parameters(), lr=2e-5)\n"
   ]
  },
  {
   "cell_type": "code",
   "execution_count": 11,
   "id": "aaa737d4",
   "metadata": {
    "execution": {
     "iopub.execute_input": "2025-10-26T07:01:13.756555Z",
     "iopub.status.busy": "2025-10-26T07:01:13.756156Z",
     "iopub.status.idle": "2025-10-26T07:01:13.766237Z",
     "shell.execute_reply": "2025-10-26T07:01:13.765408Z"
    },
    "papermill": {
     "duration": 0.016273,
     "end_time": "2025-10-26T07:01:13.767640",
     "exception": false,
     "start_time": "2025-10-26T07:01:13.751367",
     "status": "completed"
    },
    "tags": []
   },
   "outputs": [],
   "source": [
    "# ======================\n",
    "# Training & Evaluation\n",
    "# ======================\n",
    "train_losses, val_losses, train_accs, val_accs = [], [], [], []\n",
    "\n",
    "def evaluate(model, data_loader):\n",
    "    model.eval()\n",
    "    correct, total = 0, 0\n",
    "    all_preds, all_labels, all_probs = [], [], []\n",
    "\n",
    "    with torch.inference_mode():\n",
    "        for batch in data_loader:\n",
    "            input_ids = batch[\"input_ids\"].to(device)\n",
    "            attention_mask = batch[\"attention_mask\"].to(device)\n",
    "            labels = batch[\"label\"].to(device)\n",
    "\n",
    "            outputs = model(input_ids, attention_mask)\n",
    "            probs = torch.softmax(outputs, dim=1)\n",
    "            preds = torch.argmax(probs, dim=1)\n",
    "\n",
    "            correct += (preds == labels).sum().item()\n",
    "            total += labels.size(0)\n",
    "\n",
    "            all_preds.extend(preds.cpu().numpy())\n",
    "            all_labels.extend(labels.cpu().numpy())\n",
    "            all_probs.extend(probs[:, 1].cpu().numpy())\n",
    "\n",
    "    acc = 100 * correct / total\n",
    "    return acc, all_preds, all_labels, all_probs\n",
    "\n",
    "def train_model(model, train_loader, val_loader, loss_fn, optimizer, num_epochs=3):\n",
    "    start_time = time.time()\n",
    "    for epoch in range(num_epochs):\n",
    "        model.train()\n",
    "        total_loss, correct, total = 0, 0, 0\n",
    "        for batch in tqdm(train_loader, desc=f\"Epoch {epoch+1}/{num_epochs}\"):\n",
    "            input_ids = batch[\"input_ids\"].to(device)\n",
    "            attention_mask = batch[\"attention_mask\"].to(device)\n",
    "            labels = batch[\"label\"].to(device)\n",
    "\n",
    "            optimizer.zero_grad()\n",
    "            outputs = model(input_ids, attention_mask)\n",
    "            loss = loss_fn(outputs, labels)\n",
    "            loss.backward()\n",
    "            optimizer.step()\n",
    "            total_loss += loss.item()\n",
    "\n",
    "            preds = torch.argmax(outputs, dim=1)\n",
    "            correct += (preds == labels).sum().item()\n",
    "            total += labels.size(0)\n",
    "\n",
    "        avg_train_loss = total_loss / len(train_loader)\n",
    "        train_acc = 100 * correct / total\n",
    "        val_acc, _, _, _ = evaluate(model, val_loader)\n",
    "\n",
    "        train_losses.append(avg_train_loss)\n",
    "        val_losses.append(1 - val_acc / 100)\n",
    "        train_accs.append(train_acc)\n",
    "        val_accs.append(val_acc)\n",
    "\n",
    "        print(f\"Epoch {epoch+1}: Train Loss={avg_train_loss:.4f}, Train Acc={train_acc:.2f}%, Val Acc={val_acc:.2f}%\")\n",
    "\n",
    "    end_time = time.time()\n",
    "    print(f\"\\nTotal Training Time: {end_time - start_time:.2f} sec\")\n"
   ]
  },
  {
   "cell_type": "code",
   "execution_count": 12,
   "id": "02c76fb3",
   "metadata": {
    "execution": {
     "iopub.execute_input": "2025-10-26T07:01:13.776177Z",
     "iopub.status.busy": "2025-10-26T07:01:13.775983Z",
     "iopub.status.idle": "2025-10-26T07:45:51.360417Z",
     "shell.execute_reply": "2025-10-26T07:45:51.359730Z"
    },
    "papermill": {
     "duration": 2677.590055,
     "end_time": "2025-10-26T07:45:51.361590",
     "exception": false,
     "start_time": "2025-10-26T07:01:13.771535",
     "status": "completed"
    },
    "tags": []
   },
   "outputs": [
    {
     "name": "stderr",
     "output_type": "stream",
     "text": [
      "Epoch 1/100: 100%|██████████| 57/57 [00:24<00:00,  2.29it/s]\n"
     ]
    },
    {
     "name": "stdout",
     "output_type": "stream",
     "text": [
      "Epoch 1: Train Loss=0.7121, Train Acc=48.22%, Val Acc=42.00%\n"
     ]
    },
    {
     "name": "stderr",
     "output_type": "stream",
     "text": [
      "Epoch 2/100: 100%|██████████| 57/57 [00:24<00:00,  2.33it/s]\n"
     ]
    },
    {
     "name": "stdout",
     "output_type": "stream",
     "text": [
      "Epoch 2: Train Loss=0.7004, Train Acc=50.67%, Val Acc=42.00%\n"
     ]
    },
    {
     "name": "stderr",
     "output_type": "stream",
     "text": [
      "Epoch 3/100: 100%|██████████| 57/57 [00:24<00:00,  2.30it/s]\n"
     ]
    },
    {
     "name": "stdout",
     "output_type": "stream",
     "text": [
      "Epoch 3: Train Loss=0.6960, Train Acc=52.89%, Val Acc=42.00%\n"
     ]
    },
    {
     "name": "stderr",
     "output_type": "stream",
     "text": [
      "Epoch 4/100: 100%|██████████| 57/57 [00:25<00:00,  2.24it/s]\n"
     ]
    },
    {
     "name": "stdout",
     "output_type": "stream",
     "text": [
      "Epoch 4: Train Loss=0.6924, Train Acc=50.78%, Val Acc=42.00%\n"
     ]
    },
    {
     "name": "stderr",
     "output_type": "stream",
     "text": [
      "Epoch 5/100: 100%|██████████| 57/57 [00:26<00:00,  2.18it/s]\n"
     ]
    },
    {
     "name": "stdout",
     "output_type": "stream",
     "text": [
      "Epoch 5: Train Loss=0.6904, Train Acc=52.56%, Val Acc=42.00%\n"
     ]
    },
    {
     "name": "stderr",
     "output_type": "stream",
     "text": [
      "Epoch 6/100: 100%|██████████| 57/57 [00:26<00:00,  2.15it/s]\n"
     ]
    },
    {
     "name": "stdout",
     "output_type": "stream",
     "text": [
      "Epoch 6: Train Loss=0.6681, Train Acc=58.67%, Val Acc=60.00%\n"
     ]
    },
    {
     "name": "stderr",
     "output_type": "stream",
     "text": [
      "Epoch 7/100: 100%|██████████| 57/57 [00:26<00:00,  2.16it/s]\n"
     ]
    },
    {
     "name": "stdout",
     "output_type": "stream",
     "text": [
      "Epoch 7: Train Loss=0.5326, Train Acc=75.33%, Val Acc=62.00%\n"
     ]
    },
    {
     "name": "stderr",
     "output_type": "stream",
     "text": [
      "Epoch 8/100: 100%|██████████| 57/57 [00:26<00:00,  2.17it/s]\n"
     ]
    },
    {
     "name": "stdout",
     "output_type": "stream",
     "text": [
      "Epoch 8: Train Loss=0.3770, Train Acc=84.78%, Val Acc=64.00%\n"
     ]
    },
    {
     "name": "stderr",
     "output_type": "stream",
     "text": [
      "Epoch 9/100: 100%|██████████| 57/57 [00:26<00:00,  2.18it/s]\n"
     ]
    },
    {
     "name": "stdout",
     "output_type": "stream",
     "text": [
      "Epoch 9: Train Loss=0.1945, Train Acc=92.56%, Val Acc=44.00%\n"
     ]
    },
    {
     "name": "stderr",
     "output_type": "stream",
     "text": [
      "Epoch 10/100: 100%|██████████| 57/57 [00:26<00:00,  2.18it/s]\n"
     ]
    },
    {
     "name": "stdout",
     "output_type": "stream",
     "text": [
      "Epoch 10: Train Loss=0.1409, Train Acc=95.00%, Val Acc=62.00%\n"
     ]
    },
    {
     "name": "stderr",
     "output_type": "stream",
     "text": [
      "Epoch 11/100: 100%|██████████| 57/57 [00:26<00:00,  2.19it/s]\n"
     ]
    },
    {
     "name": "stdout",
     "output_type": "stream",
     "text": [
      "Epoch 11: Train Loss=0.0878, Train Acc=96.89%, Val Acc=62.00%\n"
     ]
    },
    {
     "name": "stderr",
     "output_type": "stream",
     "text": [
      "Epoch 12/100: 100%|██████████| 57/57 [00:26<00:00,  2.17it/s]\n"
     ]
    },
    {
     "name": "stdout",
     "output_type": "stream",
     "text": [
      "Epoch 12: Train Loss=0.0498, Train Acc=98.11%, Val Acc=62.00%\n"
     ]
    },
    {
     "name": "stderr",
     "output_type": "stream",
     "text": [
      "Epoch 13/100: 100%|██████████| 57/57 [00:26<00:00,  2.18it/s]\n"
     ]
    },
    {
     "name": "stdout",
     "output_type": "stream",
     "text": [
      "Epoch 13: Train Loss=0.0496, Train Acc=98.44%, Val Acc=60.00%\n"
     ]
    },
    {
     "name": "stderr",
     "output_type": "stream",
     "text": [
      "Epoch 14/100: 100%|██████████| 57/57 [00:26<00:00,  2.18it/s]\n"
     ]
    },
    {
     "name": "stdout",
     "output_type": "stream",
     "text": [
      "Epoch 14: Train Loss=0.0181, Train Acc=99.33%, Val Acc=56.00%\n"
     ]
    },
    {
     "name": "stderr",
     "output_type": "stream",
     "text": [
      "Epoch 15/100: 100%|██████████| 57/57 [00:26<00:00,  2.18it/s]\n"
     ]
    },
    {
     "name": "stdout",
     "output_type": "stream",
     "text": [
      "Epoch 15: Train Loss=0.0341, Train Acc=98.78%, Val Acc=48.00%\n"
     ]
    },
    {
     "name": "stderr",
     "output_type": "stream",
     "text": [
      "Epoch 16/100: 100%|██████████| 57/57 [00:26<00:00,  2.18it/s]\n"
     ]
    },
    {
     "name": "stdout",
     "output_type": "stream",
     "text": [
      "Epoch 16: Train Loss=0.0742, Train Acc=97.44%, Val Acc=54.00%\n"
     ]
    },
    {
     "name": "stderr",
     "output_type": "stream",
     "text": [
      "Epoch 17/100: 100%|██████████| 57/57 [00:26<00:00,  2.19it/s]\n"
     ]
    },
    {
     "name": "stdout",
     "output_type": "stream",
     "text": [
      "Epoch 17: Train Loss=0.0206, Train Acc=99.44%, Val Acc=62.00%\n"
     ]
    },
    {
     "name": "stderr",
     "output_type": "stream",
     "text": [
      "Epoch 18/100: 100%|██████████| 57/57 [00:26<00:00,  2.18it/s]\n"
     ]
    },
    {
     "name": "stdout",
     "output_type": "stream",
     "text": [
      "Epoch 18: Train Loss=0.0052, Train Acc=99.89%, Val Acc=64.00%\n"
     ]
    },
    {
     "name": "stderr",
     "output_type": "stream",
     "text": [
      "Epoch 19/100: 100%|██████████| 57/57 [00:26<00:00,  2.18it/s]\n"
     ]
    },
    {
     "name": "stdout",
     "output_type": "stream",
     "text": [
      "Epoch 19: Train Loss=0.0017, Train Acc=100.00%, Val Acc=64.00%\n"
     ]
    },
    {
     "name": "stderr",
     "output_type": "stream",
     "text": [
      "Epoch 20/100: 100%|██████████| 57/57 [00:26<00:00,  2.18it/s]\n"
     ]
    },
    {
     "name": "stdout",
     "output_type": "stream",
     "text": [
      "Epoch 20: Train Loss=0.0161, Train Acc=99.67%, Val Acc=68.00%\n"
     ]
    },
    {
     "name": "stderr",
     "output_type": "stream",
     "text": [
      "Epoch 21/100: 100%|██████████| 57/57 [00:26<00:00,  2.19it/s]\n"
     ]
    },
    {
     "name": "stdout",
     "output_type": "stream",
     "text": [
      "Epoch 21: Train Loss=0.0292, Train Acc=99.22%, Val Acc=64.00%\n"
     ]
    },
    {
     "name": "stderr",
     "output_type": "stream",
     "text": [
      "Epoch 22/100: 100%|██████████| 57/57 [00:26<00:00,  2.18it/s]\n"
     ]
    },
    {
     "name": "stdout",
     "output_type": "stream",
     "text": [
      "Epoch 22: Train Loss=0.0086, Train Acc=99.89%, Val Acc=62.00%\n"
     ]
    },
    {
     "name": "stderr",
     "output_type": "stream",
     "text": [
      "Epoch 23/100: 100%|██████████| 57/57 [00:26<00:00,  2.19it/s]\n"
     ]
    },
    {
     "name": "stdout",
     "output_type": "stream",
     "text": [
      "Epoch 23: Train Loss=0.0017, Train Acc=100.00%, Val Acc=62.00%\n"
     ]
    },
    {
     "name": "stderr",
     "output_type": "stream",
     "text": [
      "Epoch 24/100: 100%|██████████| 57/57 [00:26<00:00,  2.19it/s]\n"
     ]
    },
    {
     "name": "stdout",
     "output_type": "stream",
     "text": [
      "Epoch 24: Train Loss=0.0008, Train Acc=100.00%, Val Acc=64.00%\n"
     ]
    },
    {
     "name": "stderr",
     "output_type": "stream",
     "text": [
      "Epoch 25/100: 100%|██████████| 57/57 [00:26<00:00,  2.18it/s]\n"
     ]
    },
    {
     "name": "stdout",
     "output_type": "stream",
     "text": [
      "Epoch 25: Train Loss=0.0008, Train Acc=100.00%, Val Acc=60.00%\n"
     ]
    },
    {
     "name": "stderr",
     "output_type": "stream",
     "text": [
      "Epoch 26/100: 100%|██████████| 57/57 [00:26<00:00,  2.18it/s]\n"
     ]
    },
    {
     "name": "stdout",
     "output_type": "stream",
     "text": [
      "Epoch 26: Train Loss=0.0006, Train Acc=100.00%, Val Acc=62.00%\n"
     ]
    },
    {
     "name": "stderr",
     "output_type": "stream",
     "text": [
      "Epoch 27/100: 100%|██████████| 57/57 [00:26<00:00,  2.18it/s]\n"
     ]
    },
    {
     "name": "stdout",
     "output_type": "stream",
     "text": [
      "Epoch 27: Train Loss=0.0014, Train Acc=100.00%, Val Acc=66.00%\n"
     ]
    },
    {
     "name": "stderr",
     "output_type": "stream",
     "text": [
      "Epoch 28/100: 100%|██████████| 57/57 [00:26<00:00,  2.19it/s]\n"
     ]
    },
    {
     "name": "stdout",
     "output_type": "stream",
     "text": [
      "Epoch 28: Train Loss=0.0006, Train Acc=100.00%, Val Acc=62.00%\n"
     ]
    },
    {
     "name": "stderr",
     "output_type": "stream",
     "text": [
      "Epoch 29/100: 100%|██████████| 57/57 [00:26<00:00,  2.18it/s]\n"
     ]
    },
    {
     "name": "stdout",
     "output_type": "stream",
     "text": [
      "Epoch 29: Train Loss=0.0006, Train Acc=100.00%, Val Acc=62.00%\n"
     ]
    },
    {
     "name": "stderr",
     "output_type": "stream",
     "text": [
      "Epoch 30/100: 100%|██████████| 57/57 [00:26<00:00,  2.19it/s]\n"
     ]
    },
    {
     "name": "stdout",
     "output_type": "stream",
     "text": [
      "Epoch 30: Train Loss=0.0006, Train Acc=100.00%, Val Acc=62.00%\n"
     ]
    },
    {
     "name": "stderr",
     "output_type": "stream",
     "text": [
      "Epoch 31/100: 100%|██████████| 57/57 [00:26<00:00,  2.18it/s]\n"
     ]
    },
    {
     "name": "stdout",
     "output_type": "stream",
     "text": [
      "Epoch 31: Train Loss=0.0291, Train Acc=99.33%, Val Acc=66.00%\n"
     ]
    },
    {
     "name": "stderr",
     "output_type": "stream",
     "text": [
      "Epoch 32/100: 100%|██████████| 57/57 [00:26<00:00,  2.19it/s]\n"
     ]
    },
    {
     "name": "stdout",
     "output_type": "stream",
     "text": [
      "Epoch 32: Train Loss=0.0284, Train Acc=99.44%, Val Acc=64.00%\n"
     ]
    },
    {
     "name": "stderr",
     "output_type": "stream",
     "text": [
      "Epoch 33/100: 100%|██████████| 57/57 [00:26<00:00,  2.19it/s]\n"
     ]
    },
    {
     "name": "stdout",
     "output_type": "stream",
     "text": [
      "Epoch 33: Train Loss=0.0047, Train Acc=99.89%, Val Acc=60.00%\n"
     ]
    },
    {
     "name": "stderr",
     "output_type": "stream",
     "text": [
      "Epoch 34/100: 100%|██████████| 57/57 [00:26<00:00,  2.18it/s]\n"
     ]
    },
    {
     "name": "stdout",
     "output_type": "stream",
     "text": [
      "Epoch 34: Train Loss=0.0569, Train Acc=98.67%, Val Acc=58.00%\n"
     ]
    },
    {
     "name": "stderr",
     "output_type": "stream",
     "text": [
      "Epoch 35/100: 100%|██████████| 57/57 [00:26<00:00,  2.19it/s]\n"
     ]
    },
    {
     "name": "stdout",
     "output_type": "stream",
     "text": [
      "Epoch 35: Train Loss=0.0249, Train Acc=99.33%, Val Acc=56.00%\n"
     ]
    },
    {
     "name": "stderr",
     "output_type": "stream",
     "text": [
      "Epoch 36/100: 100%|██████████| 57/57 [00:26<00:00,  2.18it/s]\n"
     ]
    },
    {
     "name": "stdout",
     "output_type": "stream",
     "text": [
      "Epoch 36: Train Loss=0.0071, Train Acc=99.89%, Val Acc=58.00%\n"
     ]
    },
    {
     "name": "stderr",
     "output_type": "stream",
     "text": [
      "Epoch 37/100: 100%|██████████| 57/57 [00:26<00:00,  2.18it/s]\n"
     ]
    },
    {
     "name": "stdout",
     "output_type": "stream",
     "text": [
      "Epoch 37: Train Loss=0.0024, Train Acc=100.00%, Val Acc=58.00%\n"
     ]
    },
    {
     "name": "stderr",
     "output_type": "stream",
     "text": [
      "Epoch 38/100: 100%|██████████| 57/57 [00:26<00:00,  2.18it/s]\n"
     ]
    },
    {
     "name": "stdout",
     "output_type": "stream",
     "text": [
      "Epoch 38: Train Loss=0.0439, Train Acc=98.78%, Val Acc=60.00%\n"
     ]
    },
    {
     "name": "stderr",
     "output_type": "stream",
     "text": [
      "Epoch 39/100: 100%|██████████| 57/57 [00:26<00:00,  2.18it/s]\n"
     ]
    },
    {
     "name": "stdout",
     "output_type": "stream",
     "text": [
      "Epoch 39: Train Loss=0.0624, Train Acc=97.78%, Val Acc=54.00%\n"
     ]
    },
    {
     "name": "stderr",
     "output_type": "stream",
     "text": [
      "Epoch 40/100: 100%|██████████| 57/57 [00:26<00:00,  2.18it/s]\n"
     ]
    },
    {
     "name": "stdout",
     "output_type": "stream",
     "text": [
      "Epoch 40: Train Loss=0.0206, Train Acc=99.67%, Val Acc=54.00%\n"
     ]
    },
    {
     "name": "stderr",
     "output_type": "stream",
     "text": [
      "Epoch 41/100: 100%|██████████| 57/57 [00:26<00:00,  2.18it/s]\n"
     ]
    },
    {
     "name": "stdout",
     "output_type": "stream",
     "text": [
      "Epoch 41: Train Loss=0.0021, Train Acc=100.00%, Val Acc=58.00%\n"
     ]
    },
    {
     "name": "stderr",
     "output_type": "stream",
     "text": [
      "Epoch 42/100: 100%|██████████| 57/57 [00:26<00:00,  2.18it/s]\n"
     ]
    },
    {
     "name": "stdout",
     "output_type": "stream",
     "text": [
      "Epoch 42: Train Loss=0.0007, Train Acc=100.00%, Val Acc=60.00%\n"
     ]
    },
    {
     "name": "stderr",
     "output_type": "stream",
     "text": [
      "Epoch 43/100: 100%|██████████| 57/57 [00:26<00:00,  2.18it/s]\n"
     ]
    },
    {
     "name": "stdout",
     "output_type": "stream",
     "text": [
      "Epoch 43: Train Loss=0.0005, Train Acc=100.00%, Val Acc=56.00%\n"
     ]
    },
    {
     "name": "stderr",
     "output_type": "stream",
     "text": [
      "Epoch 44/100: 100%|██████████| 57/57 [00:26<00:00,  2.18it/s]\n"
     ]
    },
    {
     "name": "stdout",
     "output_type": "stream",
     "text": [
      "Epoch 44: Train Loss=0.0004, Train Acc=100.00%, Val Acc=60.00%\n"
     ]
    },
    {
     "name": "stderr",
     "output_type": "stream",
     "text": [
      "Epoch 45/100: 100%|██████████| 57/57 [00:26<00:00,  2.18it/s]\n"
     ]
    },
    {
     "name": "stdout",
     "output_type": "stream",
     "text": [
      "Epoch 45: Train Loss=0.0003, Train Acc=100.00%, Val Acc=60.00%\n"
     ]
    },
    {
     "name": "stderr",
     "output_type": "stream",
     "text": [
      "Epoch 46/100: 100%|██████████| 57/57 [00:26<00:00,  2.18it/s]\n"
     ]
    },
    {
     "name": "stdout",
     "output_type": "stream",
     "text": [
      "Epoch 46: Train Loss=0.0003, Train Acc=100.00%, Val Acc=60.00%\n"
     ]
    },
    {
     "name": "stderr",
     "output_type": "stream",
     "text": [
      "Epoch 47/100: 100%|██████████| 57/57 [00:26<00:00,  2.18it/s]\n"
     ]
    },
    {
     "name": "stdout",
     "output_type": "stream",
     "text": [
      "Epoch 47: Train Loss=0.0003, Train Acc=100.00%, Val Acc=60.00%\n"
     ]
    },
    {
     "name": "stderr",
     "output_type": "stream",
     "text": [
      "Epoch 48/100: 100%|██████████| 57/57 [00:26<00:00,  2.18it/s]\n"
     ]
    },
    {
     "name": "stdout",
     "output_type": "stream",
     "text": [
      "Epoch 48: Train Loss=0.0003, Train Acc=100.00%, Val Acc=60.00%\n"
     ]
    },
    {
     "name": "stderr",
     "output_type": "stream",
     "text": [
      "Epoch 49/100: 100%|██████████| 57/57 [00:26<00:00,  2.18it/s]\n"
     ]
    },
    {
     "name": "stdout",
     "output_type": "stream",
     "text": [
      "Epoch 49: Train Loss=0.0002, Train Acc=100.00%, Val Acc=60.00%\n"
     ]
    },
    {
     "name": "stderr",
     "output_type": "stream",
     "text": [
      "Epoch 50/100: 100%|██████████| 57/57 [00:26<00:00,  2.18it/s]\n"
     ]
    },
    {
     "name": "stdout",
     "output_type": "stream",
     "text": [
      "Epoch 50: Train Loss=0.0002, Train Acc=100.00%, Val Acc=60.00%\n"
     ]
    },
    {
     "name": "stderr",
     "output_type": "stream",
     "text": [
      "Epoch 51/100: 100%|██████████| 57/57 [00:26<00:00,  2.19it/s]\n"
     ]
    },
    {
     "name": "stdout",
     "output_type": "stream",
     "text": [
      "Epoch 51: Train Loss=0.0002, Train Acc=100.00%, Val Acc=60.00%\n"
     ]
    },
    {
     "name": "stderr",
     "output_type": "stream",
     "text": [
      "Epoch 52/100: 100%|██████████| 57/57 [00:26<00:00,  2.18it/s]\n"
     ]
    },
    {
     "name": "stdout",
     "output_type": "stream",
     "text": [
      "Epoch 52: Train Loss=0.0001, Train Acc=100.00%, Val Acc=60.00%\n"
     ]
    },
    {
     "name": "stderr",
     "output_type": "stream",
     "text": [
      "Epoch 53/100: 100%|██████████| 57/57 [00:26<00:00,  2.19it/s]\n"
     ]
    },
    {
     "name": "stdout",
     "output_type": "stream",
     "text": [
      "Epoch 53: Train Loss=0.0002, Train Acc=100.00%, Val Acc=62.00%\n"
     ]
    },
    {
     "name": "stderr",
     "output_type": "stream",
     "text": [
      "Epoch 54/100: 100%|██████████| 57/57 [00:26<00:00,  2.19it/s]\n"
     ]
    },
    {
     "name": "stdout",
     "output_type": "stream",
     "text": [
      "Epoch 54: Train Loss=0.0001, Train Acc=100.00%, Val Acc=62.00%\n"
     ]
    },
    {
     "name": "stderr",
     "output_type": "stream",
     "text": [
      "Epoch 55/100: 100%|██████████| 57/57 [00:26<00:00,  2.19it/s]\n"
     ]
    },
    {
     "name": "stdout",
     "output_type": "stream",
     "text": [
      "Epoch 55: Train Loss=0.0001, Train Acc=100.00%, Val Acc=62.00%\n"
     ]
    },
    {
     "name": "stderr",
     "output_type": "stream",
     "text": [
      "Epoch 56/100: 100%|██████████| 57/57 [00:26<00:00,  2.19it/s]\n"
     ]
    },
    {
     "name": "stdout",
     "output_type": "stream",
     "text": [
      "Epoch 56: Train Loss=0.0001, Train Acc=100.00%, Val Acc=62.00%\n"
     ]
    },
    {
     "name": "stderr",
     "output_type": "stream",
     "text": [
      "Epoch 57/100: 100%|██████████| 57/57 [00:26<00:00,  2.18it/s]\n"
     ]
    },
    {
     "name": "stdout",
     "output_type": "stream",
     "text": [
      "Epoch 57: Train Loss=0.0001, Train Acc=100.00%, Val Acc=62.00%\n"
     ]
    },
    {
     "name": "stderr",
     "output_type": "stream",
     "text": [
      "Epoch 58/100: 100%|██████████| 57/57 [00:26<00:00,  2.18it/s]\n"
     ]
    },
    {
     "name": "stdout",
     "output_type": "stream",
     "text": [
      "Epoch 58: Train Loss=0.0001, Train Acc=100.00%, Val Acc=62.00%\n"
     ]
    },
    {
     "name": "stderr",
     "output_type": "stream",
     "text": [
      "Epoch 59/100: 100%|██████████| 57/57 [00:26<00:00,  2.18it/s]\n"
     ]
    },
    {
     "name": "stdout",
     "output_type": "stream",
     "text": [
      "Epoch 59: Train Loss=0.0001, Train Acc=100.00%, Val Acc=60.00%\n"
     ]
    },
    {
     "name": "stderr",
     "output_type": "stream",
     "text": [
      "Epoch 60/100: 100%|██████████| 57/57 [00:26<00:00,  2.17it/s]\n"
     ]
    },
    {
     "name": "stdout",
     "output_type": "stream",
     "text": [
      "Epoch 60: Train Loss=0.0001, Train Acc=100.00%, Val Acc=60.00%\n"
     ]
    },
    {
     "name": "stderr",
     "output_type": "stream",
     "text": [
      "Epoch 61/100: 100%|██████████| 57/57 [00:26<00:00,  2.17it/s]\n"
     ]
    },
    {
     "name": "stdout",
     "output_type": "stream",
     "text": [
      "Epoch 61: Train Loss=0.0001, Train Acc=100.00%, Val Acc=60.00%\n"
     ]
    },
    {
     "name": "stderr",
     "output_type": "stream",
     "text": [
      "Epoch 62/100: 100%|██████████| 57/57 [00:26<00:00,  2.17it/s]\n"
     ]
    },
    {
     "name": "stdout",
     "output_type": "stream",
     "text": [
      "Epoch 62: Train Loss=0.0001, Train Acc=100.00%, Val Acc=60.00%\n"
     ]
    },
    {
     "name": "stderr",
     "output_type": "stream",
     "text": [
      "Epoch 63/100: 100%|██████████| 57/57 [00:26<00:00,  2.18it/s]\n"
     ]
    },
    {
     "name": "stdout",
     "output_type": "stream",
     "text": [
      "Epoch 63: Train Loss=0.0001, Train Acc=100.00%, Val Acc=60.00%\n"
     ]
    },
    {
     "name": "stderr",
     "output_type": "stream",
     "text": [
      "Epoch 64/100: 100%|██████████| 57/57 [00:26<00:00,  2.18it/s]\n"
     ]
    },
    {
     "name": "stdout",
     "output_type": "stream",
     "text": [
      "Epoch 64: Train Loss=0.0001, Train Acc=100.00%, Val Acc=60.00%\n"
     ]
    },
    {
     "name": "stderr",
     "output_type": "stream",
     "text": [
      "Epoch 65/100: 100%|██████████| 57/57 [00:26<00:00,  2.17it/s]\n"
     ]
    },
    {
     "name": "stdout",
     "output_type": "stream",
     "text": [
      "Epoch 65: Train Loss=0.0001, Train Acc=100.00%, Val Acc=60.00%\n"
     ]
    },
    {
     "name": "stderr",
     "output_type": "stream",
     "text": [
      "Epoch 66/100: 100%|██████████| 57/57 [00:26<00:00,  2.17it/s]\n"
     ]
    },
    {
     "name": "stdout",
     "output_type": "stream",
     "text": [
      "Epoch 66: Train Loss=0.0001, Train Acc=100.00%, Val Acc=60.00%\n"
     ]
    },
    {
     "name": "stderr",
     "output_type": "stream",
     "text": [
      "Epoch 67/100: 100%|██████████| 57/57 [00:26<00:00,  2.17it/s]\n"
     ]
    },
    {
     "name": "stdout",
     "output_type": "stream",
     "text": [
      "Epoch 67: Train Loss=0.0001, Train Acc=100.00%, Val Acc=60.00%\n"
     ]
    },
    {
     "name": "stderr",
     "output_type": "stream",
     "text": [
      "Epoch 68/100: 100%|██████████| 57/57 [00:26<00:00,  2.17it/s]\n"
     ]
    },
    {
     "name": "stdout",
     "output_type": "stream",
     "text": [
      "Epoch 68: Train Loss=0.0001, Train Acc=100.00%, Val Acc=62.00%\n"
     ]
    },
    {
     "name": "stderr",
     "output_type": "stream",
     "text": [
      "Epoch 69/100: 100%|██████████| 57/57 [00:26<00:00,  2.18it/s]\n"
     ]
    },
    {
     "name": "stdout",
     "output_type": "stream",
     "text": [
      "Epoch 69: Train Loss=0.0001, Train Acc=100.00%, Val Acc=60.00%\n"
     ]
    },
    {
     "name": "stderr",
     "output_type": "stream",
     "text": [
      "Epoch 70/100: 100%|██████████| 57/57 [00:26<00:00,  2.18it/s]\n"
     ]
    },
    {
     "name": "stdout",
     "output_type": "stream",
     "text": [
      "Epoch 70: Train Loss=0.0001, Train Acc=100.00%, Val Acc=60.00%\n"
     ]
    },
    {
     "name": "stderr",
     "output_type": "stream",
     "text": [
      "Epoch 71/100: 100%|██████████| 57/57 [00:26<00:00,  2.18it/s]\n"
     ]
    },
    {
     "name": "stdout",
     "output_type": "stream",
     "text": [
      "Epoch 71: Train Loss=0.0001, Train Acc=100.00%, Val Acc=60.00%\n"
     ]
    },
    {
     "name": "stderr",
     "output_type": "stream",
     "text": [
      "Epoch 72/100: 100%|██████████| 57/57 [00:26<00:00,  2.18it/s]\n"
     ]
    },
    {
     "name": "stdout",
     "output_type": "stream",
     "text": [
      "Epoch 72: Train Loss=0.0001, Train Acc=100.00%, Val Acc=62.00%\n"
     ]
    },
    {
     "name": "stderr",
     "output_type": "stream",
     "text": [
      "Epoch 73/100: 100%|██████████| 57/57 [00:26<00:00,  2.18it/s]\n"
     ]
    },
    {
     "name": "stdout",
     "output_type": "stream",
     "text": [
      "Epoch 73: Train Loss=0.0000, Train Acc=100.00%, Val Acc=62.00%\n"
     ]
    },
    {
     "name": "stderr",
     "output_type": "stream",
     "text": [
      "Epoch 74/100: 100%|██████████| 57/57 [00:26<00:00,  2.18it/s]\n"
     ]
    },
    {
     "name": "stdout",
     "output_type": "stream",
     "text": [
      "Epoch 74: Train Loss=0.0000, Train Acc=100.00%, Val Acc=62.00%\n"
     ]
    },
    {
     "name": "stderr",
     "output_type": "stream",
     "text": [
      "Epoch 75/100: 100%|██████████| 57/57 [00:26<00:00,  2.18it/s]\n"
     ]
    },
    {
     "name": "stdout",
     "output_type": "stream",
     "text": [
      "Epoch 75: Train Loss=0.0000, Train Acc=100.00%, Val Acc=62.00%\n"
     ]
    },
    {
     "name": "stderr",
     "output_type": "stream",
     "text": [
      "Epoch 76/100: 100%|██████████| 57/57 [00:26<00:00,  2.19it/s]\n"
     ]
    },
    {
     "name": "stdout",
     "output_type": "stream",
     "text": [
      "Epoch 76: Train Loss=0.0000, Train Acc=100.00%, Val Acc=62.00%\n"
     ]
    },
    {
     "name": "stderr",
     "output_type": "stream",
     "text": [
      "Epoch 77/100: 100%|██████████| 57/57 [00:26<00:00,  2.19it/s]\n"
     ]
    },
    {
     "name": "stdout",
     "output_type": "stream",
     "text": [
      "Epoch 77: Train Loss=0.0000, Train Acc=100.00%, Val Acc=62.00%\n"
     ]
    },
    {
     "name": "stderr",
     "output_type": "stream",
     "text": [
      "Epoch 78/100: 100%|██████████| 57/57 [00:26<00:00,  2.19it/s]\n"
     ]
    },
    {
     "name": "stdout",
     "output_type": "stream",
     "text": [
      "Epoch 78: Train Loss=0.0000, Train Acc=100.00%, Val Acc=62.00%\n"
     ]
    },
    {
     "name": "stderr",
     "output_type": "stream",
     "text": [
      "Epoch 79/100: 100%|██████████| 57/57 [00:26<00:00,  2.18it/s]\n"
     ]
    },
    {
     "name": "stdout",
     "output_type": "stream",
     "text": [
      "Epoch 79: Train Loss=0.0000, Train Acc=100.00%, Val Acc=62.00%\n"
     ]
    },
    {
     "name": "stderr",
     "output_type": "stream",
     "text": [
      "Epoch 80/100: 100%|██████████| 57/57 [00:26<00:00,  2.19it/s]\n"
     ]
    },
    {
     "name": "stdout",
     "output_type": "stream",
     "text": [
      "Epoch 80: Train Loss=0.0000, Train Acc=100.00%, Val Acc=62.00%\n"
     ]
    },
    {
     "name": "stderr",
     "output_type": "stream",
     "text": [
      "Epoch 81/100: 100%|██████████| 57/57 [00:26<00:00,  2.18it/s]\n"
     ]
    },
    {
     "name": "stdout",
     "output_type": "stream",
     "text": [
      "Epoch 81: Train Loss=0.0000, Train Acc=100.00%, Val Acc=62.00%\n"
     ]
    },
    {
     "name": "stderr",
     "output_type": "stream",
     "text": [
      "Epoch 82/100: 100%|██████████| 57/57 [00:26<00:00,  2.19it/s]\n"
     ]
    },
    {
     "name": "stdout",
     "output_type": "stream",
     "text": [
      "Epoch 82: Train Loss=0.0000, Train Acc=100.00%, Val Acc=62.00%\n"
     ]
    },
    {
     "name": "stderr",
     "output_type": "stream",
     "text": [
      "Epoch 83/100: 100%|██████████| 57/57 [00:26<00:00,  2.17it/s]\n"
     ]
    },
    {
     "name": "stdout",
     "output_type": "stream",
     "text": [
      "Epoch 83: Train Loss=0.0000, Train Acc=100.00%, Val Acc=62.00%\n"
     ]
    },
    {
     "name": "stderr",
     "output_type": "stream",
     "text": [
      "Epoch 84/100: 100%|██████████| 57/57 [00:26<00:00,  2.17it/s]\n"
     ]
    },
    {
     "name": "stdout",
     "output_type": "stream",
     "text": [
      "Epoch 84: Train Loss=0.0000, Train Acc=100.00%, Val Acc=62.00%\n"
     ]
    },
    {
     "name": "stderr",
     "output_type": "stream",
     "text": [
      "Epoch 85/100: 100%|██████████| 57/57 [00:26<00:00,  2.18it/s]\n"
     ]
    },
    {
     "name": "stdout",
     "output_type": "stream",
     "text": [
      "Epoch 85: Train Loss=0.0000, Train Acc=100.00%, Val Acc=62.00%\n"
     ]
    },
    {
     "name": "stderr",
     "output_type": "stream",
     "text": [
      "Epoch 86/100: 100%|██████████| 57/57 [00:26<00:00,  2.19it/s]\n"
     ]
    },
    {
     "name": "stdout",
     "output_type": "stream",
     "text": [
      "Epoch 86: Train Loss=0.0000, Train Acc=100.00%, Val Acc=62.00%\n"
     ]
    },
    {
     "name": "stderr",
     "output_type": "stream",
     "text": [
      "Epoch 87/100: 100%|██████████| 57/57 [00:26<00:00,  2.18it/s]\n"
     ]
    },
    {
     "name": "stdout",
     "output_type": "stream",
     "text": [
      "Epoch 87: Train Loss=0.0000, Train Acc=100.00%, Val Acc=62.00%\n"
     ]
    },
    {
     "name": "stderr",
     "output_type": "stream",
     "text": [
      "Epoch 88/100: 100%|██████████| 57/57 [00:26<00:00,  2.18it/s]\n"
     ]
    },
    {
     "name": "stdout",
     "output_type": "stream",
     "text": [
      "Epoch 88: Train Loss=0.0000, Train Acc=100.00%, Val Acc=62.00%\n"
     ]
    },
    {
     "name": "stderr",
     "output_type": "stream",
     "text": [
      "Epoch 89/100: 100%|██████████| 57/57 [00:26<00:00,  2.18it/s]\n"
     ]
    },
    {
     "name": "stdout",
     "output_type": "stream",
     "text": [
      "Epoch 89: Train Loss=0.0000, Train Acc=100.00%, Val Acc=62.00%\n"
     ]
    },
    {
     "name": "stderr",
     "output_type": "stream",
     "text": [
      "Epoch 90/100: 100%|██████████| 57/57 [00:26<00:00,  2.18it/s]\n"
     ]
    },
    {
     "name": "stdout",
     "output_type": "stream",
     "text": [
      "Epoch 90: Train Loss=0.0000, Train Acc=100.00%, Val Acc=62.00%\n"
     ]
    },
    {
     "name": "stderr",
     "output_type": "stream",
     "text": [
      "Epoch 91/100: 100%|██████████| 57/57 [00:26<00:00,  2.19it/s]\n"
     ]
    },
    {
     "name": "stdout",
     "output_type": "stream",
     "text": [
      "Epoch 91: Train Loss=0.0000, Train Acc=100.00%, Val Acc=62.00%\n"
     ]
    },
    {
     "name": "stderr",
     "output_type": "stream",
     "text": [
      "Epoch 92/100: 100%|██████████| 57/57 [00:26<00:00,  2.18it/s]\n"
     ]
    },
    {
     "name": "stdout",
     "output_type": "stream",
     "text": [
      "Epoch 92: Train Loss=0.0000, Train Acc=100.00%, Val Acc=62.00%\n"
     ]
    },
    {
     "name": "stderr",
     "output_type": "stream",
     "text": [
      "Epoch 93/100: 100%|██████████| 57/57 [00:26<00:00,  2.18it/s]\n"
     ]
    },
    {
     "name": "stdout",
     "output_type": "stream",
     "text": [
      "Epoch 93: Train Loss=0.0000, Train Acc=100.00%, Val Acc=62.00%\n"
     ]
    },
    {
     "name": "stderr",
     "output_type": "stream",
     "text": [
      "Epoch 94/100: 100%|██████████| 57/57 [00:26<00:00,  2.18it/s]\n"
     ]
    },
    {
     "name": "stdout",
     "output_type": "stream",
     "text": [
      "Epoch 94: Train Loss=0.0000, Train Acc=100.00%, Val Acc=62.00%\n"
     ]
    },
    {
     "name": "stderr",
     "output_type": "stream",
     "text": [
      "Epoch 95/100: 100%|██████████| 57/57 [00:26<00:00,  2.19it/s]\n"
     ]
    },
    {
     "name": "stdout",
     "output_type": "stream",
     "text": [
      "Epoch 95: Train Loss=0.0000, Train Acc=100.00%, Val Acc=62.00%\n"
     ]
    },
    {
     "name": "stderr",
     "output_type": "stream",
     "text": [
      "Epoch 96/100: 100%|██████████| 57/57 [00:26<00:00,  2.18it/s]\n"
     ]
    },
    {
     "name": "stdout",
     "output_type": "stream",
     "text": [
      "Epoch 96: Train Loss=0.0000, Train Acc=100.00%, Val Acc=62.00%\n"
     ]
    },
    {
     "name": "stderr",
     "output_type": "stream",
     "text": [
      "Epoch 97/100: 100%|██████████| 57/57 [00:26<00:00,  2.19it/s]\n"
     ]
    },
    {
     "name": "stdout",
     "output_type": "stream",
     "text": [
      "Epoch 97: Train Loss=0.0000, Train Acc=100.00%, Val Acc=62.00%\n"
     ]
    },
    {
     "name": "stderr",
     "output_type": "stream",
     "text": [
      "Epoch 98/100: 100%|██████████| 57/57 [00:26<00:00,  2.19it/s]\n"
     ]
    },
    {
     "name": "stdout",
     "output_type": "stream",
     "text": [
      "Epoch 98: Train Loss=0.0000, Train Acc=100.00%, Val Acc=62.00%\n"
     ]
    },
    {
     "name": "stderr",
     "output_type": "stream",
     "text": [
      "Epoch 99/100: 100%|██████████| 57/57 [00:26<00:00,  2.19it/s]\n"
     ]
    },
    {
     "name": "stdout",
     "output_type": "stream",
     "text": [
      "Epoch 99: Train Loss=0.0000, Train Acc=100.00%, Val Acc=62.00%\n"
     ]
    },
    {
     "name": "stderr",
     "output_type": "stream",
     "text": [
      "Epoch 100/100: 100%|██████████| 57/57 [00:26<00:00,  2.18it/s]\n"
     ]
    },
    {
     "name": "stdout",
     "output_type": "stream",
     "text": [
      "Epoch 100: Train Loss=0.0000, Train Acc=100.00%, Val Acc=62.00%\n",
      "\n",
      "Total Training Time: 2677.58 sec\n"
     ]
    }
   ],
   "source": [
    "# Train model\n",
    "train_model(model, train_loader, val_loader, loss_fn, optimizer, num_epochs=100)\n"
   ]
  },
  {
   "cell_type": "code",
   "execution_count": 13,
   "id": "dfdced6b",
   "metadata": {
    "execution": {
     "iopub.execute_input": "2025-10-26T07:45:51.838510Z",
     "iopub.status.busy": "2025-10-26T07:45:51.837919Z",
     "iopub.status.idle": "2025-10-26T07:45:52.205939Z",
     "shell.execute_reply": "2025-10-26T07:45:52.205174Z"
    },
    "papermill": {
     "duration": 0.609166,
     "end_time": "2025-10-26T07:45:52.207111",
     "exception": false,
     "start_time": "2025-10-26T07:45:51.597945",
     "status": "completed"
    },
    "tags": []
   },
   "outputs": [
    {
     "data": {
      "image/png": "[encoded data removed]",
      "text/plain": [
       "<Figure size 1200x500 with 2 Axes>"
      ]
     },
     "metadata": {},
     "output_type": "display_data"
    }
   ],
   "source": [
    "# ======================\n",
    "# Plot Curves\n",
    "# ======================\n",
    "plt.figure(figsize=(12,5))\n",
    "plt.subplot(1,2,1)\n",
    "plt.plot(train_losses, label=\"Train Loss\")\n",
    "plt.plot(val_losses, label=\"Val Loss\")\n",
    "plt.legend(); plt.title(\"Loss Curve\")\n",
    "\n",
    "plt.subplot(1,2,2)\n",
    "plt.plot(train_accs, label=\"Train Acc\")\n",
    "plt.plot(val_accs, label=\"Val Acc\")\n",
    "plt.legend(); plt.title(\"Accuracy Curve\")\n",
    "plt.show()"
   ]
  },
  {
   "cell_type": "code",
   "execution_count": 14,
   "id": "1ea41f82",
   "metadata": {
    "execution": {
     "iopub.execute_input": "2025-10-26T07:45:52.758402Z",
     "iopub.status.busy": "2025-10-26T07:45:52.758129Z",
     "iopub.status.idle": "2025-10-26T07:45:53.728233Z",
     "shell.execute_reply": "2025-10-26T07:45:53.727595Z"
    },
    "papermill": {
     "duration": 1.285321,
     "end_time": "2025-10-26T07:45:53.729311",
     "exception": false,
     "start_time": "2025-10-26T07:45:52.443990",
     "status": "completed"
    },
    "tags": []
   },
   "outputs": [
    {
     "name": "stdout",
     "output_type": "stream",
     "text": [
      "\n",
      "✅ Test Accuracy: 44.00%\n"
     ]
    },
    {
     "data": {
      "image/png": "[encoded data removed]",
      "text/plain": [
       "<Figure size 640x480 with 2 Axes>"
      ]
     },
     "metadata": {},
     "output_type": "display_data"
    },
    {
     "data": {
      "image/png": "[encoded data removed]",
      "text/plain": [
       "<Figure size 640x480 with 1 Axes>"
      ]
     },
     "metadata": {},
     "output_type": "display_data"
    }
   ],
   "source": [
    "# ======================\n",
    "# Test Evaluation\n",
    "# ======================\n",
    "test_acc, test_preds, test_labels_actual, test_probs = evaluate(model, test_loader)\n",
    "print(f\"\\n✅ Test Accuracy: {test_acc:.2f}%\")\n",
    "\n",
    "cm = confusion_matrix(test_labels_actual, test_preds)\n",
    "ConfusionMatrixDisplay(confusion_matrix=cm).plot(cmap=plt.cm.Blues)\n",
    "plt.show()\n",
    "\n",
    "fpr, tpr, _ = roc_curve(test_labels_actual, test_probs)\n",
    "roc_auc = auc(fpr, tpr)\n",
    "plt.figure(); plt.plot(fpr, tpr, color='blue', lw=2, label=f\"AUC = {roc_auc:.2f}\")\n",
    "plt.plot([0,1], [0,1], color='gray', linestyle='--')\n",
    "plt.xlabel(\"False Positive Rate\"); plt.ylabel(\"True Positive Rate\")\n",
    "plt.title(\"ROC Curve\"); plt.legend(); plt.show()\n"
   ]
  },
  {
   "cell_type": "code",
   "execution_count": 15,
   "id": "80e536d2",
   "metadata": {
    "execution": {
     "iopub.execute_input": "2025-10-26T07:45:54.210257Z",
     "iopub.status.busy": "2025-10-26T07:45:54.209990Z",
     "iopub.status.idle": "2025-10-26T07:45:55.028440Z",
     "shell.execute_reply": "2025-10-26T07:45:55.027108Z"
    },
    "papermill": {
     "duration": 1.059127,
     "end_time": "2025-10-26T07:45:55.030057",
     "exception": false,
     "start_time": "2025-10-26T07:45:53.970930",
     "status": "completed"
    },
    "tags": []
   },
   "outputs": [
    {
     "name": "stdout",
     "output_type": "stream",
     "text": [
      "\n",
      "===== Top 10 Ranked Resumes =====\n",
      "\n",
      "Rank 1: Role = Database Administrator, Predicted = reject, Score = 1.0000\n",
      "Job Description: Take the lead in driving innovation as a Database Administrator in a collaborative environment focused on excellence in software engineering.\n",
      "Resume: Here's a sample resume for Jeremy Johnson:\n",
      "\n",
      "Jeremy Johnson\n",
      "Contact Information:\n",
      "\n",
      "* Address: 123 Main St, Anytown, USA 12345\n",
      "* Phone: (555) 555-5555\n",
      "* Email: [jeremyjohnson@email.com](mailto:jeremyjohn...\n",
      "\n",
      "--------------------------------------------------------------------------------\n",
      "Rank 2: Role = Cloud Engineer, Predicted = reject, Score = 1.0000\n",
      "Job Description: If you're passionate about cloud technologies, we need your expertise to help us deliver impactful products as a Cloud Engineer.\n",
      "Resume: Here's a professional resume for Denise Thomas:\n",
      "\n",
      "Denise Thomas\n",
      "Cloud Engineer\n",
      "\n",
      "Contact Information:\n",
      "\n",
      "* Phone: (555) 123-4567\n",
      "* Email: [dthomas@email.com](mailto:dthomas@email.com)\n",
      "* LinkedIn: linkedin...\n",
      "\n",
      "--------------------------------------------------------------------------------\n",
      "Rank 3: Role = Robotics Engineer, Predicted = reject, Score = 1.0000\n",
      "Job Description: We need a Robotics Engineer to enhance our team's technical capabilities and contribute to solving complex complex problems.\n",
      "Resume: Here's a sample resume for Stephanie Gilbert:\n",
      "\n",
      "Stephanie Gilbert\n",
      "Robotics Engineer\n",
      "\n",
      "Contact Information:\n",
      "\n",
      "* Email: [stephanie.gilbert@email.com](mailto:stephanie.gilbert@email.com)\n",
      "* Phone: 555-555-55...\n",
      "\n",
      "--------------------------------------------------------------------------------\n",
      "Rank 4: Role = UI Engineer, Predicted = reject, Score = 1.0000\n",
      "Job Description: We are looking for an experienced UI Engineer to join our team and help drive groundbreaking solutions in cloud technologies.\n",
      "Resume: Here's a sample resume for Francisco Brown:\n",
      "\n",
      "Francisco Brown\n",
      "UI Engineer\n",
      "\n",
      "Contact Information:\n",
      "\n",
      "* Email: [franciscobrown@email.com](mailto:franciscobrown@email.com)\n",
      "* Phone: 555-555-5555\n",
      "* LinkedIn: l...\n",
      "\n",
      "--------------------------------------------------------------------------------\n",
      "Rank 5: Role = Data Engineer, Predicted = reject, Score = 1.0000\n",
      "Job Description: Take the lead in driving innovation as a Data Engineer in a collaborative environment focused on excellence in software engineering.\n",
      "Resume: Here's a sample resume for Aaron Anderson:\n",
      "\n",
      "Aaron Anderson\n",
      "Contact Information:\n",
      "\n",
      "* Email: [aaron.anderson@email.com](mailto:aaron.anderson@email.com)\n",
      "* Phone: 555-555-5555\n",
      "* LinkedIn: linkedin.com/in/...\n",
      "\n",
      "--------------------------------------------------------------------------------\n",
      "Rank 6: Role = E-commerce Specialist, Predicted = reject, Score = 1.0000\n",
      "Job Description: If you're passionate about data science, we need your expertise to help us deliver impactful products as a E-commerce Specialist.\n",
      "Resume: Here's a professional resume for Leslie Barton, an E-commerce Specialist candidate:\n",
      "\n",
      "Leslie Barton\n",
      "Contact Information:\n",
      "\n",
      "* Address: 123 Main St, Anytown, USA 12345\n",
      "* Phone: (555) 555-5555\n",
      "* Email: [le...\n",
      "\n",
      "--------------------------------------------------------------------------------\n",
      "Rank 7: Role = Full Stack Developer, Predicted = select, Score = 1.0000\n",
      "Job Description: Help us build the next-generation products as a Full Stack Developer and work with a dynamic, cross-functional team.\n",
      "Resume: Here's a professional resume for Jodi Singh:\n",
      "\n",
      "Jodi Singh\n",
      "Full Stack Developer\n",
      "\n",
      "Contact Information:\n",
      "\n",
      "* Email: [jodi.singh@email.com](mailto:jodi.singh@email.com)\n",
      "* Phone: 555-555-5555\n",
      "* LinkedIn: link...\n",
      "\n",
      "--------------------------------------------------------------------------------\n",
      "Rank 8: Role = Digital Marketing Specialist, Predicted = select, Score = 1.0000\n",
      "Job Description: As a Digital Marketing Specialist, you will play a pivotal role in shaping the future of e-commerce.\n",
      "Resume: Here's a professional resume for Lori Weaver:\n",
      "\n",
      "Lori Weaver\n",
      "Digital Marketing Specialist\n",
      "\n",
      "Contact Information:\n",
      "\n",
      "* Email: [lori.weaver@email.com](mailto:lori.weaver@email.com)\n",
      "* Phone: 555-555-5555\n",
      "* Li...\n",
      "\n",
      "--------------------------------------------------------------------------------\n",
      "Rank 9: Role = AR/VR Developer, Predicted = select, Score = 1.0000\n",
      "Job Description: As a AR/VR Developer, you will play a pivotal role in shaping the future of e-commerce.\n",
      "Resume: Here is a professional resume for Matthew Simpson:\n",
      "\n",
      "Matthew Simpson\n",
      "Contact Information:\n",
      "\n",
      "* Phone: (555) 555-5555\n",
      "* Email: [matthew.simpson@email.com](mailto:matthew.simpson@email.com)\n",
      "* LinkedIn: lin...\n",
      "\n",
      "--------------------------------------------------------------------------------\n",
      "Rank 10: Role = IT Support Specialist, Predicted = select, Score = 1.0000\n",
      "Job Description: As a IT Support Specialist, you will play a pivotal role in shaping the future of education.\n",
      "Resume: Here's a professional resume for Karen Hernandez:\n",
      "\n",
      "Karen Hernandez\n",
      "IT Support Specialist\n",
      "\n",
      "Contact Information:\n",
      "\n",
      "* Email: [karen.hernandez@email.com](mailto:karen.hernandez@email.com)\n",
      "* Phone: 555-555-...\n",
      "\n",
      "--------------------------------------------------------------------------------\n"
     ]
    }
   ],
   "source": [
    "\n",
    "  # Rank Top 10 Resumes\n",
    "all_resumes = []\n",
    "model.eval()\n",
    "with torch.inference_mode():\n",
    "    for i in range(len(test_texts)):\n",
    "        encoding = tokenizer(test_texts[i], truncation=True, padding=\"max_length\", max_length=128, return_tensors=\"pt\")\n",
    "        input_ids = encoding[\"input_ids\"].to(device)\n",
    "        attention_mask = encoding[\"attention_mask\"].to(device)\n",
    "        outputs = model(input_ids, attention_mask)\n",
    "        probs = torch.softmax(outputs, dim=1)\n",
    "        score, pred_class = torch.max(probs, dim=1)\n",
    "        all_resumes.append({\n",
    "            \"Role\": test_job_roles[i],\n",
    "            \"Resume\": test_texts[i],\n",
    "            \"Job_Description\": test_job_desc[i],\n",
    "            \"Predicted_Label\": label_encoder.inverse_transform([pred_class.item()])[0],\n",
    "            \"Score\": score.item()\n",
    "        })\n",
    "\n",
    "ranked_resumes = sorted(all_resumes, key=lambda x: x[\"Score\"], reverse=True)\n",
    "\n",
    "print(\"\\n===== Top 10 Ranked Resumes =====\\n\")\n",
    "for idx, r in enumerate(ranked_resumes[:10], 1):\n",
    "    print(f\"Rank {idx}: Role = {r['Role']}, Predicted = {r['Predicted_Label']}, Score = {r['Score']:.4f}\")\n",
    "    print(f\"Job Description: {r['Job_Description']}\")\n",
    "    print(f\"Resume: {r['Resume'][:200]}...\\n\")\n",
    "    print(\"-\"*80)\n",
    "\n"
   ]
  },
  {
   "cell_type": "code",
   "execution_count": 16,
   "id": "3afc71d1",
   "metadata": {
    "execution": {
     "iopub.execute_input": "2025-10-26T07:45:55.515616Z",
     "iopub.status.busy": "2025-10-26T07:45:55.515266Z",
     "iopub.status.idle": "2025-10-26T07:45:55.549691Z",
     "shell.execute_reply": "2025-10-26T07:45:55.548795Z"
    },
    "papermill": {
     "duration": 0.276276,
     "end_time": "2025-10-26T07:45:55.550914",
     "exception": false,
     "start_time": "2025-10-26T07:45:55.274638",
     "status": "completed"
    },
    "tags": []
   },
   "outputs": [
    {
     "name": "stdout",
     "output_type": "stream",
     "text": [
      "Prediction: reject, Confidence: 0.5694\n",
      "\n",
      "💡 To improve this CV:\n",
      "- Highlight key skills relevant to the Role.\n",
      "- Include quantified achievements or project outcomes.\n",
      "- Ensure keywords match the Job Description.\n"
     ]
    }
   ],
   "source": [
    "# ======================\n",
    "# Single Resume Check\n",
    "# ======================\n",
    "single_path = \"/kaggle/input/single-data-set-for-cv-resume-3/Emma Johnson.txt\"  # Upload single resume file\n",
    "with open(single_path, \"r\", encoding=\"utf-8\") as f:\n",
    "    resume_text = f.read()  # ✅ make sure variable name matches\n",
    "\n",
    "# Tokenize\n",
    "encoding = tokenizer(resume_text, truncation=True, padding=\"max_length\", max_length=128, return_tensors=\"pt\")\n",
    "input_ids = encoding[\"input_ids\"].to(device)\n",
    "attention_mask = encoding[\"attention_mask\"].to(device)\n",
    "\n",
    "# Model prediction\n",
    "model.eval()\n",
    "with torch.inference_mode():\n",
    "    outputs = model(input_ids, attention_mask)\n",
    "    probs = torch.softmax(outputs, dim=1)\n",
    "    score, pred_class = torch.max(probs, dim=1)\n",
    "    predicted_label = label_encoder.inverse_transform([pred_class.item()])[0]\n",
    "\n",
    "print(f\"Prediction: {predicted_label}, Confidence: {score.item():.4f}\")\n",
    "\n",
    "# Suggestions\n",
    "if predicted_label != 'Hire':\n",
    "    print(\"\\n💡 To improve this CV:\")\n",
    "    print(\"- Highlight key skills relevant to the Role.\")\n",
    "    print(\"- Include quantified achievements or project outcomes.\")\n",
    "    print(\"- Ensure keywords match the Job Description.\")\n",
    "else:\n",
    "    print(\"\\n✅ This CV is already strong for the given role!\")\n"
   ]
  }
 ],
 "metadata": {
  "kaggle": {
   "accelerator": "nvidiaTeslaT4",
   "dataSources": [
    {
     "datasetId": 8571592,
     "sourceId": 13499998,
     "sourceType": "datasetVersion"
    },
    {
     "datasetId": 8572071,
     "sourceId": 13500728,
     "sourceType": "datasetVersion"
    },
    {
     "datasetId": 8573911,
     "sourceId": 13504193,
     "sourceType": "datasetVersion"
    },
    {
     "datasetId": 8573921,
     "sourceId": 13504206,
     "sourceType": "datasetVersion"
    },
    {
     "datasetId": 8573943,
     "sourceId": 13504233,
     "sourceType": "datasetVersion"
    },
    {
     "datasetId": 8573960,
     "sourceId": 13504258,
     "sourceType": "datasetVersion"
    },
    {
     "datasetId": 8574020,
     "sourceId": 13504349,
     "sourceType": "datasetVersion"
    },
    {
     "datasetId": 8574133,
     "sourceId": 13504511,
     "sourceType": "datasetVersion"
    }
   ],
   "dockerImageVersionId": 31154,
   "isGpuEnabled": true,
   "isInternetEnabled": true,
   "language": "python",
   "sourceType": "notebook"
  },
  "kernelspec": {
   "display_name": "Python 3",
   "language": "python",
   "name": "python3"
  },
  "language_info": {
   "codemirror_mode": {
    "name": "ipython",
    "version": 3
   },
   "file_extension": ".py",
   "mimetype": "text/x-python",
   "name": "python",
   "nbconvert_exporter": "python",
   "pygments_lexer": "ipython3",
   "version": "3.11.13"
  },
  "papermill": {
   "default_parameters": {},
   "duration": 2723.937492,
   "end_time": "2025-10-26T07:45:58.859628",
   "environment_variables": {},
   "exception": null,
   "input_path": "__notebook__.ipynb",
   "output_path": "__notebook__.ipynb",
   "parameters": {},
   "start_time": "2025-10-26T07:00:34.922136",
   "version": "2.6.0"
  },
  "widgets": {
   "application/vnd.jupyter.widget-state+json": {
    "state": {
     "047f8518ad4b4b6dbacc5e0298eb0429": {
      "model_module": "@jupyter-widgets/base",
      "model_module_version": "2.0.0",
      "model_name": "LayoutModel",
      "state": {
       "_model_module": "@jupyter-widgets/base",
       "_model_module_version": "2.0.0",
       "_model_name": "LayoutModel",
       "_view_count": null,
       "_view_module": "@jupyter-widgets/base",
       "_view_module_version": "2.0.0",
       "_view_name": "LayoutView",
       "align_content": null,
       "align_items": null,
       "align_self": null,
       "border_bottom": null,
       "border_left": null,
       "border_right": null,
       "border_top": null,
       "bottom": null,
       "display": null,
       "flex": null,
       "flex_flow": null,
       "grid_area": null,
       "grid_auto_columns": null,
       "grid_auto_flow": null,
       "grid_auto_rows": null,
       "grid_column": null,
       "grid_gap": null,
       "grid_row": null,
       "grid_template_areas": null,
       "grid_template_columns": null,
       "grid_template_rows": null,
       "height": null,
       "justify_content": null,
       "justify_items": null,
       "left": null,
       "margin": null,
       "max_height": null,
       "max_width": null,
       "min_height": null,
       "min_width": null,
       "object_fit": null,
       "object_position": null,
       "order": null,
       "overflow": null,
       "padding": null,
       "right": null,
       "top": null,
       "visibility": null,
       "width": null
      }
     },
     "13ff3abc6e7149a886cce978ad8fed9e": {
      "model_module": "@jupyter-widgets/controls",
      "model_module_version": "2.0.0",
      "model_name": "HBoxModel",
      "state": {
       "_dom_classes": [],
       "_model_module": "@jupyter-widgets/controls",
       "_model_module_version": "2.0.0",
       "_model_name": "HBoxModel",
       "_view_count": null,
       "_view_module": "@jupyter-widgets/controls",
       "_view_module_version": "2.0.0",
       "_view_name": "HBoxView",
       "box_style": "",
       "children": [
        "IPY_MODEL_f04ed16d91404eef9543ca772d31e932",
        "IPY_MODEL_ce3eb9f0f73f43e5bf596de468cc5db2",
        "IPY_MODEL_c55ce6ddf09e4acf8c4d08ff2ebe8242"
       ],
       "layout": "IPY_MODEL_f90ea098f9294fb29dba0d17fa235d5b",
       "tabbable": null,
       "tooltip": null
      }
     },
     "1d5e4267a9db42b9a378bf7002adffa9": {
      "model_module": "@jupyter-widgets/base",
      "model_module_version": "2.0.0",
      "model_name": "LayoutModel",
      "state": {
       "_model_module": "@jupyter-widgets/base",
       "_model_module_version": "2.0.0",
       "_model_name": "LayoutModel",
       "_view_count": null,
       "_view_module": "@jupyter-widgets/base",
       "_view_module_version": "2.0.0",
       "_view_name": "LayoutView",
       "align_content": null,
       "align_items": null,
       "align_self": null,
       "border_bottom": null,
       "border_left": null,
       "border_right": null,
       "border_top": null,
       "bottom": null,
       "display": null,
       "flex": null,
       "flex_flow": null,
       "grid_area": null,
       "grid_auto_columns": null,
       "grid_auto_flow": null,
       "grid_auto_rows": null,
       "grid_column": null,
       "grid_gap": null,
       "grid_row": null,
       "grid_template_areas": null,
       "grid_template_columns": null,
       "grid_template_rows": null,
       "height": null,
       "justify_content": null,
       "justify_items": null,
       "left": null,
       "margin": null,
       "max_height": null,
       "max_width": null,
       "min_height": null,
       "min_width": null,
       "object_fit": null,
       "object_position": null,
       "order": null,
       "overflow": null,
       "padding": null,
       "right": null,
       "top": null,
       "visibility": null,
       "width": null
      }
     },
     "50da69bbf382418fb4f2ad5c24321067": {
      "model_module": "@jupyter-widgets/base",
      "model_module_version": "2.0.0",
      "model_name": "LayoutModel",
      "state": {
       "_model_module": "@jupyter-widgets/base",
       "_model_module_version": "2.0.0",
       "_model_name": "LayoutModel",
       "_view_count": null,
       "_view_module": "@jupyter-widgets/base",
       "_view_module_version": "2.0.0",
       "_view_name": "LayoutView",
       "align_content": null,
       "align_items": null,
       "align_self": null,
       "border_bottom": null,
       "border_left": null,
       "border_right": null,
       "border_top": null,
       "bottom": null,
       "display": null,
       "flex": null,
       "flex_flow": null,
       "grid_area": null,
       "grid_auto_columns": null,
       "grid_auto_flow": null,
       "grid_auto_rows": null,
       "grid_column": null,
       "grid_gap": null,
       "grid_row": null,
       "grid_template_areas": null,
       "grid_template_columns": null,
       "grid_template_rows": null,
       "height": null,
       "justify_content": null,
       "justify_items": null,
       "left": null,
       "margin": null,
       "max_height": null,
       "max_width": null,
       "min_height": null,
       "min_width": null,
       "object_fit": null,
       "object_position": null,
       "order": null,
       "overflow": null,
       "padding": null,
       "right": null,
       "top": null,
       "visibility": null,
       "width": null
      }
     },
     "5504eeec670e4e719b2a2654ccf365cf": {
      "model_module": "@jupyter-widgets/controls",
      "model_module_version": "2.0.0",
      "model_name": "HTMLStyleModel",
      "state": {
       "_model_module": "@jupyter-widgets/controls",
       "_model_module_version": "2.0.0",
       "_model_name": "HTMLStyleModel",
       "_view_count": null,
       "_view_module": "@jupyter-widgets/base",
       "_view_module_version": "2.0.0",
       "_view_name": "StyleView",
       "background": null,
       "description_width": "",
       "font_size": null,
       "text_color": null
      }
     },
     "5cb926e0c4fb4efea2d990dfe4b1d91a": {
      "model_module": "@jupyter-widgets/controls",
      "model_module_version": "2.0.0",
      "model_name": "HTMLStyleModel",
      "state": {
       "_model_module": "@jupyter-widgets/controls",
       "_model_module_version": "2.0.0",
       "_model_name": "HTMLStyleModel",
       "_view_count": null,
       "_view_module": "@jupyter-widgets/base",
       "_view_module_version": "2.0.0",
       "_view_name": "StyleView",
       "background": null,
       "description_width": "",
       "font_size": null,
       "text_color": null
      }
     },
     "85057c61297a4763883c82a49485aef3": {
      "model_module": "@jupyter-widgets/controls",
      "model_module_version": "2.0.0",
      "model_name": "HTMLModel",
      "state": {
       "_dom_classes": [],
       "_model_module": "@jupyter-widgets/controls",
       "_model_module_version": "2.0.0",
       "_model_name": "HTMLModel",
       "_view_count": null,
       "_view_module": "@jupyter-widgets/controls",
       "_view_module_version": "2.0.0",
       "_view_name": "HTMLView",
       "description": "",
       "description_allow_html": false,
       "layout": "IPY_MODEL_50da69bbf382418fb4f2ad5c24321067",
       "placeholder": "​",
       "style": "IPY_MODEL_caa793b2d01c4a66be39df8a7e7d602a",
       "tabbable": null,
       "tooltip": null,
       "value": "config.json: 100%"
      }
     },
     "8cab001a3184475686d90be76b941f21": {
      "model_module": "@jupyter-widgets/base",
      "model_module_version": "2.0.0",
      "model_name": "LayoutModel",
      "state": {
       "_model_module": "@jupyter-widgets/base",
       "_model_module_version": "2.0.0",
       "_model_name": "LayoutModel",
       "_view_count": null,
       "_view_module": "@jupyter-widgets/base",
       "_view_module_version": "2.0.0",
       "_view_name": "LayoutView",
       "align_content": null,
       "align_items": null,
       "align_self": null,
       "border_bottom": null,
       "border_left": null,
       "border_right": null,
       "border_top": null,
       "bottom": null,
       "display": null,
       "flex": null,
       "flex_flow": null,
       "grid_area": null,
       "grid_auto_columns": null,
       "grid_auto_flow": null,
       "grid_auto_rows": null,
       "grid_column": null,
       "grid_gap": null,
       "grid_row": null,
       "grid_template_areas": null,
       "grid_template_columns": null,
       "grid_template_rows": null,
       "height": null,
       "justify_content": null,
       "justify_items": null,
       "left": null,
       "margin": null,
       "max_height": null,
       "max_width": null,
       "min_height": null,
       "min_width": null,
       "object_fit": null,
       "object_position": null,
       "order": null,
       "overflow": null,
       "padding": null,
       "right": null,
       "top": null,
       "visibility": null,
       "width": null
      }
     },
     "99609fa72a2c4e2b8a8bef8a2a29ed9c": {
      "model_module": "@jupyter-widgets/controls",
      "model_module_version": "2.0.0",
      "model_name": "FloatProgressModel",
      "state": {
       "_dom_classes": [],
       "_model_module": "@jupyter-widgets/controls",
       "_model_module_version": "2.0.0",
       "_model_name": "FloatProgressModel",
       "_view_count": null,
       "_view_module": "@jupyter-widgets/controls",
       "_view_module_version": "2.0.0",
       "_view_name": "ProgressView",
       "bar_style": "success",
       "description": "",
       "description_allow_html": false,
       "layout": "IPY_MODEL_1d5e4267a9db42b9a378bf7002adffa9",
       "max": 570.0,
       "min": 0.0,
       "orientation": "horizontal",
       "style": "IPY_MODEL_f05a71fb43a441a2a75a3afb45435a1e",
       "tabbable": null,
       "tooltip": null,
       "value": 570.0
      }
     },
     "af73cd410afb46668ccdbd453c471de9": {
      "model_module": "@jupyter-widgets/base",
      "model_module_version": "2.0.0",
      "model_name": "LayoutModel",
      "state": {
       "_model_module": "@jupyter-widgets/base",
       "_model_module_version": "2.0.0",
       "_model_name": "LayoutModel",
       "_view_count": null,
       "_view_module": "@jupyter-widgets/base",
       "_view_module_version": "2.0.0",
       "_view_name": "LayoutView",
       "align_content": null,
       "align_items": null,
       "align_self": null,
       "border_bottom": null,
       "border_left": null,
       "border_right": null,
       "border_top": null,
       "bottom": null,
       "display": null,
       "flex": null,
       "flex_flow": null,
       "grid_area": null,
       "grid_auto_columns": null,
       "grid_auto_flow": null,
       "grid_auto_rows": null,
       "grid_column": null,
       "grid_gap": null,
       "grid_row": null,
       "grid_template_areas": null,
       "grid_template_columns": null,
       "grid_template_rows": null,
       "height": null,
       "justify_content": null,
       "justify_items": null,
       "left": null,
       "margin": null,
       "max_height": null,
       "max_width": null,
       "min_height": null,
       "min_width": null,
       "object_fit": null,
       "object_position": null,
       "order": null,
       "overflow": null,
       "padding": null,
       "right": null,
       "top": null,
       "visibility": null,
       "width": null
      }
     },
     "b01280355b7240f2a0ac141f484d7870": {
      "model_module": "@jupyter-widgets/controls",
      "model_module_version": "2.0.0",
      "model_name": "ProgressStyleModel",
      "state": {
       "_model_module": "@jupyter-widgets/controls",
       "_model_module_version": "2.0.0",
       "_model_name": "ProgressStyleModel",
       "_view_count": null,
       "_view_module": "@jupyter-widgets/base",
       "_view_module_version": "2.0.0",
       "_view_name": "StyleView",
       "bar_color": null,
       "description_width": ""
      }
     },
     "b0c9a1d6462741949eb6e782d74daaf0": {
      "model_module": "@jupyter-widgets/base",
      "model_module_version": "2.0.0",
      "model_name": "LayoutModel",
      "state": {
       "_model_module": "@jupyter-widgets/base",
       "_model_module_version": "2.0.0",
       "_model_name": "LayoutModel",
       "_view_count": null,
       "_view_module": "@jupyter-widgets/base",
       "_view_module_version": "2.0.0",
       "_view_name": "LayoutView",
       "align_content": null,
       "align_items": null,
       "align_self": null,
       "border_bottom": null,
       "border_left": null,
       "border_right": null,
       "border_top": null,
       "bottom": null,
       "display": null,
       "flex": null,
       "flex_flow": null,
       "grid_area": null,
       "grid_auto_columns": null,
       "grid_auto_flow": null,
       "grid_auto_rows": null,
       "grid_column": null,
       "grid_gap": null,
       "grid_row": null,
       "grid_template_areas": null,
       "grid_template_columns": null,
       "grid_template_rows": null,
       "height": null,
       "justify_content": null,
       "justify_items": null,
       "left": null,
       "margin": null,
       "max_height": null,
       "max_width": null,
       "min_height": null,
       "min_width": null,
       "object_fit": null,
       "object_position": null,
       "order": null,
       "overflow": null,
       "padding": null,
       "right": null,
       "top": null,
       "visibility": null,
       "width": null
      }
     },
     "bb6adce5a2584582bc5c23804a498e70": {
      "model_module": "@jupyter-widgets/controls",
      "model_module_version": "2.0.0",
      "model_name": "HTMLModel",
      "state": {
       "_dom_classes": [],
       "_model_module": "@jupyter-widgets/controls",
       "_model_module_version": "2.0.0",
       "_model_name": "HTMLModel",
       "_view_count": null,
       "_view_module": "@jupyter-widgets/controls",
       "_view_module_version": "2.0.0",
       "_view_name": "HTMLView",
       "description": "",
       "description_allow_html": false,
       "layout": "IPY_MODEL_047f8518ad4b4b6dbacc5e0298eb0429",
       "placeholder": "​",
       "style": "IPY_MODEL_5cb926e0c4fb4efea2d990dfe4b1d91a",
       "tabbable": null,
       "tooltip": null,
       "value": " 570/570 [00:00&lt;00:00, 67.2kB/s]"
      }
     },
     "c55ce6ddf09e4acf8c4d08ff2ebe8242": {
      "model_module": "@jupyter-widgets/controls",
      "model_module_version": "2.0.0",
      "model_name": "HTMLModel",
      "state": {
       "_dom_classes": [],
       "_model_module": "@jupyter-widgets/controls",
       "_model_module_version": "2.0.0",
       "_model_name": "HTMLModel",
       "_view_count": null,
       "_view_module": "@jupyter-widgets/controls",
       "_view_module_version": "2.0.0",
       "_view_name": "HTMLView",
       "description": "",
       "description_allow_html": false,
       "layout": "IPY_MODEL_b0c9a1d6462741949eb6e782d74daaf0",
       "placeholder": "​",
       "style": "IPY_MODEL_5504eeec670e4e719b2a2654ccf365cf",
       "tabbable": null,
       "tooltip": null,
       "value": " 440M/440M [00:01&lt;00:00, 363MB/s]"
      }
     },
     "caa793b2d01c4a66be39df8a7e7d602a": {
      "model_module": "@jupyter-widgets/controls",
      "model_module_version": "2.0.0",
      "model_name": "HTMLStyleModel",
      "state": {
       "_model_module": "@jupyter-widgets/controls",
       "_model_module_version": "2.0.0",
       "_model_name": "HTMLStyleModel",
       "_view_count": null,
       "_view_module": "@jupyter-widgets/base",
       "_view_module_version": "2.0.0",
       "_view_name": "StyleView",
       "background": null,
       "description_width": "",
       "font_size": null,
       "text_color": null
      }
     },
     "cd3486ceab0545ad8a426def30ad8e3a": {
      "model_module": "@jupyter-widgets/base",
      "model_module_version": "2.0.0",
      "model_name": "LayoutModel",
      "state": {
       "_model_module": "@jupyter-widgets/base",
       "_model_module_version": "2.0.0",
       "_model_name": "LayoutModel",
       "_view_count": null,
       "_view_module": "@jupyter-widgets/base",
       "_view_module_version": "2.0.0",
       "_view_name": "LayoutView",
       "align_content": null,
       "align_items": null,
       "align_self": null,
       "border_bottom": null,
       "border_left": null,
       "border_right": null,
       "border_top": null,
       "bottom": null,
       "display": null,
       "flex": null,
       "flex_flow": null,
       "grid_area": null,
       "grid_auto_columns": null,
       "grid_auto_flow": null,
       "grid_auto_rows": null,
       "grid_column": null,
       "grid_gap": null,
       "grid_row": null,
       "grid_template_areas": null,
       "grid_template_columns": null,
       "grid_template_rows": null,
       "height": null,
       "justify_content": null,
       "justify_items": null,
       "left": null,
       "margin": null,
       "max_height": null,
       "max_width": null,
       "min_height": null,
       "min_width": null,
       "object_fit": null,
       "object_position": null,
       "order": null,
       "overflow": null,
       "padding": null,
       "right": null,
       "top": null,
       "visibility": null,
       "width": null
      }
     },
     "ce3eb9f0f73f43e5bf596de468cc5db2": {
      "model_module": "@jupyter-widgets/controls",
      "model_module_version": "2.0.0",
      "model_name": "FloatProgressModel",
      "state": {
       "_dom_classes": [],
       "_model_module": "@jupyter-widgets/controls",
       "_model_module_version": "2.0.0",
       "_model_name": "FloatProgressModel",
       "_view_count": null,
       "_view_module": "@jupyter-widgets/controls",
       "_view_module_version": "2.0.0",
       "_view_name": "ProgressView",
       "bar_style": "success",
       "description": "",
       "description_allow_html": false,
       "layout": "IPY_MODEL_8cab001a3184475686d90be76b941f21",
       "max": 440449768.0,
       "min": 0.0,
       "orientation": "horizontal",
       "style": "IPY_MODEL_b01280355b7240f2a0ac141f484d7870",
       "tabbable": null,
       "tooltip": null,
       "value": 440449768.0
      }
     },
     "f04ed16d91404eef9543ca772d31e932": {
      "model_module": "@jupyter-widgets/controls",
      "model_module_version": "2.0.0",
      "model_name": "HTMLModel",
      "state": {
       "_dom_classes": [],
       "_model_module": "@jupyter-widgets/controls",
       "_model_module_version": "2.0.0",
       "_model_name": "HTMLModel",
       "_view_count": null,
       "_view_module": "@jupyter-widgets/controls",
       "_view_module_version": "2.0.0",
       "_view_name": "HTMLView",
       "description": "",
       "description_allow_html": false,
       "layout": "IPY_MODEL_af73cd410afb46668ccdbd453c471de9",
       "placeholder": "​",
       "style": "IPY_MODEL_f6bba8a48c3d4322b7e61084c20ca337",
       "tabbable": null,
       "tooltip": null,
       "value": "model.safetensors: 100%"
      }
     },
     "f05a71fb43a441a2a75a3afb45435a1e": {
      "model_module": "@jupyter-widgets/controls",
      "model_module_version": "2.0.0",
      "model_name": "ProgressStyleModel",
      "state": {
       "_model_module": "@jupyter-widgets/controls",
       "_model_module_version": "2.0.0",
       "_model_name": "ProgressStyleModel",
       "_view_count": null,
       "_view_module": "@jupyter-widgets/base",
       "_view_module_version": "2.0.0",
       "_view_name": "StyleView",
       "bar_color": null,
       "description_width": ""
      }
     },
     "f6bba8a48c3d4322b7e61084c20ca337": {
      "model_module": "@jupyter-widgets/controls",
      "model_module_version": "2.0.0",
      "model_name": "HTMLStyleModel",
      "state": {
       "_model_module": "@jupyter-widgets/controls",
       "_model_module_version": "2.0.0",
       "_model_name": "HTMLStyleModel",
       "_view_count": null,
       "_view_module": "@jupyter-widgets/base",
       "_view_module_version": "2.0.0",
       "_view_name": "StyleView",
       "background": null,
       "description_width": "",
       "font_size": null,
       "text_color": null
      }
     },
     "f90ea098f9294fb29dba0d17fa235d5b": {
      "model_module": "@jupyter-widgets/base",
      "model_module_version": "2.0.0",
      "model_name": "LayoutModel",
      "state": {
       "_model_module": "@jupyter-widgets/base",
       "_model_module_version": "2.0.0",
       "_model_name": "LayoutModel",
       "_view_count": null,
       "_view_module": "@jupyter-widgets/base",
       "_view_module_version": "2.0.0",
       "_view_name": "LayoutView",
       "align_content": null,
       "align_items": null,
       "align_self": null,
       "border_bottom": null,
       "border_left": null,
       "border_right": null,
       "border_top": null,
       "bottom": null,
       "display": null,
       "flex": null,
       "flex_flow": null,
       "grid_area": null,
       "grid_auto_columns": null,
       "grid_auto_flow": null,
       "grid_auto_rows": null,
       "grid_column": null,
       "grid_gap": null,
       "grid_row": null,
       "grid_template_areas": null,
       "grid_template_columns": null,
       "grid_template_rows": null,
       "height": null,
       "justify_content": null,
       "justify_items": null,
       "left": null,
       "margin": null,
       "max_height": null,
       "max_width": null,
       "min_height": null,
       "min_width": null,
       "object_fit": null,
       "object_position": null,
       "order": null,
       "overflow": null,
       "padding": null,
       "right": null,
       "top": null,
       "visibility": null,
       "width": null
      }
     },
     "fd5c8773b01d402d879ed22f52b1e1cb": {
      "model_module": "@jupyter-widgets/controls",
      "model_module_version": "2.0.0",
      "model_name": "HBoxModel",
      "state": {
       "_dom_classes": [],
       "_model_module": "@jupyter-widgets/controls",
       "_model_module_version": "2.0.0",
       "_model_name": "HBoxModel",
       "_view_count": null,
       "_view_module": "@jupyter-widgets/controls",
       "_view_module_version": "2.0.0",
       "_view_name": "HBoxView",
       "box_style": "",
       "children": [
        "IPY_MODEL_85057c61297a4763883c82a49485aef3",
        "IPY_MODEL_99609fa72a2c4e2b8a8bef8a2a29ed9c",
        "IPY_MODEL_bb6adce5a2584582bc5c23804a498e70"
       ],
       "layout": "IPY_MODEL_cd3486ceab0545ad8a426def30ad8e3a",
       "tabbable": null,
       "tooltip": null
      }
     }
    },
    "version_major": 2,
    "version_minor": 0
   }
  }
 },
 "nbformat": 4,
 "nbformat_minor": 5
}
